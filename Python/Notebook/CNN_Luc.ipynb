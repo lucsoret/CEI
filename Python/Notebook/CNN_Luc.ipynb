{
 "cells": [
  {
   "cell_type": "markdown",
   "metadata": {},
   "source": [
    "__Toutes les fonctions définies dans le notebook pre_processing sont mises dans un fichier Python qu'on importe__"
   ]
  },
  {
   "cell_type": "code",
   "execution_count": 1,
   "metadata": {},
   "outputs": [],
   "source": [
    "import os\n",
    "import dicom\n",
    "import pylab\n",
    "import os\n",
    "import numpy as np\n",
    "import matplotlib.pyplot as plt\n",
    "\n",
    "from scipy import ndimage as ndi\n",
    "from skimage.filters import roberts, sobel\n",
    "from skimage.segmentation import clear_border\n",
    "from skimage.morphology import ball, disk, dilation, binary_erosion, remove_small_objects, erosion, closing, reconstruction, binary_closing\n",
    "\n",
    "import pre_processing as pp"
   ]
  },
  {
   "cell_type": "code",
   "execution_count": 3,
   "metadata": {},
   "outputs": [],
   "source": [
    "INPUT_FOLDER = '/home/lucsoret/Projet/Supelec/CEI/Data/sample_images'\n",
    "patients = os.listdir(INPUT_FOLDER)\n",
    "patients.sort()"
   ]
  },
  {
   "cell_type": "code",
   "execution_count": 8,
   "metadata": {},
   "outputs": [],
   "source": [
    "first_patient_path = os.path.join(INPUT_FOLDER,patients[0])\n",
    "first_patient = pp.load_scan(first_patient_path)\n",
    "total_images = os.listdir(first_patient_path)\n",
    "\n",
    "\n",
    "first_patient_image =  pp.PixelData_to_HU(first_patient)\n",
    "image =  np.stack([pp.center(pp.normalize(pp.get_segmented_lungs(s))) for s in first_patient_image])\n",
    "image,spacing = pp.resample(image,first_patient)"
   ]
  },
  {
   "cell_type": "markdown",
   "metadata": {},
   "source": [
    "Premier problème : Nombre de slices différentes d'un patient à l'autre (meme après resample) :"
   ]
  },
  {
   "cell_type": "code",
   "execution_count": 11,
   "metadata": {},
   "outputs": [
    {
     "name": "stdout",
     "output_type": "stream",
     "text": [
      "(335, 306, 306)\n",
      "(320, 347, 347)\n",
      "(332, 340, 340)\n",
      "(275, 320, 320)\n",
      "(365, 279, 279)\n",
      "(353, 360, 360)\n",
      "(350, 340, 340)\n",
      "(308, 355, 355)\n",
      "(328, 360, 360)\n",
      "(305, 390, 390)\n",
      "(272, 330, 330)\n",
      "(360, 350, 350)\n",
      "(398, 309, 309)\n",
      "(294, 300, 300)\n",
      "(304, 424, 424)\n",
      "(366, 370, 370)\n",
      "(315, 310, 310)\n",
      "(354, 259, 259)\n",
      "(342, 392, 392)\n",
      "(282, 308, 308)\n"
     ]
    }
   ],
   "source": [
    "L = len(patients)\n",
    "for i in range(L):\n",
    "    first_patient_path = os.path.join(INPUT_FOLDER,patients[i])\n",
    "    first_patient = pp.load_scan(first_patient_path)\n",
    "    first_patient_image = pp.PixelData_to_HU(first_patient)\n",
    "    image = np.stack(s for s in first_patient_image)\n",
    "    image,spacing = pp.resample(image,first_patient)\n",
    "    print(image.shape)\n"
   ]
  },
  {
   "cell_type": "markdown",
   "metadata": {},
   "source": [
    "L'avantage de notre re-sampling, c'est qu'on a des images homogènes en distance réel d'un scan à l'autre. De plus, cela permet de \"condenser\" un peu nos tenseurs qui ont des tailles assez semblables après resampling. La méthode la plus basique alors va être d'effectuer un __zero_pading__, pour avoir des données de même taille "
   ]
  },
  {
   "cell_type": "code",
   "execution_count": 59,
   "metadata": {},
   "outputs": [],
   "source": [
    "def zero_padding(im,max_z=400,max_x=450,max_y=450):\n",
    "    #Les dimensions sont prises empiriquement, au vu des shape montrees precedemment \n",
    "    borders = (max_z,max_x,max_y)\n",
    "    fill_total = [[0,0],[0,0],[0,0]]\n",
    "    for i in range(3):\n",
    "        current_shape = im.shape[i]\n",
    "        if (current_shape < borders[i]):\n",
    "            fill = borders[i] - current_shape\n",
    "            fill_left = fill/2\n",
    "            fill_right = fill/2 + fill % 2\n",
    "            fill_total[i] = (fill_left,fill_right)\n",
    "    im = np.pad(im,((fill_total[0][0],fill_total[0][1]),(fill_total[1][0],fill_total[1][1]),(fill_total[2][0],fill_total[2][1])),'constant',constant_values=0)\n",
    "    #Si jamais notre image depasse les dimensions du zero padding, on va la cut de base\n",
    "    im = im[0:max_z,0:max_x,0:max_y]\n",
    "    return im"
   ]
  },
  {
   "cell_type": "code",
   "execution_count": 63,
   "metadata": {},
   "outputs": [],
   "source": [
    "i = 10\n",
    "first_patient_path = os.path.join(INPUT_FOLDER,patients[i])\n",
    "first_patient = pp.load_scan(first_patient_path)\n",
    "first_patient_image = pp.PixelData_to_HU(first_patient)\n",
    "image = np.stack(s for s in first_patient_image)\n",
    "image,spacing = pp.resample(image,first_patient)\n",
    "zero_padding(image)"
   ]
  }
 ],
 "metadata": {
  "kernelspec": {
   "display_name": "Python 3",
   "language": "python",
   "name": "python3"
  },
  "language_info": {
   "codemirror_mode": {
    "name": "ipython",
    "version": 2
   },
   "file_extension": ".py",
   "mimetype": "text/x-python",
   "name": "python",
   "nbconvert_exporter": "python",
   "pygments_lexer": "ipython2",
   "version": "2.7.14"
  }
 },
 "nbformat": 4,
 "nbformat_minor": 2
}
