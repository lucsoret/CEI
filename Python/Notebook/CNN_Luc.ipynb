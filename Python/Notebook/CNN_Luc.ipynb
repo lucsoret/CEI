{
 "cells": [
  {
   "cell_type": "markdown",
   "metadata": {},
   "source": [
    "__Toutes les fonctions définies dans le notebook pre_processing sont mises dans un fichier Python qu'on importe__"
   ]
  },
  {
   "cell_type": "code",
   "execution_count": 1,
   "metadata": {},
   "outputs": [],
   "source": [
    "import os\n",
    "import dicom\n",
    "import pylab\n",
    "import os\n",
    "import numpy as np\n",
    "import matplotlib.pyplot as plt\n",
    "\n",
    "from scipy import ndimage as ndi\n",
    "from skimage.filters import roberts, sobel\n",
    "from skimage.segmentation import clear_border\n",
    "from skimage.morphology import ball, disk, dilation, binary_erosion, remove_small_objects, erosion, closing, reconstruction, binary_closing\n",
    "\n",
    "import pre_processing as pp"
   ]
  },
  {
   "cell_type": "code",
   "execution_count": 2,
   "metadata": {},
   "outputs": [],
   "source": [
    "INPUT_FOLDER = '/home/lucsoret/Projet/Supelec/CEI/Data/sample_images'\n",
    "patients = os.listdir(INPUT_FOLDER)\n",
    "patients.sort()"
   ]
  },
  {
   "cell_type": "code",
   "execution_count": 34,
   "metadata": {},
   "outputs": [],
   "source": [
    "first_patient_path = os.path.join(INPUT_FOLDER,patients[0])\n",
    "first_patient = pp.load_scan(first_patient_path)\n",
    "total_images = os.listdir(first_patient_path)\n",
    "\n",
    "\n",
    "first_patient_image =  pp.PixelData_to_HU(first_patient)\n",
    "image =  np.stack([pp.center(pp.normalize(pp.get_segmented_lungs(s))) for s in first_patient_image])"
   ]
  },
  {
   "cell_type": "markdown",
   "metadata": {},
   "source": [
    "Premier problème : Nombre de slices différentes d'un patient à l'autre :"
   ]
  },
  {
   "cell_type": "code",
   "execution_count": 48,
   "metadata": {},
   "outputs": [
    {
     "name": "stdout",
     "output_type": "stream",
     "text": [
      "435\n"
     ]
    }
   ],
   "source": [
    "L = len(patients)\n",
    "Max_Slices = 0\n",
    "for i in range(L):\n",
    "    Max_Slices = len(os.listdir(os.path.join(INPUT_FOLDER,patients[i]))),Max_Slices)\n",
    "\n",
    "print(Max_Slices)"
   ]
  },
  {
   "cell_type": "markdown",
   "metadata": {},
   "source": [
    "En fait, c'est problématique pour plusieurs raisons"
   ]
  }
 ],
 "metadata": {
  "kernelspec": {
   "display_name": "Python 3",
   "language": "python",
   "name": "python3"
  },
  "language_info": {
   "codemirror_mode": {
    "name": "ipython",
    "version": 2
   },
   "file_extension": ".py",
   "mimetype": "text/x-python",
   "name": "python",
   "nbconvert_exporter": "python",
   "pygments_lexer": "ipython2",
   "version": "2.7.14"
  }
 },
 "nbformat": 4,
 "nbformat_minor": 2
}
