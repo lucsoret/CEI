{
 "cells": [
  {
   "cell_type": "code",
   "execution_count": 297,
   "metadata": {
    "collapsed": true
   },
   "outputs": [],
   "source": [
    "import os\n",
    "import matplotlib.pyplot as plt\n",
    "import numpy as np\n",
    "from skimage.measure import label,regionprops\n",
    "from skimage import measure\n",
    "from mpl_toolkits.mplot3d.art3d import Poly3DCollection\n",
    "from scipy.spatial import distance"
   ]
  },
  {
   "cell_type": "code",
   "execution_count": 298,
   "metadata": {
    "collapsed": true
   },
   "outputs": [],
   "source": [
    "def plot_3d(image, threshold=-300):\n",
    "    \n",
    "    # Position the scan upright, \n",
    "    # so the head of the patient would be at the top facing the camera\n",
    "    p = image.transpose(2,1,0)\n",
    "    p = p[:,:,::-1]\n",
    "    \n",
    "    verts, faces, x, y = measure.marching_cubes(p, threshold)\n",
    "    fig = plt.figure(figsize=(10, 10))\n",
    "    ax = fig.add_subplot(111, projection='3d')\n",
    "\n",
    "    # Fancy indexing: `verts[faces]` to generate a collection of triangles\n",
    "    mesh = Poly3DCollection(verts[faces], alpha=0.7)\n",
    "    face_color = [0.45, 0.45, 0.75]\n",
    "    mesh.set_facecolor(face_color)\n",
    "    ax.add_collection3d(mesh)\n",
    "\n",
    "    ax.set_xlim(0, p.shape[0])\n",
    "    ax.set_ylim(0, p.shape[1])\n",
    "    ax.set_zlim(0, p.shape[2])\n",
    "\n",
    "    plt.show()"
   ]
  },
  {
   "cell_type": "markdown",
   "metadata": {},
   "source": [
    "## Import de nodule_mask.npzet lung_img.npz"
   ]
  },
  {
   "cell_type": "code",
   "execution_count": 299,
   "metadata": {
    "collapsed": true
   },
   "outputs": [],
   "source": [
    "INPUT_FOLDER = '/Users/anthonypamart/Documents/SIR/Projets/CEI/Taff 15 mars/slices'\n",
    "patients_short = os.listdir(INPUT_FOLDER)\n",
    "\n",
    "images = os.listdir(INPUT_FOLDER)\n",
    "images_path = [os.path.join(INPUT_FOLDER,patient) for patient in patients_short]"
   ]
  },
  {
   "cell_type": "code",
   "execution_count": 300,
   "metadata": {
    "collapsed": true
   },
   "outputs": [],
   "source": [
    "##TEST\n",
    "INPUT_FOLDER_TEST = '/Users/anthonypamart/Documents/SIR/Projets/CEI/Taff 15 mars/Test_2eme_CNN'\n",
    "patients_short_test = os.listdir(INPUT_FOLDER_TEST)\n",
    "\n",
    "images_test = os.listdir(INPUT_FOLDER_TEST)\n",
    "images_path_nodule_mask_test = [os.path.join(INPUT_FOLDER_TEST,patient) for patient in patients_short_test]"
   ]
  },
  {
   "cell_type": "code",
   "execution_count": 301,
   "metadata": {
    "collapsed": true
   },
   "outputs": [],
   "source": [
    "##TEST 2\n",
    "\n",
    "LUNG_FOLDER_TEST = '/Users/anthonypamart/Documents/SIR/Projets/CEI/Donnees Kaggle dans UNET/Lung_img dans UNET/'\n",
    "MASK_FOLDER_TEST = '/Users/anthonypamart/Documents/SIR/Projets/CEI/Donnees Kaggle dans UNET/Mask_Nodule en sortie/'\n",
    "\n",
    "#lung_short_test = os.listdir(LUNG_FOLDER_TEST)\n",
    "#mask_short_test = os.listdir(MASK_FOLDER_TEST)\n",
    "\n",
    "lung_images_test = os.listdir(LUNG_FOLDER_TEST)\n",
    "mask_images_test = os.listdir(MASK_FOLDER_TEST)\n",
    "\n",
    "mask_images_test.sort()\n",
    "del mask_images_test[0] ##Pour supprimer le .DS_Store\n",
    "lung_images_test.sort()\n",
    "\n",
    "images_path_lung_img = [os.path.join(LUNG_FOLDER_TEST,lung) for lung in lung_images_test]\n",
    "images_path_nodule_mask = [os.path.join(MASK_FOLDER_TEST,mask) for mask in mask_images_test]"
   ]
  },
  {
   "cell_type": "code",
   "execution_count": null,
   "metadata": {
    "collapsed": true,
    "scrolled": true
   },
   "outputs": [],
   "source": [
    "##On crée 2 listes dans lesquels on écrit respectivement les paths des lung_img et les paths des nodule_mask \n",
    "images_path_lung_img = []\n",
    "images_path_nodule_mask = []\n",
    "for i in range(0,len(images_path)):\n",
    "    if(images_path[i][-19:-8]=='nodule_mask'):\n",
    "        images_path_nodule_mask.append(images_path[i])\n",
    "    elif(images_path[i][-16:-8]=='lung_img'):\n",
    "        images_path_lung_img.append(images_path[i])\n",
    "    else:\n",
    "        print(images_path[i])\n",
    "        \n",
    "##On sort ces listes pour avoir les slices d'un meme patient côte à côte\n",
    "images_path_lung_img.sort()\n",
    "images_path_nodule_mask.sort()"
   ]
  },
  {
   "cell_type": "code",
   "execution_count": 296,
   "metadata": {
    "collapsed": true
   },
   "outputs": [],
   "source": [
    "##TEST\n",
    "images_path_lung_img_test = images_path_lung_img[99:116]\n",
    "images_path_nodule_mask_test.sort()\n",
    "#images_path_nodule_mask_test\n",
    "#images_path_lung_img_test\n",
    "\n",
    "images_path_lung_img = images_path_lung_img_test[:]\n",
    "images_path_nodule_mask = images_path_nodule_mask_test[:]"
   ]
  },
  {
   "cell_type": "code",
   "execution_count": null,
   "metadata": {
    "collapsed": true
   },
   "outputs": [],
   "source": [
    "## Liste des id des patients\n",
    "id_patients = []\n",
    "for i in range(0,len(images_path_lung_img)):\n",
    "    id_patients.append(images_path_lung_img[i][67:131])\n",
    "id_patients = list(set(id_patients)) ##On tej les doublons"
   ]
  },
  {
   "cell_type": "code",
   "execution_count": null,
   "metadata": {
    "collapsed": true
   },
   "outputs": [],
   "source": [
    "#plt.imshow(np.load(images_path_nodule_mask[110]), cmap = plt.cm.bone)\n",
    "#plt.show()"
   ]
  },
  {
   "cell_type": "code",
   "execution_count": null,
   "metadata": {
    "collapsed": true
   },
   "outputs": [],
   "source": [
    "#plt.imshow(np.load(images_path_lung_img[110]), cmap = plt.cm.bone)\n",
    "#plt.show()"
   ]
  },
  {
   "cell_type": "code",
   "execution_count": 276,
   "metadata": {
    "collapsed": true
   },
   "outputs": [],
   "source": [
    "##PAS A METTRE DANS LE SCRIPT\n",
    "\n",
    "##On charge nos .npz dans un numpy array\n",
    "\n",
    "#nodule_mask = np.load(images_path_nodule_mask[110])\n",
    "#lung_img = np.load(images_path_lung_img[110])\n",
    "\n",
    "nodule_mask = np.load(images_path_nodule_mask[16])\n",
    "lung_img = np.load(images_path_lung_img[16])"
   ]
  },
  {
   "cell_type": "code",
   "execution_count": 277,
   "metadata": {
    "collapsed": true
   },
   "outputs": [],
   "source": [
    "##TEST\n",
    "nodule_mask = nodule_mask.reshape((512,512))\n",
    "lung_img = lung_img.reshape((512,512))"
   ]
  },
  {
   "cell_type": "code",
   "execution_count": 278,
   "metadata": {
    "collapsed": true
   },
   "outputs": [],
   "source": [
    "##TEST\n",
    "for i in range(0, nodule_mask.shape[0]):\n",
    "    for j in range(0, nodule_mask.shape[1]):\n",
    "        if(nodule_mask[i][j] < 0.1 or i > 500 or j >500):\n",
    "            nodule_mask[i][j] = 0\n",
    "        else:\n",
    "            nodule_mask[i][j] = 1"
   ]
  },
  {
   "cell_type": "markdown",
   "metadata": {},
   "source": [
    "## Application d'un nodule_mask à une lung_img.npz"
   ]
  },
  {
   "cell_type": "code",
   "execution_count": 279,
   "metadata": {
    "collapsed": true
   },
   "outputs": [],
   "source": [
    "##Applique le nodule_mask au lung_img et renvoie donc le nodule_segmented\n",
    "def get_nodule_segmented(nodule_mask,lung_img):\n",
    "    nodule_segmented = lung_img.copy()\n",
    "    for i in range(0,len(nodule_segmented)):\n",
    "        for j in range(0,len(nodule_segmented)):\n",
    "            if(nodule_mask[i][j]==0.0):\n",
    "                nodule_segmented[i][j]=0.0\n",
    "    return nodule_segmented"
   ]
  },
  {
   "cell_type": "code",
   "execution_count": 280,
   "metadata": {
    "collapsed": true
   },
   "outputs": [],
   "source": [
    "##PAS A METTRE DANS LE SCRIPT\n",
    "nodule_segmented = get_nodule_segmented(nodule_mask,lung_img)"
   ]
  },
  {
   "cell_type": "code",
   "execution_count": 281,
   "metadata": {
    "scrolled": true
   },
   "outputs": [
    {
     "data": {
      "image/png": "[encoded data removed]",
      "text/plain": [
       "<matplotlib.figure.Figure at 0x10eacedd0>"
      ]
     },
     "metadata": {},
     "output_type": "display_data"
    }
   ],
   "source": [
    "plt.imshow(nodule_segmented, cmap = plt.cm.bone)\n",
    "plt.show()"
   ]
  },
  {
   "cell_type": "code",
   "execution_count": 282,
   "metadata": {
    "collapsed": true
   },
   "outputs": [],
   "source": [
    "##Prend le nodule mask et renvoie les coordonnées des centres des nodules présents et le nb de nodules présents\n",
    "def get_centers_nodules(nodule_mask):\n",
    "    label_scan = label(nodule_mask)\n",
    "    areas = [r.area for r in regionprops(label_scan)]\n",
    "    #areas.sort()\n",
    "    center_full = [r.centroid  for r in regionprops(label_scan)]\n",
    "    nb_nodules = len(center_full)\n",
    "    return center_full, nb_nodules"
   ]
  },
  {
   "cell_type": "code",
   "execution_count": 283,
   "metadata": {},
   "outputs": [
    {
     "ename": "SyntaxError",
     "evalue": "EOF while scanning triple-quoted string literal (<ipython-input-283-e003c2f7992f>, line 24)",
     "output_type": "error",
     "traceback": [
      "\u001b[0;36m  File \u001b[0;32m\"<ipython-input-283-e003c2f7992f>\"\u001b[0;36m, line \u001b[0;32m24\u001b[0m\n\u001b[0;31m    \"\"\"\"\"\"\u001b[0m\n\u001b[0m          \n^\u001b[0m\n\u001b[0;31mSyntaxError\u001b[0m\u001b[0;31m:\u001b[0m EOF while scanning triple-quoted string literal\n"
     ]
    }
   ],
   "source": [
    "\"\"\"\"\"\n",
    "##PAS A METTRE DANS LE SCRIPT\n",
    "\n",
    "##Calcule le nombre max de nodules dans toutes les slices\n",
    "a = []\n",
    "cnt1=0\n",
    "cnt2=0\n",
    "cnt=0\n",
    "for i in range(0,len(images_path_nodule_mask)):\n",
    "    nodule_mask = np.load(images_path_nodule_mask[i])\n",
    "    center_full, nb_nodules = get_centers_nodules(nodule_mask)\n",
    "    a.append(len(center_full))\n",
    "    if(len(center_full)==1):\n",
    "       cnt1 += 1\n",
    "    elif(len(center_full)==2):\n",
    "       cnt2 += 1\n",
    "    else:\n",
    "       cnt += 1\n",
    "print 'max a = ', max(a)\n",
    "print 'cnt1 = ', cnt1\n",
    "print 'cnt2 = ', cnt2\n",
    "print 'cnt = ', cnt\n",
    "print(a)\n",
    "\"\"\"\"\"\""
   ]
  },
  {
   "cell_type": "code",
   "execution_count": 284,
   "metadata": {
    "collapsed": true
   },
   "outputs": [],
   "source": [
    "##PAS A METTRE DANS LE SCRIPT\n",
    "center_full, nb_nodules = get_centers_nodules(nodule_mask)"
   ]
  },
  {
   "cell_type": "code",
   "execution_count": 287,
   "metadata": {
    "collapsed": true
   },
   "outputs": [],
   "source": [
    "##PAS A METTRE DANS LE SCRIPT\n",
    "\n",
    "##On prend un patch 2D de taille 16x16 autour de chaque nodule détecté\n",
    "SIZE_PATCH = 32\n",
    "\n",
    "##Attention à bien prendre toujours les coordonnees du centre d'un meme nodule, visualisez center_full pour être sur\n",
    "first_nodule = nodule_segmented[int(center_full[0][0])-SIZE_PATCH/2:int(center_full[0][0])+SIZE_PATCH/2,int(center_full[0][1])-SIZE_PATCH/2:int(center_full[0][1])+SIZE_PATCH/2]\n",
    "#second_nodule = nodule_segmented[int(center_full[1][0])-SIZE_PATCH/2:int(center_full[1][0])+SIZE_PATCH/2,int(center_full[1][1])-SIZE_PATCH/2:int(center_full[1][1])+SIZE_PATCH/2]"
   ]
  },
  {
   "cell_type": "code",
   "execution_count": 288,
   "metadata": {
    "scrolled": true
   },
   "outputs": [
    {
     "data": {
      "image/png": "[encoded data removed]",
      "text/plain": [
       "<matplotlib.figure.Figure at 0x10eca4550>"
      ]
     },
     "metadata": {},
     "output_type": "display_data"
    }
   ],
   "source": [
    "plt.imshow(first_nodule, cmap = plt.cm.bone)\n",
    "plt.show()"
   ]
  },
  {
   "cell_type": "markdown",
   "metadata": {},
   "source": [
    "## Passage en 3D"
   ]
  },
  {
   "cell_type": "markdown",
   "metadata": {},
   "source": [
    "- On prendra tout au long l'exemple du patient dont les slices se retrouvent avec \"images_path_nodule_mask[99:116]\"\n",
    "- (on a sorté images_path_nodule_mask au début du notebook)    \n",
    "- (ID de ce patient : 1.3.6.1.4.1.14519.5.2.1.6279.6001.137763212752154081977261297097), correspond à id_patients[13]"
   ]
  },
  {
   "cell_type": "code",
   "execution_count": 130,
   "metadata": {
    "collapsed": true
   },
   "outputs": [],
   "source": [
    "##Pour récupérer le path des lung_img pour le patient dont on précise l'ID\n",
    "def get_patients_path_lung_img(images_path_lung_img, ID='1.3.6.1.4.1.14519.5.2.1.6279.6001.137763212752154081977261297097'):\n",
    "    patients_path_lung_img = []\n",
    "    for i in range(0,len(images_path_lung_img)):\n",
    "        #if(images_path_lung_img[i][67:131]==id_patients[0]):\n",
    "        if(images_path_lung_img[i][67:131]==ID):\n",
    "            patients_path_lung_img.append(images_path_lung_img[i])\n",
    "    patients_path_lung_img.sort()\n",
    "    return patients_path_lung_img"
   ]
  },
  {
   "cell_type": "code",
   "execution_count": 131,
   "metadata": {
    "collapsed": true
   },
   "outputs": [],
   "source": [
    "##Pour récupérer le path des nodule_mask pour le patient dont on précise l'ID\n",
    "def get_patients_path_nodule_mask(images_path_nodule_mask, ID='1.3.6.1.4.1.14519.5.2.1.6279.6001.137763212752154081977261297097'):\n",
    "    patients_path_nodule_mask = []\n",
    "    for i in range(0,len(images_path_nodule_mask)):\n",
    "        if(images_path_nodule_mask[i][67:131]==ID):\n",
    "            patients_path_nodule_mask.append(images_path_nodule_mask[i])\n",
    "    patients_path_nodule_mask.sort()\n",
    "    return patients_path_nodule_mask"
   ]
  },
  {
   "cell_type": "markdown",
   "metadata": {},
   "source": [
    "### Inspection des patients qui ont 2 nodules, pour voir comment sélectionner un de ces 2 nodules"
   ]
  },
  {
   "cell_type": "code",
   "execution_count": null,
   "metadata": {
    "collapsed": true
   },
   "outputs": [],
   "source": [
    "##PAS A METTRE DANS LE SCRIPT\n",
    "\n",
    "list_patients_path_nodule_mask = []\n",
    "for i in range(0, len(id_patients)):\n",
    "    list_patients_path_nodule_mask.append(get_patients_path_nodule_mask(images_path_nodule_mask, ID=id_patients[i]))"
   ]
  },
  {
   "cell_type": "code",
   "execution_count": null,
   "metadata": {
    "collapsed": true
   },
   "outputs": [],
   "source": [
    "#for i in range(0, len(list_patients_path_nodule_mask)):\n",
    "    #print(len(list_patients_path_nodule_mask[i]))"
   ]
  },
  {
   "cell_type": "code",
   "execution_count": null,
   "metadata": {
    "collapsed": true
   },
   "outputs": [],
   "source": [
    "max([len(list_patients_path_nodule_mask[i]) for i in range(0, (len(list_patients_path_nodule_mask)))])"
   ]
  },
  {
   "cell_type": "code",
   "execution_count": null,
   "metadata": {
    "collapsed": true
   },
   "outputs": [],
   "source": [
    "##PAS A METTRE DANS LE SCRIPT\n",
    "\n",
    "b = np.zeros((len(list_patients_path_nodule_mask), max([len(list_patients_path_nodule_mask[i]) for i in range(0, (len(list_patients_path_nodule_mask)))])))\n",
    "cnt1=[0]*len(list_patients_path_nodule_mask)\n",
    "cnt2=[0]*len(list_patients_path_nodule_mask)\n",
    "cnt=[0]*len(list_patients_path_nodule_mask)\n",
    "for j in range(0, len(list_patients_path_nodule_mask)):\n",
    "    for i in range(0,len(list_patients_path_nodule_mask[j])):\n",
    "        nodule_mask = np.load(list_patients_path_nodule_mask[j][i])\n",
    "        center_full, nb_nodules = get_centers_nodules(nodule_mask)\n",
    "        b[j][i] = len(center_full)\n",
    "        if(len(center_full)==1):\n",
    "           cnt1[j] += 1\n",
    "        elif(len(center_full)==2):\n",
    "           cnt2[j] += 1\n",
    "        else:\n",
    "           cnt[j] += 1\n",
    "    #print 'max b = ', max(b[j])\n",
    "    #print 'cnt1 = ', cnt1[j]\n",
    "    #print 'cnt2 = ', cnt2[j]\n",
    "    #print 'cnt = ', cnt[j]\n",
    "    if max(b[j])==2:\n",
    "        print(j)\n",
    "        print(b[j])\n",
    "        print('---------')"
   ]
  },
  {
   "cell_type": "code",
   "execution_count": null,
   "metadata": {
    "collapsed": true
   },
   "outputs": [],
   "source": []
  },
  {
   "cell_type": "markdown",
   "metadata": {},
   "source": [
    "### Fin de l'inspection -> pour slice 0, les patients 6, 8, 13, 29, 30 et 47 ont 2 nodules (6 sur 67)"
   ]
  },
  {
   "cell_type": "code",
   "execution_count": null,
   "metadata": {
    "collapsed": true
   },
   "outputs": [],
   "source": [
    "##PAS A METTRE DANS LE SCRIPT\n",
    "\n",
    "patients_path_lung_img = get_patients_path_lung_img(images_path_lung_img, id_patients[6])\n",
    "patients_path_nodule_mask = get_patients_path_nodule_mask(images_path_nodule_mask, id_patients[6])\n",
    "\n",
    "#patients_path_lung_img = get_patients_path_lung_img(images_path_lung_img)\n",
    "#patients_path_nodule_mask = get_patients_path_nodule_mask(images_path_nodule_mask)"
   ]
  },
  {
   "cell_type": "code",
   "execution_count": 302,
   "metadata": {
    "collapsed": true
   },
   "outputs": [],
   "source": [
    "##TEST\n",
    "\n",
    "patients_path_lung_img = images_path_lung_img[:]\n",
    "patients_path_nodule_mask = images_path_nodule_mask[:]"
   ]
  },
  {
   "cell_type": "code",
   "execution_count": 290,
   "metadata": {
    "collapsed": true
   },
   "outputs": [],
   "source": [
    "##Pour le patient pris en exemple, on construit nodule_mask_3D, lung_img_3D et nodule_segmented_3D\n",
    "\n",
    "##On met en entrée le path des nodule_mask du patient et on a en sortie un np array 3D avec le nodule mask (2D)\n",
    "##de toutes les slices (ce qui ajoute une 3e dimension)\n",
    "def get_nodule_mask_3D(patients_path_nodule_mask, dim_x=512, dim_y=512):\n",
    "    nodule_mask_3D = np.zeros((dim_x, dim_y, len(patients_path_nodule_mask)))\n",
    "    for i in range(0,len(patients_path_nodule_mask)):\n",
    "        temp = np.load(patients_path_nodule_mask[i]).reshape(512,512)\n",
    "        \n",
    "        for k in range(0, temp.shape[0]):\n",
    "            for j in range(0, temp.shape[1]):\n",
    "                if(temp[k][j] < 0.1 or i > 500 or j >500):\n",
    "                    temp[k][j] = 0\n",
    "                else:\n",
    "                    temp[k][j] = 1\n",
    "        \n",
    "        nodule_mask_3D[:,:,i] = temp\n",
    "    \n",
    "    return nodule_mask_3D\n",
    "\n",
    "##On met en entrée le path des lung_img du patient et on a en sortie un np array 3D avec la lung_img (2D)\n",
    "##de toutes les slices (ce qui ajoute une 3e dimension)\n",
    "def get_lung_img_3D(patients_path_lung_img, dim_x=512, dim_y=512):\n",
    "    lung_img_3D = np.zeros((dim_x, dim_y, len(patients_path_lung_img)))\n",
    "    for i in range(0,len(patients_path_lung_img)):\n",
    "        lung_img_3D[:,:,i] = np.load(patients_path_lung_img[i]) ##Pas ouf de loader à chaque fois ??\n",
    "    return lung_img_3D\n",
    "\n",
    "##On met en entrée le path des lung_img du patient et le path des nodule_mask et on a en sortie un np array 3D\n",
    "##avec le nodule segmenté (2D) de toutes les slices (ce qui rajoute une 3e dimension)\n",
    "def get_nodule_segmented_3D(patients_path_nodule_mask, patients_path_lung_img, dim_z = len(patients_path_lung_img), dim_x =512, dim_y=512):\n",
    "    nodule_segmented_3D = np.zeros((dim_x, dim_y, dim_z))\n",
    "    \n",
    "    a= min(len(patients_path_lung_img), dim_z)\n",
    "    for i in range(0,a):\n",
    "        nodule_segmented_3D[:,:,i] = get_nodule_segmented(get_nodule_mask_3D(patients_path_nodule_mask)[:,:,i],get_lung_img_3D(patients_path_lung_img)[:,:,i])\n",
    "    return nodule_segmented_3D"
   ]
  },
  {
   "cell_type": "code",
   "execution_count": 337,
   "metadata": {},
   "outputs": [
    {
     "name": "stdout",
     "output_type": "stream",
     "text": [
      "CPU times: user 9min 40s, sys: 10 s, total: 9min 50s\n",
      "Wall time: 9min 58s\n"
     ]
    }
   ],
   "source": [
    "%%time\n",
    "##PAS A METTRE DANS LE SCRIPT\n",
    "nodule_segmented_3D = get_nodule_segmented_3D(patients_path_nodule_mask[58:90], patients_path_lung_img[58:90])"
   ]
  },
  {
   "cell_type": "code",
   "execution_count": 136,
   "metadata": {
    "collapsed": true
   },
   "outputs": [],
   "source": [
    "##On stock les center_full et les nb_nodules dans des listes center_full_3D et nb_nodules_3D\n",
    "\n",
    "def get_center_nodules_3D(patients_path_nodule_mask):\n",
    "    center_full_3D = []\n",
    "    nb_nodules_3D = []\n",
    "\n",
    "    for i in range(0, len(patients_path_nodule_mask)):\n",
    "        nodule_mask_3D = get_nodule_mask_3D(patients_path_nodule_mask)\n",
    "        center_full, nb_nodules = get_centers_nodules(nodule_mask_3D[:,:,i])\n",
    "        center_full_3D.append(center_full)\n",
    "        nb_nodules_3D.append(nb_nodules)  \n",
    "    return center_full_3D, nb_nodules_3D"
   ]
  },
  {
   "cell_type": "code",
   "execution_count": 311,
   "metadata": {},
   "outputs": [
    {
     "name": "stdout",
     "output_type": "stream",
     "text": [
      "CPU times: user 9min 22s, sys: 7.88 s, total: 9min 30s\n",
      "Wall time: 9min 35s\n"
     ]
    }
   ],
   "source": [
    "%%time\n",
    "##PAS A METTRE DANS LE SCRIPT\n",
    "center_full_3D, nb_nodules_3D = get_center_nodules_3D(patients_path_nodule_mask[58:90])"
   ]
  },
  {
   "cell_type": "code",
   "execution_count": 329,
   "metadata": {
    "collapsed": true
   },
   "outputs": [],
   "source": [
    "##TEST2\n",
    "\n",
    "##Cette façon de sélectionner les différents nodules ne fonctionnent pas dans un cas général\n",
    "\n",
    "SIZE_PATCH = 32\n",
    "\n",
    "first_nodule_3D = np.zeros((first_nodule.shape[0], first_nodule.shape[1], 8))\n",
    "for i in range(0,8):\n",
    "    if(not(not(center_full_3D[i]))):\n",
    "        first_nodule_3D[:,:,i] = nodule_segmented_3D[int(center_full_3D[i][0][0])-SIZE_PATCH/2:int(center_full_3D[i][0][0])+SIZE_PATCH/2,int(center_full_3D[i][0][1])-SIZE_PATCH/2:int(center_full_3D[i][0][1])+SIZE_PATCH/2,i]"
   ]
  },
  {
   "cell_type": "code",
   "execution_count": 330,
   "metadata": {},
   "outputs": [
    {
     "data": {
      "image/png": "[encoded data removed]",
      "text/plain": [
       "<matplotlib.figure.Figure at 0x10ec4cf50>"
      ]
     },
     "metadata": {},
     "output_type": "display_data"
    }
   ],
   "source": [
    "##TEST2\n",
    "##First Nodule\n",
    "\n",
    "fig=plt.figure(figsize=(8, 8))\n",
    "columns = 4\n",
    "rows = 5\n",
    "for i in range(0,8):\n",
    "    img = first_nodule_3D[:,:,i]\n",
    "    fig.add_subplot(rows, columns, i+1)\n",
    "    plt.imshow(img, cmap = plt.cm.bone)\n",
    "plt.show()"
   ]
  },
  {
   "cell_type": "code",
   "execution_count": 204,
   "metadata": {},
   "outputs": [
    {
     "data": {
      "image/png": "[encoded data removed]",
      "text/plain": [
       "<matplotlib.figure.Figure at 0x111f27a10>"
      ]
     },
     "metadata": {},
     "output_type": "display_data"
    }
   ],
   "source": [
    "##TEST2\n",
    "plot_3d(first_nodule_3D, 0) ##Seuil à optimiser"
   ]
  },
  {
   "cell_type": "code",
   "execution_count": null,
   "metadata": {
    "collapsed": true
   },
   "outputs": [],
   "source": [
    "##PAS A METTRE DANS LE SCRIPT\n",
    "\n",
    "##Cette façon de sélectionner les différents nodules ne fonctionnent pas dans un cas général\n",
    "\n",
    "SIZE_PATCH = 32\n",
    "\n",
    "first_nodule_3D = np.zeros((first_nodule.shape[0], first_nodule.shape[1], len(nb_nodules_3D)))\n",
    "for i in range(0,len(nb_nodules_3D)):\n",
    "    first_nodule_3D[:,:,i] = nodule_segmented_3D[int(center_full_3D[i][0][0])-SIZE_PATCH/2:int(center_full_3D[i][0][0])+SIZE_PATCH/2,int(center_full_3D[i][0][1])-SIZE_PATCH/2:int(center_full_3D[i][0][1])+SIZE_PATCH/2,i]\n",
    "    \n",
    "#second_nodule_3D = np.zeros((second_nodule.shape[0], second_nodule.shape[1], 17))\n",
    "#for i in range(4,7):\n",
    "#    second_nodule_3D[:,:,i] = nodule_segmented_3D[int(center_full_3D[i][-2][0])-8:int(center_full_3D[i][-2][0])+8,int(center_full_3D[i][-2][1])-8:int(center_full_3D[i][-2][1])+8,i]"
   ]
  },
  {
   "cell_type": "code",
   "execution_count": 47,
   "metadata": {},
   "outputs": [
    {
     "ename": "IndexError",
     "evalue": "index 10 is out of bounds for axis 2 with size 10",
     "output_type": "error",
     "traceback": [
      "\u001b[0;31m---------------------------------------------------------------------------\u001b[0m",
      "\u001b[0;31mIndexError\u001b[0m                                Traceback (most recent call last)",
      "\u001b[0;32m<ipython-input-47-c61997e23fc1>\u001b[0m in \u001b[0;36m<module>\u001b[0;34m()\u001b[0m\n\u001b[1;32m      5\u001b[0m \u001b[0mrows\u001b[0m \u001b[0;34m=\u001b[0m \u001b[0;36m5\u001b[0m\u001b[0;34m\u001b[0m\u001b[0m\n\u001b[1;32m      6\u001b[0m \u001b[0;32mfor\u001b[0m \u001b[0mi\u001b[0m \u001b[0;32min\u001b[0m \u001b[0mrange\u001b[0m\u001b[0;34m(\u001b[0m\u001b[0;36m0\u001b[0m\u001b[0;34m,\u001b[0m \u001b[0;36m17\u001b[0m\u001b[0;34m)\u001b[0m\u001b[0;34m:\u001b[0m\u001b[0;34m\u001b[0m\u001b[0m\n\u001b[0;32m----> 7\u001b[0;31m     \u001b[0mimg\u001b[0m \u001b[0;34m=\u001b[0m \u001b[0mfirst_nodule_3D\u001b[0m\u001b[0;34m[\u001b[0m\u001b[0;34m:\u001b[0m\u001b[0;34m,\u001b[0m\u001b[0;34m:\u001b[0m\u001b[0;34m,\u001b[0m\u001b[0mi\u001b[0m\u001b[0;34m]\u001b[0m\u001b[0;34m\u001b[0m\u001b[0m\n\u001b[0m\u001b[1;32m      8\u001b[0m     \u001b[0mfig\u001b[0m\u001b[0;34m.\u001b[0m\u001b[0madd_subplot\u001b[0m\u001b[0;34m(\u001b[0m\u001b[0mrows\u001b[0m\u001b[0;34m,\u001b[0m \u001b[0mcolumns\u001b[0m\u001b[0;34m,\u001b[0m \u001b[0mi\u001b[0m\u001b[0;34m+\u001b[0m\u001b[0;36m1\u001b[0m\u001b[0;34m)\u001b[0m\u001b[0;34m\u001b[0m\u001b[0m\n\u001b[1;32m      9\u001b[0m     \u001b[0mplt\u001b[0m\u001b[0;34m.\u001b[0m\u001b[0mimshow\u001b[0m\u001b[0;34m(\u001b[0m\u001b[0mimg\u001b[0m\u001b[0;34m,\u001b[0m \u001b[0mcmap\u001b[0m \u001b[0;34m=\u001b[0m \u001b[0mplt\u001b[0m\u001b[0;34m.\u001b[0m\u001b[0mcm\u001b[0m\u001b[0;34m.\u001b[0m\u001b[0mbone\u001b[0m\u001b[0;34m)\u001b[0m\u001b[0;34m\u001b[0m\u001b[0m\n",
      "\u001b[0;31mIndexError\u001b[0m: index 10 is out of bounds for axis 2 with size 10"
     ]
    }
   ],
   "source": [
    "##First Nodule\n",
    "\n",
    "fig=plt.figure(figsize=(8, 8))\n",
    "columns = 4\n",
    "rows = 5\n",
    "for i in range(0, 17):\n",
    "    img = first_nodule_3D[:,:,i]\n",
    "    fig.add_subplot(rows, columns, i+1)\n",
    "    plt.imshow(img, cmap = plt.cm.bone)\n",
    "plt.show()"
   ]
  },
  {
   "cell_type": "code",
   "execution_count": null,
   "metadata": {
    "collapsed": true
   },
   "outputs": [],
   "source": [
    "##Second Nodule\n",
    "\n",
    "fig=plt.figure(figsize=(8, 8))\n",
    "columns = 4\n",
    "rows = 5\n",
    "for i in range(0, 9):\n",
    "    img = second_nodule_3D[:,:,i]\n",
    "    fig.add_subplot(rows, columns, i+1)\n",
    "    plt.imshow(img, cmap = plt.cm.bone)\n",
    "plt.show()"
   ]
  },
  {
   "cell_type": "code",
   "execution_count": null,
   "metadata": {
    "collapsed": true
   },
   "outputs": [],
   "source": [
    "plot_3d(first_nodule_3D, 100) ##Seuil à optimiser"
   ]
  },
  {
   "cell_type": "code",
   "execution_count": null,
   "metadata": {
    "collapsed": true
   },
   "outputs": [],
   "source": [
    "##Verifier que la fonction fonctionne bien dans le cas general (surtout ligne de construction de first_nodule_3D)\n",
    "##Voir si on prend bien le nodule le plus pertinent avec cette fonction\n",
    "##Voir si on prend qu'un seul nodule de taille 16x16x16 (c'est ce que fait cette fonction)\n",
    "def npz_to_cnn(images_path_lung_img, images_path_nodule_mask, ID, dimx_nodule = 16, dimy_nodule = 16, dimz_nodule = 16):\n",
    "    patients_path_lung_img = get_patients_path_lung_img(images_path_lung_img, ID)\n",
    "    patients_path_nodule_mask = get_patients_path_nodule_mask(images_path_nodule_mask, ID)\n",
    "    nodule_segmented_3D = get_nodule_segmented_3D(patients_path_nodule_mask, patients_path_lung_img, dimz_nodule)\n",
    "    center_full_3D, nb_nodules_3D = get_center_nodules_3D(patients_path_nodule_mask)\n",
    "    a = min(len(center_full_3D), dimz_nodule)\n",
    "        \n",
    "    ##Si les éléments de center_full_3d sont trop éloignés, cela veut surement dire qu'on a confondu 2 nodules\n",
    "    ##lorsqu'on a pris les 2 plus grandes areas dans le preprocessing (esperons que ca n'arrive pas)\n",
    "    for i in range(0, len(center_full_3D)):\n",
    "        print(center_full_3D[i]) \n",
    "    \n",
    "    #first_nodule_3D = np.zeros((dimx_nodule, dimy_nodule, len(nb_nodules_3D)))\n",
    "    first_nodule_3D = np.zeros((dimx_nodule, dimy_nodule, dimz_nodule)) \n",
    "    \n",
    "    #for i in range(0,len(nb_nodules_3D)):\n",
    "    for i in range(0,a):\n",
    "        first_nodule_3D[:,:,i] = nodule_segmented_3D[int(center_full_3D[i][-1][0])-dimx_nodule/2:int(center_full_3D[i][-1][0])+dimx_nodule/2,int(center_full_3D[i][-1][1])-dimy_nodule/2:int(center_full_3D[i][-1][1])+dimy_nodule/2,i]\n",
    "    return first_nodule_3D, center_full_3D"
   ]
  },
  {
   "cell_type": "code",
   "execution_count": null,
   "metadata": {
    "collapsed": true
   },
   "outputs": [],
   "source": [
    "%%time\n",
    "#first_nodule_3D = npz_to_cnn(images_path_lung_img, images_path_nodule_mask, '1.3.6.1.4.1.14519.5.2.1.6279.6001.137763212752154081977261297097')\n",
    "#print(first_nodule_3D.shape)"
   ]
  },
  {
   "cell_type": "code",
   "execution_count": null,
   "metadata": {
    "collapsed": true,
    "scrolled": true
   },
   "outputs": [],
   "source": [
    "%%time\n",
    "\n",
    "nodule_3D, center_full_3D = npz_to_cnn(images_path_lung_img, images_path_nodule_mask, id_patients[29])\n",
    "#plot_3d(nodule_3D)"
   ]
  },
  {
   "cell_type": "markdown",
   "metadata": {},
   "source": [
    "- Problème 1) se met en évidence en printant les center_full_3D de id_patients[8] et de '1.3.6.1.4.1.14519.5.2.1.6279.6001.137763212752154081977261297097' par exemple :\n",
    "- On remarque que quand on a 2 nodules, ils sont classés dans center_full par ordre croissant (je pense) selon la premiere coordonnées\n",
    "- Ca fout le bordel et mon -1 dans center_full_3D[i][-1][0] n'est pas bon\n",
    "- Vu qu'il y a peu de gens qui ont 2 nodules, à voir comment on règle ça\n",
    "- Sinon on sélectionne le nodule qui apparait dans le plus de slice ?\n",
    "- Ou on peut sélectionner le nodule qui a l'area la plus importante toutes slices confondues ?\n"
   ]
  },
  {
   "cell_type": "markdown",
   "metadata": {},
   "source": [
    "- Problème 2) le fait que dans le preprocessing, on selectionne uniquement les deux plus grosses areas d'une slice fausse la détection 3D des nodules (sur une slice, les 2 plus gros nodules ne sont pas forcément ceux qui ont la plus grosse area sur la slice en question, ça dépend si la slice les coupe en plein milieu ou au niveau d'une extremité)"
   ]
  },
  {
   "cell_type": "markdown",
   "metadata": {},
   "source": [
    "## Implémentation du CNN"
   ]
  },
  {
   "cell_type": "code",
   "execution_count": 339,
   "metadata": {},
   "outputs": [
    {
     "name": "stderr",
     "output_type": "stream",
     "text": [
      "/Users/anthonypamart/anaconda2/lib/python2.7/site-packages/h5py/__init__.py:34: FutureWarning: Conversion of the second argument of issubdtype from `float` to `np.floating` is deprecated. In future, it will be treated as `np.float64 == np.dtype(float).type`.\n",
      "  from ._conv import register_converters as _register_converters\n",
      "Using TensorFlow backend.\n"
     ]
    }
   ],
   "source": [
    "from keras import layers\n",
    "from keras import models\n",
    "from keras import optimizers"
   ]
  },
  {
   "cell_type": "code",
   "execution_count": 370,
   "metadata": {
    "collapsed": true
   },
   "outputs": [],
   "source": [
    "from CNN_Classification import CNN_Classification"
   ]
  },
  {
   "cell_type": "code",
   "execution_count": 371,
   "metadata": {},
   "outputs": [
    {
     "name": "stdout",
     "output_type": "stream",
     "text": [
      "_________________________________________________________________\n",
      "Layer (type)                 Output Shape              Param #   \n",
      "=================================================================\n",
      "conv3d_21 (Conv3D)           (None, 30, 30, 30, 32)    896       \n",
      "_________________________________________________________________\n",
      "max_pooling3d_21 (MaxPooling (None, 15, 15, 15, 32)    0         \n",
      "_________________________________________________________________\n",
      "conv3d_22 (Conv3D)           (None, 13, 13, 13, 64)    55360     \n",
      "_________________________________________________________________\n",
      "max_pooling3d_22 (MaxPooling (None, 6, 6, 6, 64)       0         \n",
      "_________________________________________________________________\n",
      "dropout_26 (Dropout)         (None, 6, 6, 6, 64)       0         \n",
      "_________________________________________________________________\n",
      "flatten_9 (Flatten)          (None, 13824)             0         \n",
      "_________________________________________________________________\n",
      "dense_28 (Dense)             (None, 216)               2986200   \n",
      "_________________________________________________________________\n",
      "dropout_27 (Dropout)         (None, 216)               0         \n",
      "_________________________________________________________________\n",
      "dense_29 (Dense)             (None, 108)               23436     \n",
      "_________________________________________________________________\n",
      "dropout_28 (Dropout)         (None, 108)               0         \n",
      "_________________________________________________________________\n",
      "dense_30 (Dense)             (None, 1)                 109       \n",
      "=================================================================\n",
      "Total params: 3,066,001\n",
      "Trainable params: 3,066,001\n",
      "Non-trainable params: 0\n",
      "_________________________________________________________________\n"
     ]
    }
   ],
   "source": [
    "model = CNN_Classification()"
   ]
  },
  {
   "cell_type": "code",
   "execution_count": 358,
   "metadata": {},
   "outputs": [
    {
     "name": "stdout",
     "output_type": "stream",
     "text": [
      "Epoch 1/5\n",
      "1/1 [==============================] - 1s 1s/step - loss: 0.6931\n",
      "Epoch 2/5\n",
      "1/1 [==============================] - 0s 433ms/step - loss: 0.6926\n",
      "Epoch 3/5\n",
      "1/1 [==============================] - 0s 432ms/step - loss: 0.6921\n",
      "Epoch 4/5\n",
      "1/1 [==============================] - 0s 467ms/step - loss: 0.6916\n",
      "Epoch 5/5\n",
      "1/1 [==============================] - 1s 511ms/step - loss: 0.6911\n"
     ]
    },
    {
     "data": {
      "text/plain": [
       "<keras.callbacks.History at 0x141058490>"
      ]
     },
     "execution_count": 358,
     "metadata": {},
     "output_type": "execute_result"
    }
   ],
   "source": [
    "#train_images = np.reshape(first_nodule_3D, (1,32,32,32,1))\n",
    "train_images = np.reshape(np.zeros((32,32,32)), (1,32,32,32,1))\n",
    "train_labels = np.zeros((1,1)) ##Foireux, à modifier, mais le réseau voulait ce shape\n",
    "model.fit(train_images, train_labels, epochs=5, batch_size=1)"
   ]
  }
 ],
 "metadata": {
  "kernelspec": {
   "display_name": "Python 2",
   "language": "python",
   "name": "python2"
  },
  "language_info": {
   "codemirror_mode": {
    "name": "ipython",
    "version": 2
   },
   "file_extension": ".py",
   "mimetype": "text/x-python",
   "name": "python",
   "nbconvert_exporter": "python",
   "pygments_lexer": "ipython2",
   "version": "2.7.13"
  }
 },
 "nbformat": 4,
 "nbformat_minor": 2
}
