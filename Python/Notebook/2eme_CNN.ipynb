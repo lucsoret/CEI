{
 "cells": [
  {
   "cell_type": "code",
   "execution_count": 76,
   "metadata": {
    "collapsed": true
   },
   "outputs": [],
   "source": [
    "import os\n",
    "import matplotlib.pyplot as plt\n",
    "import numpy as np\n",
    "from skimage.measure import label,regionprops\n",
    "from skimage import measure\n",
    "from mpl_toolkits.mplot3d.art3d import Poly3DCollection\n",
    "from scipy.spatial import distance"
   ]
  },
  {
   "cell_type": "code",
   "execution_count": 77,
   "metadata": {
    "collapsed": true
   },
   "outputs": [],
   "source": [
    "def plot_3d(image, threshold=-300):\n",
    "    \n",
    "    # Position the scan upright, \n",
    "    # so the head of the patient would be at the top facing the camera\n",
    "    p = image.transpose(2,1,0)\n",
    "    p = p[:,:,::-1]\n",
    "    \n",
    "    verts, faces, x, y = measure.marching_cubes(p, threshold)\n",
    "    fig = plt.figure(figsize=(10, 10))\n",
    "    ax = fig.add_subplot(111, projection='3d')\n",
    "\n",
    "    # Fancy indexing: `verts[faces]` to generate a collection of triangles\n",
    "    mesh = Poly3DCollection(verts[faces], alpha=0.7)\n",
    "    face_color = [0.45, 0.45, 0.75]\n",
    "    mesh.set_facecolor(face_color)\n",
    "    ax.add_collection3d(mesh)\n",
    "\n",
    "    ax.set_xlim(0, p.shape[0])\n",
    "    ax.set_ylim(0, p.shape[1])\n",
    "    ax.set_zlim(0, p.shape[2])\n",
    "\n",
    "    plt.show()"
   ]
  },
  {
   "cell_type": "markdown",
   "metadata": {},
   "source": [
    "- On a en sortie de Unet des masques en .npz\n",
    "- On applique ces masques à l'image qu'on mettait en entrée de l'Unet -> on récupère le ou les nodule\n",
    "- On prend un patch autour des nodules, taille à determiner 16x16x16?\n",
    "- On met ce patch dans un CNN en 3D qui sort 0 ou 1"
   ]
  },
  {
   "cell_type": "markdown",
   "metadata": {},
   "source": [
    "## Import de nodule_mask.npzet lung_img.npz"
   ]
  },
  {
   "cell_type": "code",
   "execution_count": 78,
   "metadata": {
    "collapsed": true
   },
   "outputs": [],
   "source": [
    "INPUT_FOLDER = '/Users/anthonypamart/Documents/SIR/Projets/CEI/Taff 15 mars/slices'\n",
    "patients_short = os.listdir(INPUT_FOLDER)\n",
    "\n",
    "images = os.listdir(INPUT_FOLDER)\n",
    "images_path = [os.path.join(INPUT_FOLDER,patient) for patient in patients_short]"
   ]
  },
  {
   "cell_type": "code",
   "execution_count": 79,
   "metadata": {},
   "outputs": [
    {
     "name": "stdout",
     "output_type": "stream",
     "text": [
      "/Users/anthonypamart/Documents/SIR/Projets/CEI/Taff 15 mars/slices/.DS_Store\n"
     ]
    }
   ],
   "source": [
    "##On crée 2 listes dans lesquels on écrit respectivement les paths des lung_img et les paths des nodule_mask \n",
    "images_path_lung_img = []\n",
    "images_path_nodule_mask = []\n",
    "for i in range(0,len(images_path)):\n",
    "    if(images_path[i][-19:-8]=='nodule_mask'):\n",
    "        images_path_nodule_mask.append(images_path[i])\n",
    "    elif(images_path[i][-16:-8]=='lung_img'):\n",
    "        images_path_lung_img.append(images_path[i])\n",
    "    else:\n",
    "        print(images_path[i])\n",
    "        \n",
    "##On sort ces listes pour avoir les slices d'un meme patient côte à côte\n",
    "images_path_lung_img.sort()\n",
    "images_path_nodule_mask.sort()"
   ]
  },
  {
   "cell_type": "code",
   "execution_count": 80,
   "metadata": {
    "collapsed": true
   },
   "outputs": [],
   "source": [
    "## Liste des id des patients\n",
    "id_patients = []\n",
    "for i in range(0,len(images_path_lung_img)):\n",
    "    id_patients.append(images_path_lung_img[i][67:131])\n",
    "id_patients = list(set(id_patients)) ##On tej les doublons"
   ]
  },
  {
   "cell_type": "code",
   "execution_count": 81,
   "metadata": {},
   "outputs": [
    {
     "data": {
      "text/plain": [
       "<matplotlib.image.AxesImage at 0x1121085d0>"
      ]
     },
     "execution_count": 81,
     "metadata": {},
     "output_type": "execute_result"
    }
   ],
   "source": [
    "plt.imshow(np.load(images_path_nodule_mask[110]), cmap = plt.cm.bone)\n",
    "#plt.show()"
   ]
  },
  {
   "cell_type": "code",
   "execution_count": 82,
   "metadata": {},
   "outputs": [
    {
     "data": {
      "text/plain": [
       "<matplotlib.image.AxesImage at 0x11c205a90>"
      ]
     },
     "execution_count": 82,
     "metadata": {},
     "output_type": "execute_result"
    }
   ],
   "source": [
    "plt.imshow(np.load(images_path_lung_img[110]), cmap = plt.cm.bone)\n",
    "#plt.show()"
   ]
  },
  {
   "cell_type": "code",
   "execution_count": 83,
   "metadata": {
    "collapsed": true
   },
   "outputs": [],
   "source": [
    "##PAS A METTRE DANS LE SCRIPT\n",
    "\n",
    "##On charge nos .npz dans un numpy array\n",
    "\n",
    "#nodule_mask = np.load(images_path_nodule_mask[110])\n",
    "#lung_img = np.load(images_path_lung_img[110])\n",
    "\n",
    "nodule_mask = np.load(images_path_nodule_mask[104])\n",
    "lung_img = np.load(images_path_lung_img[104])"
   ]
  },
  {
   "cell_type": "markdown",
   "metadata": {},
   "source": [
    "## Application d'un nodule_mask à une lung_img.npz"
   ]
  },
  {
   "cell_type": "code",
   "execution_count": 84,
   "metadata": {
    "collapsed": true
   },
   "outputs": [],
   "source": [
    "##Applique le nodule_mask au lung_img et renvoie donc le nodule_segmented\n",
    "def get_nodule_segmented(nodule_mask,lung_img):\n",
    "    nodule_segmented = lung_img.copy()\n",
    "    for i in range(0,len(nodule_segmented)):\n",
    "        for j in range(0,len(nodule_segmented)):\n",
    "            if(nodule_mask[i][j]==0.0):\n",
    "                nodule_segmented[i][j]=0.0\n",
    "    return nodule_segmented"
   ]
  },
  {
   "cell_type": "code",
   "execution_count": 85,
   "metadata": {
    "collapsed": true
   },
   "outputs": [],
   "source": [
    "##PAS A METTRE DANS LE SCRIPT\n",
    "nodule_segmented = get_nodule_segmented(nodule_mask,lung_img)"
   ]
  },
  {
   "cell_type": "code",
   "execution_count": 86,
   "metadata": {},
   "outputs": [
    {
     "data": {
      "text/plain": [
       "<matplotlib.image.AxesImage at 0x112108e50>"
      ]
     },
     "execution_count": 86,
     "metadata": {},
     "output_type": "execute_result"
    }
   ],
   "source": [
    "plt.imshow(nodule_segmented, cmap = plt.cm.bone)\n",
    "#plt.show()"
   ]
  },
  {
   "cell_type": "code",
   "execution_count": 87,
   "metadata": {
    "collapsed": true
   },
   "outputs": [],
   "source": [
    "##Prend le nodule mask et renvoie les coordonnées des centres des nodules présents et le nb de nodules présents\n",
    "def get_centers_nodules(nodule_mask):\n",
    "    label_scan = label(nodule_mask)\n",
    "    areas = [r.area for r in regionprops(label_scan)]\n",
    "    #areas.sort()\n",
    "    center_full = [r.centroid  for r in regionprops(label_scan)]\n",
    "    nb_nodules = len(center_full)\n",
    "    return center_full, nb_nodules"
   ]
  },
  {
   "cell_type": "code",
   "execution_count": 56,
   "metadata": {},
   "outputs": [
    {
     "name": "stdout",
     "output_type": "stream",
     "text": [
      "max a =  2\n",
      "cnt1 =  844\n",
      "cnt2 =  43\n",
      "cnt =  0\n",
      "[1, 1, 1, 1, 1, 1, 1, 1, 1, 1, 1, 1, 1, 1, 1, 1, 1, 1, 1, 1, 1, 1, 1, 1, 1, 1, 1, 1, 1, 1, 1, 1, 1, 1, 1, 1, 1, 1, 1, 1, 1, 1, 1, 1, 1, 1, 1, 1, 1, 1, 1, 1, 1, 1, 1, 1, 1, 1, 1, 1, 1, 1, 1, 1, 1, 1, 1, 1, 1, 1, 1, 1, 1, 1, 1, 1, 1, 1, 1, 1, 1, 1, 1, 1, 1, 1, 1, 1, 1, 1, 1, 1, 1, 1, 1, 1, 1, 1, 1, 1, 1, 1, 1, 1, 2, 2, 2, 2, 2, 2, 2, 2, 2, 2, 2, 1, 1, 1, 1, 1, 1, 1, 1, 1, 1, 1, 1, 1, 1, 1, 1, 1, 1, 1, 1, 1, 1, 1, 1, 1, 1, 1, 1, 1, 1, 1, 1, 1, 1, 1, 1, 1, 1, 1, 1, 1, 1, 1, 1, 1, 1, 1, 1, 1, 1, 1, 1, 1, 1, 1, 1, 1, 1, 1, 1, 1, 1, 1, 1, 1, 1, 1, 1, 1, 1, 1, 1, 1, 1, 1, 1, 1, 1, 1, 1, 1, 1, 1, 1, 1, 1, 1, 1, 1, 1, 1, 1, 1, 1, 1, 1, 1, 1, 1, 1, 1, 1, 1, 1, 1, 1, 1, 1, 1, 1, 1, 1, 1, 1, 1, 1, 1, 1, 1, 1, 1, 1, 1, 1, 1, 1, 1, 1, 1, 1, 1, 1, 1, 1, 1, 1, 1, 1, 1, 1, 1, 1, 1, 1, 1, 1, 1, 1, 1, 1, 1, 1, 1, 1, 1, 1, 1, 1, 1, 1, 1, 1, 1, 1, 1, 1, 1, 1, 1, 1, 1, 1, 1, 1, 1, 1, 1, 1, 1, 1, 1, 1, 1, 1, 1, 1, 1, 1, 1, 1, 1, 1, 1, 1, 1, 1, 1, 1, 1, 1, 1, 1, 1, 1, 1, 1, 1, 1, 1, 1, 1, 1, 1, 1, 1, 1, 1, 1, 1, 1, 1, 1, 1, 1, 1, 1, 1, 1, 1, 1, 1, 1, 1, 1, 1, 1, 1, 1, 1, 1, 1, 1, 1, 1, 1, 1, 1, 1, 1, 1, 1, 1, 1, 1, 1, 1, 1, 1, 1, 1, 1, 1, 1, 1, 1, 1, 1, 1, 1, 1, 1, 1, 1, 1, 1, 1, 1, 1, 1, 1, 1, 1, 1, 1, 1, 1, 1, 1, 1, 1, 1, 1, 2, 2, 2, 2, 2, 2, 2, 1, 1, 1, 1, 1, 1, 1, 1, 1, 1, 1, 1, 1, 1, 1, 1, 1, 1, 1, 1, 1, 1, 2, 2, 2, 1, 1, 2, 2, 2, 2, 1, 1, 1, 1, 1, 1, 1, 1, 1, 1, 1, 1, 1, 1, 1, 1, 1, 1, 1, 1, 1, 1, 1, 1, 1, 1, 1, 1, 1, 1, 1, 1, 1, 1, 1, 1, 1, 1, 1, 1, 1, 1, 1, 1, 1, 1, 1, 1, 1, 1, 1, 1, 1, 1, 1, 1, 1, 1, 1, 1, 1, 1, 1, 1, 1, 1, 1, 1, 1, 1, 1, 1, 1, 1, 1, 1, 1, 1, 1, 1, 1, 1, 1, 1, 1, 1, 1, 1, 1, 1, 1, 1, 1, 1, 1, 1, 1, 1, 1, 1, 1, 1, 1, 1, 2, 2, 2, 2, 1, 1, 1, 1, 1, 1, 1, 1, 1, 1, 1, 1, 1, 1, 1, 1, 1, 1, 1, 1, 1, 1, 1, 1, 1, 1, 1, 1, 1, 1, 1, 1, 1, 1, 1, 1, 1, 1, 1, 1, 1, 1, 1, 1, 1, 1, 1, 1, 1, 1, 1, 1, 1, 1, 1, 1, 1, 1, 1, 1, 1, 1, 1, 1, 1, 1, 1, 1, 1, 1, 1, 1, 1, 1, 1, 1, 2, 2, 2, 2, 2, 2, 2, 2, 2, 1, 1, 1, 1, 1, 1, 1, 1, 1, 1, 1, 1, 1, 2, 1, 1, 1, 1, 1, 1, 1, 1, 1, 1, 1, 1, 1, 1, 1, 1, 1, 1, 1, 1, 1, 1, 1, 1, 1, 1, 1, 1, 1, 1, 1, 1, 1, 1, 1, 1, 1, 1, 1, 1, 1, 1, 1, 1, 1, 1, 1, 1, 1, 1, 1, 1, 1, 1, 1, 1, 1, 1, 1, 1, 1, 1, 2, 2, 2, 2, 1, 1, 1, 1, 1, 1, 1, 1, 1, 1, 1, 1, 1, 1, 1, 1, 1, 1, 1, 1, 1, 1, 1, 1, 1, 1, 1, 1, 1, 1, 1, 1, 1, 1, 1, 1, 1, 1, 1, 1, 1, 1, 1, 1, 1, 1, 1, 1, 1, 1, 1, 1, 1, 1, 1, 1, 1, 1, 1, 1, 1, 1, 1, 1, 1, 1, 1, 1, 1, 1, 1, 1, 1, 1, 1, 1, 1, 1, 1, 1, 1, 1, 1, 1, 1, 1, 1, 1, 1, 1, 1, 1, 1, 1, 1, 1, 1, 1, 1, 1, 1, 1, 1, 1, 1, 1, 1, 1, 1, 1, 1, 1, 1, 1, 1, 1, 1, 1, 1, 1, 1, 1, 1, 1, 1, 1, 1, 1, 1, 1, 1, 1, 1, 1, 1, 1, 1, 1, 1, 1, 1, 1, 1, 1, 1, 1, 1, 1, 1, 1, 1, 1, 1, 1, 1, 1, 1, 1, 1, 1, 1, 1, 1, 1, 1, 1, 1, 1, 1]\n"
     ]
    }
   ],
   "source": [
    "\"\"\"\"\"\n",
    "##PAS A METTRE DANS LE SCRIPT\n",
    "\n",
    "##Calcule le nombre max de nodules dans toutes les slices\n",
    "a = []\n",
    "cnt1=0\n",
    "cnt2=0\n",
    "cnt=0\n",
    "for i in range(0,len(images_path_nodule_mask)):\n",
    "    nodule_mask = np.load(images_path_nodule_mask[i])\n",
    "    center_full, nb_nodules = get_centers_nodules(nodule_mask)\n",
    "    a.append(len(center_full))\n",
    "    if(len(center_full)==1):\n",
    "       cnt1 += 1\n",
    "    elif(len(center_full)==2):\n",
    "       cnt2 += 1\n",
    "    else:\n",
    "       cnt += 1\n",
    "print 'max a = ', max(a)\n",
    "print 'cnt1 = ', cnt1\n",
    "print 'cnt2 = ', cnt2\n",
    "print 'cnt = ', cnt\n",
    "print(a)\n",
    "\"\"\"\"\"\""
   ]
  },
  {
   "cell_type": "code",
   "execution_count": 88,
   "metadata": {
    "collapsed": true
   },
   "outputs": [],
   "source": [
    "##PAS A METTRE DANS LE SCRIPT\n",
    "center_full, nb_nodules = get_centers_nodules(nodule_mask)"
   ]
  },
  {
   "cell_type": "code",
   "execution_count": 89,
   "metadata": {
    "collapsed": true
   },
   "outputs": [],
   "source": [
    "##PAS A METTRE DANS LE SCRIPT\n",
    "\n",
    "##On prend un patch 2D de taille 16x16 autour de chaque nodule détecté\n",
    "first_nodule = nodule_segmented[int(center_full[0][0])-8:int(center_full[0][0])+8,int(center_full[0][1])-8:int(center_full[0][1])+8]\n",
    "second_nodule = nodule_segmented[int(center_full[1][0])-8:int(center_full[1][0])+8,int(center_full[1][1])-8:int(center_full[1][1])+8]"
   ]
  },
  {
   "cell_type": "code",
   "execution_count": 90,
   "metadata": {
    "scrolled": true
   },
   "outputs": [
    {
     "data": {
      "text/plain": [
       "<matplotlib.image.AxesImage at 0x11c8b35d0>"
      ]
     },
     "execution_count": 90,
     "metadata": {},
     "output_type": "execute_result"
    }
   ],
   "source": [
    "plt.imshow(second_nodule, cmap = plt.cm.bone)\n",
    "#plt.show()"
   ]
  },
  {
   "cell_type": "markdown",
   "metadata": {},
   "source": [
    "## Passage en 3D"
   ]
  },
  {
   "cell_type": "markdown",
   "metadata": {},
   "source": [
    "- On prendra tout au long l'exemple du patient dont les slices se retrouvent avec \"images_path_nodule_mask[99:116]\"\n",
    "- (on a sorté images_path_nodule_mask au début du notebook)    \n",
    "- (ID de ce patient : 1.3.6.1.4.1.14519.5.2.1.6279.6001.137763212752154081977261297097), correspond à id_patients[13]"
   ]
  },
  {
   "cell_type": "code",
   "execution_count": 91,
   "metadata": {},
   "outputs": [
    {
     "data": {
      "text/plain": [
       "17"
      ]
     },
     "execution_count": 91,
     "metadata": {},
     "output_type": "execute_result"
    }
   ],
   "source": [
    "##Les slices 99 à 116 qui nous interesse pour plotter en 3D nos 2 nodules d'exemples\n",
    "len(images_path_nodule_mask[99:116])"
   ]
  },
  {
   "cell_type": "code",
   "execution_count": 92,
   "metadata": {
    "collapsed": true
   },
   "outputs": [],
   "source": [
    "##Pour récupérer le path des lung_img pour le patient dont on précise l'ID\n",
    "def get_patients_path_lung_img(images_path_lung_img, ID='1.3.6.1.4.1.14519.5.2.1.6279.6001.137763212752154081977261297097'):\n",
    "    patients_path_lung_img = []\n",
    "    for i in range(0,len(images_path_lung_img)):\n",
    "        #if(images_path_lung_img[i][67:131]==id_patients[0]):\n",
    "        if(images_path_lung_img[i][67:131]==ID):\n",
    "            patients_path_lung_img.append(images_path_lung_img[i])\n",
    "    patients_path_lung_img.sort()\n",
    "    return patients_path_lung_img"
   ]
  },
  {
   "cell_type": "code",
   "execution_count": 93,
   "metadata": {
    "collapsed": true
   },
   "outputs": [],
   "source": [
    "##Pour récupérer le path des nodule_mask pour le patient dont on précise l'ID\n",
    "def get_patients_path_nodule_mask(images_path_nodule_mask, ID='1.3.6.1.4.1.14519.5.2.1.6279.6001.137763212752154081977261297097'):\n",
    "    patients_path_nodule_mask = []\n",
    "    for i in range(0,len(images_path_nodule_mask)):\n",
    "        if(images_path_nodule_mask[i][67:131]==ID):\n",
    "            patients_path_nodule_mask.append(images_path_nodule_mask[i])\n",
    "    patients_path_nodule_mask.sort()\n",
    "    return patients_path_nodule_mask"
   ]
  },
  {
   "cell_type": "markdown",
   "metadata": {},
   "source": [
    "### Inspection des patients qui ont 2 nodules, pour voir comment sélectionner un de ces 2 nodules"
   ]
  },
  {
   "cell_type": "code",
   "execution_count": 103,
   "metadata": {
    "collapsed": true
   },
   "outputs": [],
   "source": [
    "##PAS A METTRE DANS LE SCRIPT\n",
    "\n",
    "list_patients_path_nodule_mask = []\n",
    "for i in range(0, len(id_patients)):\n",
    "    list_patients_path_nodule_mask.append(get_patients_path_nodule_mask(images_path_nodule_mask, ID=id_patients[i]))"
   ]
  },
  {
   "cell_type": "code",
   "execution_count": 104,
   "metadata": {
    "collapsed": true
   },
   "outputs": [],
   "source": [
    "#for i in range(0, len(list_patients_path_nodule_mask)):\n",
    "    #print(len(list_patients_path_nodule_mask[i]))"
   ]
  },
  {
   "cell_type": "code",
   "execution_count": 105,
   "metadata": {},
   "outputs": [
    {
     "data": {
      "text/plain": [
       "35"
      ]
     },
     "execution_count": 105,
     "metadata": {},
     "output_type": "execute_result"
    }
   ],
   "source": [
    "max([len(list_patients_path_nodule_mask[i]) for i in range(0, (len(list_patients_path_nodule_mask)))])"
   ]
  },
  {
   "cell_type": "code",
   "execution_count": 106,
   "metadata": {},
   "outputs": [
    {
     "name": "stdout",
     "output_type": "stream",
     "text": [
      "6\n",
      "[1. 1. 1. 1. 2. 2. 2. 2. 1. 1. 1. 1. 1. 1. 1. 1. 1. 1. 1. 1. 1. 1. 1. 1.\n",
      " 1. 0. 0. 0. 0. 0. 0. 0. 0. 0. 0.]\n",
      "---------\n",
      "8\n",
      "[1. 1. 1. 1. 1. 1. 1. 2. 2. 2. 2. 1. 1. 1. 0. 0. 0. 0. 0. 0. 0. 0. 0. 0.\n",
      " 0. 0. 0. 0. 0. 0. 0. 0. 0. 0. 0.]\n",
      "---------\n",
      "13\n",
      "[1. 1. 1. 1. 1. 2. 2. 2. 2. 2. 2. 2. 2. 2. 2. 2. 1. 0. 0. 0. 0. 0. 0. 0.\n",
      " 0. 0. 0. 0. 0. 0. 0. 0. 0. 0. 0.]\n",
      "---------\n",
      "29\n",
      "[1. 1. 1. 1. 2. 2. 2. 1. 1. 2. 2. 2. 2. 1. 1. 1. 0. 0. 0. 0. 0. 0. 0. 0.\n",
      " 0. 0. 0. 0. 0. 0. 0. 0. 0. 0. 0.]\n",
      "---------\n",
      "30\n",
      "[1. 1. 2. 2. 2. 2. 2. 2. 2. 1. 1. 1. 1. 1. 1. 1. 0. 0. 0. 0. 0. 0. 0. 0.\n",
      " 0. 0. 0. 0. 0. 0. 0. 0. 0. 0. 0.]\n",
      "---------\n",
      "47\n",
      "[1. 1. 2. 2. 2. 2. 2. 2. 2. 2. 2. 1. 1. 1. 1. 1. 1. 1. 1. 1. 1. 1. 1. 1.\n",
      " 2. 1. 1. 1. 1. 1. 1. 1. 1. 1. 0.]\n",
      "---------\n"
     ]
    }
   ],
   "source": [
    "##PAS A METTRE DANS LE SCRIPT\n",
    "\n",
    "b = np.zeros((len(list_patients_path_nodule_mask), max([len(list_patients_path_nodule_mask[i]) for i in range(0, (len(list_patients_path_nodule_mask)))])))\n",
    "cnt1=[0]*len(list_patients_path_nodule_mask)\n",
    "cnt2=[0]*len(list_patients_path_nodule_mask)\n",
    "cnt=[0]*len(list_patients_path_nodule_mask)\n",
    "for j in range(0, len(list_patients_path_nodule_mask)):\n",
    "    for i in range(0,len(list_patients_path_nodule_mask[j])):\n",
    "        nodule_mask = np.load(list_patients_path_nodule_mask[j][i])\n",
    "        center_full, nb_nodules = get_centers_nodules(nodule_mask)\n",
    "        b[j][i] = len(center_full)\n",
    "        if(len(center_full)==1):\n",
    "           cnt1[j] += 1\n",
    "        elif(len(center_full)==2):\n",
    "           cnt2[j] += 1\n",
    "        else:\n",
    "           cnt[j] += 1\n",
    "    #print 'max b = ', max(b[j])\n",
    "    #print 'cnt1 = ', cnt1[j]\n",
    "    #print 'cnt2 = ', cnt2[j]\n",
    "    #print 'cnt = ', cnt[j]\n",
    "    if max(b[j])==2:\n",
    "        print(j)\n",
    "        print(b[j])\n",
    "        print('---------')"
   ]
  },
  {
   "cell_type": "code",
   "execution_count": null,
   "metadata": {
    "collapsed": true
   },
   "outputs": [],
   "source": []
  },
  {
   "cell_type": "markdown",
   "metadata": {},
   "source": [
    "### Fin de l'inspection -> pour slice 0, les patients 6, 8, 13, 29, 30 et 47 ont 2 nodules (6 sur 67)"
   ]
  },
  {
   "cell_type": "code",
   "execution_count": 109,
   "metadata": {
    "collapsed": true
   },
   "outputs": [],
   "source": [
    "##PAS A METTRE DANS LE SCRIPT\n",
    "\n",
    "patients_path_lung_img = get_patients_path_lung_img(images_path_lung_img, id_patients[6])\n",
    "patients_path_nodule_mask = get_patients_path_nodule_mask(images_path_nodule_mask, id_patients[6])\n",
    "\n",
    "#patients_path_lung_img = get_patients_path_lung_img(images_path_lung_img)\n",
    "#patients_path_nodule_mask = get_patients_path_nodule_mask(images_path_nodule_mask)"
   ]
  },
  {
   "cell_type": "code",
   "execution_count": 110,
   "metadata": {
    "collapsed": true
   },
   "outputs": [],
   "source": [
    "##Pour le patient pris en exemple, on construit nodule_mask_3D, lung_img_3D et nodule_segmented_3D\n",
    "\n",
    "##On met en entrée le path des nodule_mask du patient et on a en sortie un np array 3D avec le nodule mask (2D)\n",
    "##de toutes les slices (ce qui ajoute une 3e dimension)\n",
    "def get_nodule_mask_3D(patients_path_nodule_mask, dim_x=512, dim_y=512):\n",
    "    nodule_mask_3D = np.zeros((dim_x, dim_y, len(patients_path_nodule_mask)))\n",
    "    for i in range(0,len(patients_path_nodule_mask)):\n",
    "        nodule_mask_3D[:,:,i] = np.load(patients_path_nodule_mask[i]) ##Pas ouf de loader à chaque fois ??\n",
    "    return nodule_mask_3D\n",
    "\n",
    "##On met en entrée le path des lung_img du patient et on a en sortie un np array 3D avec la lung_img (2D)\n",
    "##de toutes les slices (ce qui ajoute une 3e dimension)\n",
    "def get_lung_img_3D(patients_path_lung_img, dim_x=512, dim_y=512):\n",
    "    lung_img_3D = np.zeros((dim_x, dim_y, len(patients_path_lung_img)))\n",
    "    for i in range(0,len(patients_path_lung_img)):\n",
    "        lung_img_3D[:,:,i] = np.load(patients_path_lung_img[i]) ##Pas ouf de loader à chaque fois ??\n",
    "    return lung_img_3D\n",
    "\n",
    "##On met en entrée le path des lung_img du patient et le path des nodule_mask et on a en sortie un np array 3D\n",
    "##avec le nodule segmenté (2D) de toutes les slices (ce qui rajoute une 3e dimension)\n",
    "def get_nodule_segmented_3D(patients_path_nodule_mask, patients_path_lung_img, dim_z = len(patients_path_lung_img), dim_x =512, dim_y=512):\n",
    "    nodule_segmented_3D = np.zeros((dim_x, dim_y, dim_z))\n",
    "    \n",
    "    a= min(len(patients_path_lung_img), dim_z)\n",
    "    for i in range(0,a):\n",
    "        nodule_segmented_3D[:,:,i] = get_nodule_segmented(get_nodule_mask_3D(patients_path_nodule_mask)[:,:,i],get_lung_img_3D(patients_path_lung_img)[:,:,i])\n",
    "    return nodule_segmented_3D"
   ]
  },
  {
   "cell_type": "code",
   "execution_count": 111,
   "metadata": {
    "collapsed": true
   },
   "outputs": [],
   "source": [
    "##PAS A METTRE DANS LE SCRIPT\n",
    "nodule_segmented_3D = get_nodule_segmented_3D(patients_path_nodule_mask, patients_path_lung_img)"
   ]
  },
  {
   "cell_type": "code",
   "execution_count": 112,
   "metadata": {
    "scrolled": true
   },
   "outputs": [],
   "source": [
    "#plt.imshow(nodule_segmented_3D[:,:,11], cmap=plt.cm.gray)\n",
    "#plt.show()"
   ]
  },
  {
   "cell_type": "code",
   "execution_count": 113,
   "metadata": {
    "collapsed": true
   },
   "outputs": [],
   "source": [
    "##On stock les center_full et les nb_nodules dans des listes center_full_3D et nb_nodules_3D\n",
    "\n",
    "def get_center_nodules_3D(patients_path_nodule_mask):\n",
    "    center_full_3D = []\n",
    "    nb_nodules_3D = []\n",
    "\n",
    "    for i in range(0, len(patients_path_nodule_mask)):\n",
    "        nodule_mask_3D = get_nodule_mask_3D(patients_path_nodule_mask)\n",
    "        center_full, nb_nodules = get_centers_nodules(nodule_mask_3D[:,:,i])\n",
    "        center_full_3D.append(center_full)\n",
    "        nb_nodules_3D.append(nb_nodules)\n",
    "        \n",
    "    return center_full_3D, nb_nodules_3D"
   ]
  },
  {
   "cell_type": "code",
   "execution_count": 114,
   "metadata": {
    "collapsed": true
   },
   "outputs": [],
   "source": [
    "##PAS A METTRE DANS LE SCRIPT\n",
    "center_full_3D, nb_nodules_3D = get_center_nodules_3D(patients_path_nodule_mask)"
   ]
  },
  {
   "cell_type": "code",
   "execution_count": 116,
   "metadata": {},
   "outputs": [],
   "source": [
    "##PAS A METTRE DANS LE SCRIPT\n",
    "\n",
    "##Cette façon de sélectionner les différents nodules ne fonctionnent pas dans un cas général\n",
    "\n",
    "first_nodule_3D = np.zeros((first_nodule.shape[0], first_nodule.shape[1], len(nb_nodules_3D)))\n",
    "for i in range(0,len(nb_nodules_3D)):\n",
    "    first_nodule_3D[:,:,i] = nodule_segmented_3D[int(center_full_3D[i][-1][0])-8:int(center_full_3D[i][-1][0])+8,int(center_full_3D[i][-1][1])-8:int(center_full_3D[i][-1][1])+8,i]\n",
    "    \n",
    "second_nodule_3D = np.zeros((second_nodule.shape[0], second_nodule.shape[1], 17))\n",
    "for i in range(4,7):\n",
    "    second_nodule_3D[:,:,i] = nodule_segmented_3D[int(center_full_3D[i][-2][0])-8:int(center_full_3D[i][-2][0])+8,int(center_full_3D[i][-2][1])-8:int(center_full_3D[i][-2][1])+8,i]"
   ]
  },
  {
   "cell_type": "code",
   "execution_count": 178,
   "metadata": {},
   "outputs": [
    {
     "data": {
      "text/plain": [
       "(16, 16, 17)"
      ]
     },
     "execution_count": 178,
     "metadata": {},
     "output_type": "execute_result"
    }
   ],
   "source": [
    "second_nodule_3D.shape"
   ]
  },
  {
   "cell_type": "code",
   "execution_count": 169,
   "metadata": {},
   "outputs": [
    {
     "data": {
      "image/png": "[encoded data removed]",
      "text/plain": [
       "<matplotlib.figure.Figure at 0x11c445490>"
      ]
     },
     "metadata": {},
     "output_type": "display_data"
    }
   ],
   "source": [
    "##First Nodule\n",
    "\n",
    "fig=plt.figure(figsize=(8, 8))\n",
    "columns = 5\n",
    "rows = 5\n",
    "for i in range(0, 25):\n",
    "    img = first_nodule_3D[:,:,i]\n",
    "    fig.add_subplot(rows, columns, i+1)\n",
    "    plt.imshow(img, cmap = plt.cm.bone)\n",
    "plt.show()"
   ]
  },
  {
   "cell_type": "code",
   "execution_count": 175,
   "metadata": {},
   "outputs": [
    {
     "data": {
      "image/png": "[encoded data removed]",
      "text/plain": [
       "<matplotlib.figure.Figure at 0x11ca7ad10>"
      ]
     },
     "metadata": {},
     "output_type": "display_data"
    }
   ],
   "source": [
    "##Second Nodule\n",
    "\n",
    "fig=plt.figure(figsize=(8, 8))\n",
    "columns = 4\n",
    "rows = 5\n",
    "for i in range(0, 9):\n",
    "    img = second_nodule_3D[:,:,i]\n",
    "    fig.add_subplot(rows, columns, i+1)\n",
    "    plt.imshow(img, cmap = plt.cm.bone)\n",
    "plt.show()"
   ]
  },
  {
   "cell_type": "code",
   "execution_count": 34,
   "metadata": {
    "collapsed": true
   },
   "outputs": [],
   "source": [
    "#plot_3d(second_nodule_3D, 0) ##Seuil à optimiser"
   ]
  },
  {
   "cell_type": "markdown",
   "metadata": {},
   "source": [
    "- Admettons qu'on décide de donner au réseau de neurone 1 seul nodule et qu'on fixe sa taille à 16x16x16 (on fera du padding ou on tejera des coupes en trop si necessaire)\n",
    "- Avec la fonction ci dessous, si il y a plus de slices que 16, on ne prends pas en compte celles en trop et si il y en a moins que 16, on pad\n",
    "- Si on décommente les 2 lignes en commentaires, on récupère le vrai nodule en 3D, sans troncature ou padding"
   ]
  },
  {
   "cell_type": "code",
   "execution_count": 141,
   "metadata": {
    "collapsed": true
   },
   "outputs": [],
   "source": [
    "##Verifier que la fonction fonctionne bien dans le cas general (surtout ligne de construction de first_nodule_3D)\n",
    "##Voir si on prend bien le nodule le plus pertinent avec cette fonction\n",
    "##Voir si on prend qu'un seul nodule de taille 16x16x16 (c'est ce que fait cette fonction)\n",
    "def npz_to_cnn(images_path_lung_img, images_path_nodule_mask, ID, dimx_nodule = 16, dimy_nodule = 16, dimz_nodule = 16):\n",
    "    patients_path_lung_img = get_patients_path_lung_img(images_path_lung_img, ID)\n",
    "    patients_path_nodule_mask = get_patients_path_nodule_mask(images_path_nodule_mask, ID)\n",
    "    nodule_segmented_3D = get_nodule_segmented_3D(patients_path_nodule_mask, patients_path_lung_img, dimz_nodule)\n",
    "    center_full_3D, nb_nodules_3D = get_center_nodules_3D(patients_path_nodule_mask)\n",
    "    a = min(len(center_full_3D), dimz_nodule)\n",
    "        \n",
    "    ##Si les éléments de center_full_3d sont trop éloignés, cela veut surement dire qu'on a confondu 2 nodules\n",
    "    ##lorsqu'on a pris les 2 plus grandes areas dans le preprocessing (esperons que ca n'arrive pas)\n",
    "    for i in range(0, len(center_full_3D)):\n",
    "        print(center_full_3D[i]) \n",
    "    \n",
    "    #first_nodule_3D = np.zeros((dimx_nodule, dimy_nodule, len(nb_nodules_3D)))\n",
    "    first_nodule_3D = np.zeros((dimx_nodule, dimy_nodule, dimz_nodule)) \n",
    "    \n",
    "    #for i in range(0,len(nb_nodules_3D)):\n",
    "    for i in range(0,a):\n",
    "        first_nodule_3D[:,:,i] = nodule_segmented_3D[int(center_full_3D[i][-1][0])-dimx_nodule/2:int(center_full_3D[i][-1][0])+dimx_nodule/2,int(center_full_3D[i][-1][1])-dimy_nodule/2:int(center_full_3D[i][-1][1])+dimy_nodule/2,i]\n",
    "    return first_nodule_3D, center_full_3D"
   ]
  },
  {
   "cell_type": "code",
   "execution_count": 247,
   "metadata": {},
   "outputs": [
    {
     "name": "stdout",
     "output_type": "stream",
     "text": [
      "[[(324.84313725490193, 150.0)], [(324.9191919191919, 150.0)], [(324.9136690647482, 150.0)], [(325.0, 150.0)], [(324.8128078817734, 150.0)], [(294.0, 126.0), (324.94618834080717, 150.0)], [(294.0, 126.0), (325.0, 150.0)], [(294.0, 126.0), (324.9020408163265, 150.0)], [(294.0, 126.0), (324.964, 150.0)], [(294.0, 126.0), (324.9020408163265, 150.0)], [(294.0, 126.0), (325.0, 150.0)], [(294.0, 126.0), (324.94618834080717, 150.0)], [(294.0, 126.0), (324.8128078817734, 150.0)], [(294.0, 126.0), (325.0, 150.0)], [(294.0, 126.0), (324.9136690647482, 150.0)], [(294.0, 126.0), (324.9191919191919, 150.0)], [(324.84313725490193, 150.0)]]\n",
      "(16, 16, 16)\n",
      "CPU times: user 5.42 s, sys: 648 ms, total: 6.07 s\n",
      "Wall time: 6.19 s\n"
     ]
    }
   ],
   "source": [
    "%%time\n",
    "#first_nodule_3D = npz_to_cnn(images_path_lung_img, images_path_nodule_mask, '1.3.6.1.4.1.14519.5.2.1.6279.6001.137763212752154081977261297097')\n",
    "#print(first_nodule_3D.shape)"
   ]
  },
  {
   "cell_type": "code",
   "execution_count": 267,
   "metadata": {
    "scrolled": true
   },
   "outputs": [
    {
     "name": "stdout",
     "output_type": "stream",
     "text": [
      "[(316.5, 170.5)]\n",
      "[(316.5, 170.5)]\n",
      "[(316.5, 170.5)]\n",
      "[(316.5, 170.5)]\n",
      "[(309.5, 173.5), (312.0, 161.0)]\n",
      "[(309.5, 173.5), (312.0, 161.0)]\n",
      "[(309.5, 173.5), (312.0, 161.0)]\n",
      "[(309.5, 173.5)]\n",
      "[(271.0, 169.0)]\n",
      "[(271.0, 169.0), (304.0, 192.0)]\n",
      "[(271.0, 169.0), (304.0, 192.0)]\n",
      "[(271.0, 169.0), (304.0, 192.0)]\n",
      "[(271.0, 169.0), (304.0, 192.0)]\n",
      "[(304.0, 192.0)]\n",
      "[(304.0, 192.0)]\n",
      "[(304.0, 192.0)]\n",
      "CPU times: user 5.12 s, sys: 613 ms, total: 5.74 s\n",
      "Wall time: 5.94 s\n"
     ]
    }
   ],
   "source": [
    "%%time\n",
    "\n",
    "nodule_3D, center_full_3D = npz_to_cnn(images_path_lung_img, images_path_nodule_mask, id_patients[29])\n",
    "#plot_3d(nodule_3D)"
   ]
  },
  {
   "cell_type": "markdown",
   "metadata": {},
   "source": [
    "- Problème 1) se met en évidence en printant les center_full_3D de id_patients[8] et de '1.3.6.1.4.1.14519.5.2.1.6279.6001.137763212752154081977261297097' par exemple :\n",
    "- On remarque que quand on a 2 nodules, ils sont classés dans center_full par ordre croissant (je pense) selon la premiere coordonnées\n",
    "- Ca fout le bordel et mon -1 dans center_full_3D[i][-1][0] n'est pas bon\n",
    "- Vu qu'il y a peu de gens qui ont 2 nodules, à voir si on se fait chier à régler le pb ou si on ballec\n",
    "- Sinon on sélectionne le nodule qui apparait dans le plus de slice ?\n",
    "- Ou on peut sélectionner le nodule qui a l'area la plus importante toutes slices confondues ?\n"
   ]
  },
  {
   "cell_type": "markdown",
   "metadata": {},
   "source": [
    "- Problème 2) le fait que dans le preprocessing, on selectionne uniquement les deux plus grosses areas d'une slice fausse la détection 3D des nodules (sur une slice, les 2 plus gros nodules ne sont pas forcément ceux qui ont la plus grosse area sur la slice en question, ça dépend si la slice les coupe en plein milieu ou au niveau d'une extremité)"
   ]
  },
  {
   "cell_type": "markdown",
   "metadata": {},
   "source": [
    "## Implémentation du CNN : (Pas finie)\n",
    "- https://www.kaggle.com/sentdex/first-pass-through-data-w-3d-convnet"
   ]
  },
  {
   "cell_type": "code",
   "execution_count": 127,
   "metadata": {
    "collapsed": true
   },
   "outputs": [],
   "source": [
    "from keras import layers\n",
    "from keras import models\n",
    "from keras import optimizers"
   ]
  },
  {
   "cell_type": "code",
   "execution_count": 128,
   "metadata": {},
   "outputs": [
    {
     "name": "stdout",
     "output_type": "stream",
     "text": [
      "_________________________________________________________________\n",
      "Layer (type)                 Output Shape              Param #   \n",
      "=================================================================\n",
      "conv3d_26 (Conv3D)           (None, 14, 14, 14, 32)    896       \n",
      "_________________________________________________________________\n",
      "max_pooling3d_22 (MaxPooling (None, 7, 7, 7, 32)       0         \n",
      "_________________________________________________________________\n",
      "conv3d_27 (Conv3D)           (None, 5, 5, 5, 64)       55360     \n",
      "_________________________________________________________________\n",
      "max_pooling3d_23 (MaxPooling (None, 2, 2, 2, 64)       0         \n",
      "_________________________________________________________________\n",
      "dense_13 (Dense)             (None, 2, 2, 2, 4096)     266240    \n",
      "_________________________________________________________________\n",
      "dropout_9 (Dropout)          (None, 2, 2, 2, 4096)     0         \n",
      "_________________________________________________________________\n",
      "dense_14 (Dense)             (None, 2, 2, 2, 1)        4097      \n",
      "=================================================================\n",
      "Total params: 326,593\n",
      "Trainable params: 326,593\n",
      "Non-trainable params: 0\n",
      "_________________________________________________________________\n"
     ]
    }
   ],
   "source": [
    "image_channels = 1\n",
    "\n",
    "model = models.Sequential()\n",
    "\n",
    "model.add(layers.Conv3D(32, (3,3,3), activation = 'relu', input_shape = (16,16,16,image_channels)))\n",
    "model.add(layers.MaxPooling3D((2,2,2)))\n",
    "\n",
    "model.add(layers.Conv3D(64, (3,3,3), activation = 'relu'))\n",
    "model.add(layers.MaxPooling3D((2,2,2)))\n",
    "\n",
    "model.add(layers.Dense(4096, activation='relu')) ##4096 pris un peu au pif (16x16x16)\n",
    "model.add(layers.Dropout(0.8))\n",
    "\n",
    "model.add(layers.Dense(1, kernel_initializer='normal', activation='sigmoid')) ##Couche de sortie\n",
    "          \n",
    "model.compile(loss='binary_crossentropy',\n",
    "                      optimizer=optimizers.Adam(lr=1e-3)) ##Quel loss choisir ?\n",
    "\n",
    "model.summary()"
   ]
  },
  {
   "cell_type": "code",
   "execution_count": 129,
   "metadata": {},
   "outputs": [
    {
     "name": "stdout",
     "output_type": "stream",
     "text": [
      "Epoch 1/5\n",
      "1/1 [==============================] - 1s 902ms/step - loss: 12.6738\n",
      "Epoch 2/5\n",
      "1/1 [==============================] - 0s 63ms/step - loss: 3.4292e-06\n",
      "Epoch 3/5\n",
      "1/1 [==============================] - 0s 70ms/step - loss: 1.0000e-07\n",
      "Epoch 4/5\n",
      "1/1 [==============================] - 0s 72ms/step - loss: 1.0000e-07\n",
      "Epoch 5/5\n",
      "1/1 [==============================] - 0s 67ms/step - loss: 1.0000e-07\n"
     ]
    },
    {
     "data": {
      "text/plain": [
       "<keras.callbacks.History at 0x115018890>"
      ]
     },
     "execution_count": 129,
     "metadata": {},
     "output_type": "execute_result"
    }
   ],
   "source": [
    "train_images = np.reshape(first_nodule_3D, (1,16,16,16,1))\n",
    "train_labels = np.zeros((1,2,2,2,1)) ##Foireux, à modifier, mais le réseau voulait ce shape\n",
    "model.fit(train_images, train_labels, epochs=5, batch_size=1)"
   ]
  },
  {
   "cell_type": "code",
   "execution_count": null,
   "metadata": {
    "collapsed": true
   },
   "outputs": [],
   "source": [
    "##code Kaggle\n",
    "\"\"\"\"\n",
    "    weights = {'W_conv1':tf.Variable(tf.random_normal([3,3,3,1,32])),\n",
    "               #       5 x 5 x 5 patches, 32 channels, 64 features to compute.\n",
    "               'W_conv2':tf.Variable(tf.random_normal([3,3,3,32,64])),\n",
    "               #                                  64 features\n",
    "               'W_fc':tf.Variable(tf.random_normal([54080,1024])),\n",
    "               'out':tf.Variable(tf.random_normal([1024, n_classes]))}\n",
    "\n",
    "    biases = {'b_conv1':tf.Variable(tf.random_normal([32])),\n",
    "               'b_conv2':tf.Variable(tf.random_normal([64])),\n",
    "               'b_fc':tf.Variable(tf.random_normal([1024])),\n",
    "               'out':tf.Variable(tf.random_normal([n_classes]))}\n",
    "\n",
    "    #                            image X      image Y        image Z\n",
    "    x = tf.reshape(x, shape=[-1, IMG_SIZE_PX, IMG_SIZE_PX, SLICE_COUNT, 1])\n",
    "\n",
    "    conv1 = tf.nn.relu(conv3d(x, weights['W_conv1']) + biases['b_conv1'])\n",
    "    conv1 = maxpool3d(conv1)\n",
    "\n",
    "\n",
    "    conv2 = tf.nn.relu(conv3d(conv1, weights['W_conv2']) + biases['b_conv2'])\n",
    "    conv2 = maxpool3d(conv2)\n",
    "\n",
    "    fc = tf.reshape(conv2,[-1, 54080])\n",
    "    fc = tf.nn.relu(tf.matmul(fc, weights['W_fc'])+biases['b_fc'])\n",
    "    fc = tf.nn.dropout(fc, keep_rate)\n",
    "\n",
    "    output = tf.matmul(fc, weights['out'])+biases['out']\n",
    "\"\"\"\"\""
   ]
  },
  {
   "cell_type": "markdown",
   "metadata": {},
   "source": [
    "## Test pour distinguer les differents nodules à chaque fois"
   ]
  },
  {
   "cell_type": "code",
   "execution_count": 268,
   "metadata": {
    "collapsed": true
   },
   "outputs": [],
   "source": [
    "test_center_full_3D = center_full_3D[:]"
   ]
  },
  {
   "cell_type": "code",
   "execution_count": 269,
   "metadata": {},
   "outputs": [
    {
     "name": "stdout",
     "output_type": "stream",
     "text": [
      "[(316.5, 170.5)]\n",
      "[(316.5, 170.5)]\n",
      "[(316.5, 170.5)]\n",
      "[(316.5, 170.5)]\n",
      "[(309.5, 173.5), (312.0, 161.0)]\n",
      "[(309.5, 173.5), (312.0, 161.0)]\n",
      "[(309.5, 173.5), (312.0, 161.0)]\n",
      "[(309.5, 173.5)]\n",
      "[(271.0, 169.0)]\n",
      "[(271.0, 169.0), (304.0, 192.0)]\n",
      "[(271.0, 169.0), (304.0, 192.0)]\n",
      "[(271.0, 169.0), (304.0, 192.0)]\n",
      "[(271.0, 169.0), (304.0, 192.0)]\n",
      "[(304.0, 192.0)]\n",
      "[(304.0, 192.0)]\n",
      "[(304.0, 192.0)]\n",
      "16\n"
     ]
    }
   ],
   "source": [
    "for i in range(0, len(test_center_full_3D)):\n",
    "    print(test_center_full_3D[i])\n",
    "print(len(test_center_full_3D))"
   ]
  },
  {
   "cell_type": "code",
   "execution_count": 270,
   "metadata": {},
   "outputs": [],
   "source": [
    "dist = 2;\n",
    "nodule1 = []\n",
    "nodule2 = []\n",
    "nodule3 = []\n",
    "cnts1= 0\n",
    "cnts2=0\n",
    "for i in range(0, len(test_center_full_3D)):\n",
    "    if(len(test_center_full_3D[i])==1):\n",
    "        if not(nodule1): ##Si nodule1 est vide\n",
    "            nodule1.append(test_center_full_3D[i][0])\n",
    "        elif(distance.euclidean(test_center_full_3D[i],nodule1[0])<2): ##Si proche des éléments de nodule1\n",
    "            nodule1.append(test_center_full_3D[i][0])\n",
    "        elif not(nodule2): ##Si nodule2 est vide\n",
    "            nodule2.append(test_center_full_3D[i][0])\n",
    "        elif(distance.euclidean(test_center_full_3D[i],nodule2[0])<2): ##Si proche des éléments de nodule2\n",
    "                nodule2.append(test_center_full_3D[i][0])\n",
    "        else :\n",
    "            cnts1 +=1\n",
    "            nodule3.append(test_center_full_3D[i][0])\n",
    "        \n",
    "    if(len(test_center_full_3D[i])==2):\n",
    "        if(distance.euclidean(test_center_full_3D[i][0],nodule1[0])<2):\n",
    "            nodule1.append(test_center_full_3D[i][0])\n",
    "        elif(not(nodule2)): ##Si nodule2 est vide\n",
    "            nodule2.append(test_center_full_3D[i][0])\n",
    "        elif(distance.euclidean(test_center_full_3D[i][0],nodule2[0])<2):\n",
    "            nodule2.append(test_center_full_3D[i][0])\n",
    "        else:\n",
    "            nodule3.append(test_center_full_3D[i][0])\n",
    "            \n",
    "        if(distance.euclidean(test_center_full_3D[i][1],nodule1[0])<2):\n",
    "            nodule1.append(test_center_full_3D[i][1])\n",
    "        elif(not(nodule2)): ##Si nodule2 est vide\n",
    "            nodule2.append(test_center_full_3D[i][1])\n",
    "        elif(distance.euclidean(test_center_full_3D[i][1],nodule2[0])<2):\n",
    "            nodule2.append(test_center_full_3D[i][1])\n",
    "        else:\n",
    "            nodule3.append(test_center_full_3D[i][1])\n",
    "        "
   ]
  },
  {
   "cell_type": "code",
   "execution_count": 271,
   "metadata": {},
   "outputs": [
    {
     "name": "stdout",
     "output_type": "stream",
     "text": [
      "(316.5, 170.5)\n",
      "(316.5, 170.5)\n",
      "(316.5, 170.5)\n",
      "(316.5, 170.5)\n",
      "4\n"
     ]
    }
   ],
   "source": [
    "for i in range(0, len(nodule1)):\n",
    "    print(nodule1[i])\n",
    "print(len(nodule1))"
   ]
  },
  {
   "cell_type": "code",
   "execution_count": 272,
   "metadata": {},
   "outputs": [
    {
     "name": "stdout",
     "output_type": "stream",
     "text": [
      "(309.5, 173.5)\n",
      "(309.5, 173.5)\n",
      "(309.5, 173.5)\n",
      "(309.5, 173.5)\n",
      "4\n"
     ]
    }
   ],
   "source": [
    "for i in range(0, len(nodule2)):\n",
    "    print(nodule2[i])\n",
    "print(len(nodule2))"
   ]
  },
  {
   "cell_type": "code",
   "execution_count": 273,
   "metadata": {},
   "outputs": [
    {
     "name": "stdout",
     "output_type": "stream",
     "text": [
      "(312.0, 161.0)\n",
      "(312.0, 161.0)\n",
      "(312.0, 161.0)\n",
      "(271.0, 169.0)\n",
      "(271.0, 169.0)\n",
      "(304.0, 192.0)\n",
      "(271.0, 169.0)\n",
      "(304.0, 192.0)\n",
      "(271.0, 169.0)\n",
      "(304.0, 192.0)\n",
      "(271.0, 169.0)\n",
      "(304.0, 192.0)\n",
      "(304.0, 192.0)\n",
      "(304.0, 192.0)\n",
      "(304.0, 192.0)\n",
      "15\n"
     ]
    }
   ],
   "source": [
    "for i in range(0, len(nodule3)):\n",
    "    print(nodule3[i])\n",
    "print(len(nodule3))"
   ]
  },
  {
   "cell_type": "code",
   "execution_count": 140,
   "metadata": {},
   "outputs": [
    {
     "name": "stdout",
     "output_type": "stream",
     "text": [
      "5.196152422706632\n"
     ]
    }
   ],
   "source": [
    "from scipy.spatial import distance\n",
    "a = (1,2,3)\n",
    "b = (4,5,6)\n",
    "dst = distance.euclidean(a,b)\n",
    "print(dst)"
   ]
  },
  {
   "cell_type": "code",
   "execution_count": null,
   "metadata": {
    "collapsed": true
   },
   "outputs": [],
   "source": []
  }
 ],
 "metadata": {
  "kernelspec": {
   "display_name": "Python 2",
   "language": "python",
   "name": "python2"
  },
  "language_info": {
   "codemirror_mode": {
    "name": "ipython",
    "version": 2
   },
   "file_extension": ".py",
   "mimetype": "text/x-python",
   "name": "python",
   "nbconvert_exporter": "python",
   "pygments_lexer": "ipython2",
   "version": "2.7.13"
  }
 },
 "nbformat": 4,
 "nbformat_minor": 2
}
