{
 "cells": [
  {
   "cell_type": "code",
   "execution_count": 1,
   "metadata": {
    "collapsed": true
   },
   "outputs": [],
   "source": [
    "import SimpleITK as sitk\n",
    "import numpy as np\n",
    "import os\n",
    "import pandas as pd\n",
    "import scipy.ndimage\n",
    "from skimage.segmentation import clear_border\n",
    "import pylab"
   ]
  },
  {
   "cell_type": "code",
   "execution_count": 2,
   "metadata": {
    "collapsed": true
   },
   "outputs": [],
   "source": [
    "import skimage, os\n",
    "from skimage.morphology import ball, disk, dilation, binary_erosion, remove_small_objects, erosion, closing, reconstruction, binary_closing\n",
    "from skimage.measure import label,regionprops, perimeter\n",
    "from skimage.morphology import binary_dilation, binary_opening\n",
    "from skimage.filters import roberts, sobel\n",
    "from skimage import measure, feature\n",
    "from skimage.segmentation import clear_border\n",
    "from skimage import data\n",
    "from scipy import ndimage as ndi\n",
    "import matplotlib.pyplot as plt\n",
    "from mpl_toolkits.mplot3d.art3d import Poly3DCollection\n",
    "import dicom\n",
    "import scipy.misc"
   ]
  },
  {
   "cell_type": "markdown",
   "metadata": {},
   "source": [
    "### Fonctions"
   ]
  },
  {
   "cell_type": "code",
   "execution_count": 3,
   "metadata": {
    "collapsed": true
   },
   "outputs": [],
   "source": [
    "'''\n",
    "This funciton reads a '.mhd' file using SimpleITK and return the image array, \n",
    "origin and spacing of the image.\n",
    "'''\n",
    "def load_itk(filename):\n",
    "    # Reads the image using SimpleITK\n",
    "    itkimage = sitk.ReadImage(filename)\n",
    "    \n",
    "    # Convert the image to a  numpy array first and then shuffle the dimensions to get axis in the order z,y,x\n",
    "    ct_scan = sitk.GetArrayFromImage(itkimage)\n",
    "    \n",
    "    # Read the origin of the ct_scan, will be used to convert the coordinates from world to voxel and vice versa.\n",
    "    origin = np.array(list(reversed(itkimage.GetOrigin())))\n",
    "    \n",
    "    # Read the spacing along each dimension\n",
    "    spacing = np.array(list(reversed(itkimage.GetSpacing())))\n",
    "    \n",
    "    return ct_scan, origin, spacing\n",
    "\n",
    "'''\n",
    "This function is used to convert the world coordinates to voxel coordinates using \n",
    "the origin and spacing of the ct_scan\n",
    "'''\n",
    "def world_2_voxel(world_coordinates, origin, spacing):\n",
    "    stretched_voxel_coordinates = np.absolute(world_coordinates - origin)\n",
    "    voxel_coordinates = stretched_voxel_coordinates / spacing\n",
    "    return voxel_coordinates\n",
    "\n",
    "'''\n",
    "This function is used to convert the voxel coordinates to world coordinates using \n",
    "the origin and spacing of the ct_scan.\n",
    "'''\n",
    "def voxel_2_world(voxel_coordinates, origin, spacing):\n",
    "    stretched_voxel_coordinates = voxel_coordinates * spacing\n",
    "    world_coordinates = stretched_voxel_coordinates + origin\n",
    "    return world_coordinates"
   ]
  },
  {
   "cell_type": "code",
   "execution_count": 4,
   "metadata": {
    "collapsed": true
   },
   "outputs": [],
   "source": [
    "def seq(start, stop, step=1):\n",
    "    n = int(round((stop - start)/float(step)))\n",
    "    if n > 1:\n",
    "        return([start + step*i for i in range(n+1)])\n",
    "    else:\n",
    "        return([])"
   ]
  },
  {
   "cell_type": "code",
   "execution_count": 5,
   "metadata": {
    "collapsed": true
   },
   "outputs": [],
   "source": [
    "from pre_processing import get_segmented_lungs"
   ]
  },
  {
   "cell_type": "code",
   "execution_count": 6,
   "metadata": {
    "collapsed": true
   },
   "outputs": [],
   "source": [
    "def segment_lung_from_ct_scan(ct_scan,seuil):\n",
    "    return np.asarray([get_segmented_lungs(slice,seuil) for slice in ct_scan])"
   ]
  },
  {
   "cell_type": "code",
   "execution_count": 7,
   "metadata": {
    "collapsed": true
   },
   "outputs": [],
   "source": [
    "'''\n",
    "This function is used to create spherical regions in binary masks\n",
    "at the given locations and radius.\n",
    "'''\n",
    "def draw_circles(image,cands,origin,spacing):\n",
    "    #make empty matrix, which will be filled with the mask\n",
    "    RESIZE_SPACING = [1, 1, 1]\n",
    "    image_mask = np.zeros(image.shape)\n",
    "\n",
    "    #run over all the nodules in the lungs\n",
    "    for ca in cands.values:\n",
    "        #get middel x-,y-, and z-worldcoordinate of the nodule\n",
    "        radius = np.ceil(ca[4])/2\n",
    "        coord_x = ca[1]\n",
    "        coord_y = ca[2]\n",
    "        coord_z = ca[3]\n",
    "        image_coord = np.array((coord_z,coord_y,coord_x))\n",
    "\n",
    "        #determine voxel coordinate given the worldcoordinate\n",
    "        image_coord = world_2_voxel(image_coord,origin,spacing)\n",
    "\n",
    "        #determine the range of the nodule\n",
    "        noduleRange = seq(-radius, radius, RESIZE_SPACING[0])\n",
    "\n",
    "        #create the mask\n",
    "        for x in noduleRange:\n",
    "            for y in noduleRange:\n",
    "                for z in noduleRange:\n",
    "                    coords = world_2_voxel(np.array((coord_z+z,coord_y+y,coord_x+x)),origin,spacing)\n",
    "                    if (np.linalg.norm(image_coord-coords) * RESIZE_SPACING[0]) < radius:\n",
    "                        \n",
    "                        mask_x = int(max(0,min(image_mask.shape[0]-1,coords[0])))\n",
    "                        mask_y = int(max(0,min(image_mask.shape[1]-1,coords[1])))\n",
    "                        mask_z = int(max(0,min(image_mask.shape[2]-1,coords[2])))\n",
    "\n",
    "                        image_mask[mask_x,mask_y,mask_z] = int(1)\n",
    "\n",
    "    return image_mask"
   ]
  },
  {
   "cell_type": "code",
   "execution_count": 264,
   "metadata": {
    "collapsed": true
   },
   "outputs": [],
   "source": [
    "'''\n",
    "This function takes the path to a '.mhd' file as input and \n",
    "is used to create the nodule masks and segmented lungs after \n",
    "rescaling to 1mm size in all directions. It saved them in the .npz\n",
    "format. It also takes the list of nodule locations in that CT Scan as \n",
    "input.\n",
    "'''\n",
    "def create_nodule_mask(imagePath, cands, imageName,path):\n",
    "    #if os.path.isfile(imagePath.replace('original',SAVE_FOLDER_image)) == False:\n",
    "    img, origin, spacing = load_itk(imagePath)\n",
    "\n",
    "    #calculate resize factor\n",
    "    RESIZE_SPACING = [1, 1, 1]\n",
    "    resize_factor = spacing / RESIZE_SPACING\n",
    "    new_real_shape = img.shape * resize_factor\n",
    "    new_shape = np.round(new_real_shape)\n",
    "    real_resize = new_shape / img.shape\n",
    "    new_spacing = spacing / real_resize\n",
    "    \n",
    "    #resize image\n",
    "    lung_img = scipy.ndimage.interpolation.zoom(img, real_resize)\n",
    "    \n",
    "    # Segment the lung structure\n",
    "    lung_img = lung_img + 1024\n",
    "    lung_mask = segment_lung_from_ct_scan(lung_img,seuil=604)\n",
    "    lung_img = lung_img - 1024\n",
    "\n",
    "    #create nodule mask\n",
    "    nodule_mask = draw_circles(lung_img,cands,origin,new_spacing)\n",
    "\n",
    "    lung_img_512, lung_mask_512, nodule_mask_512 = np.zeros((lung_img.shape[0], 512, 512)), np.zeros((lung_mask.shape[0], 512, 512)), np.zeros((nodule_mask.shape[0], 512, 512))\n",
    "\n",
    "    original_shape = lung_img.shape\t\n",
    "    for z in range(lung_img.shape[0]):\n",
    "        offset = (512 - original_shape[1])\n",
    "        upper_offset = np.round(offset/2)\n",
    "        lower_offset = offset - upper_offset\n",
    "\n",
    "        new_origin = voxel_2_world([-upper_offset,-lower_offset,0],origin,new_spacing)\n",
    "\n",
    "        lung_img_512[z, upper_offset:-lower_offset,upper_offset:-lower_offset] = lung_img[z,:,:]\n",
    "        lung_mask_512[z, upper_offset:-lower_offset,upper_offset:-lower_offset] = lung_mask[z,:,:]\n",
    "        nodule_mask_512[z, upper_offset:-lower_offset,upper_offset:-lower_offset] = nodule_mask[z,:,:]\n",
    "\n",
    "    # save images.    \n",
    "    #np.save(path + imageName + '_lung_img.npz', lung_img_512)\n",
    "    #np.save(path + imageName + '_lung_mask.npz', lung_mask_512)\n",
    "    #np.save(path + imageName + '_nodule_mask.npz', nodule_mask_512)\n",
    "    \n",
    "    #return\n",
    "    return lung_img_512,nodule_mask_512"
   ]
  },
  {
   "cell_type": "markdown",
   "metadata": {},
   "source": [
    "### Pre_processing"
   ]
  },
  {
   "cell_type": "code",
   "execution_count": 10,
   "metadata": {
    "collapsed": true
   },
   "outputs": [],
   "source": [
    "INPUT_FOLDER = '/home/lucsoret/Projet/Supelec/CEI/Data/LUNA16/Images/subset0'\n",
    "patients_short = os.listdir(INPUT_FOLDER)\n",
    "\n",
    "images = os.listdir(INPUT_FOLDER)\n",
    "images_path = [os.path.join(INPUT_FOLDER,patient) for patient in patients_short]"
   ]
  },
  {
   "cell_type": "code",
   "execution_count": 11,
   "metadata": {},
   "outputs": [
    {
     "name": "stdout",
     "output_type": "stream",
     "text": [
      "1.3.6.1.4.1.14519.5.2.1.6279.6001.141069661700670042960678408762.mhd\n",
      "/home/lucsoret/Projet/Supelec/CEI/Data/LUNA16/Images/subset0/1.3.6.1.4.1.14519.5.2.1.6279.6001.141069661700670042960678408762.mhd\n"
     ]
    }
   ],
   "source": [
    "##On ne garde que les images en .mhd\n",
    "images_mhd = [] \n",
    "for i in range(0,len(images)):\n",
    "    if images[i][-4:] == '.mhd':\n",
    "        images_mhd.append(images[i])\n",
    "        \n",
    "images_mhd_path = [os.path.join(INPUT_FOLDER,mhd) for mhd in images_mhd]\n",
    "print(images_mhd[0])\n",
    "print(images_mhd_path[0])"
   ]
  },
  {
   "cell_type": "code",
   "execution_count": 12,
   "metadata": {
    "collapsed": true
   },
   "outputs": [],
   "source": [
    "##annotations.csv contient l'id, x, y, z et le diametre des nodules malades\n",
    "cands = pd.read_csv('/home/lucsoret/Projet/Supelec/CEI/Data/LUNA16/csv/annotations.csv')\n",
    "\n",
    "##labels.csv contient l'id, x, y, z et si le nodules est malade ou non\n",
    "labels = pd.read_csv('/home/lucsoret/Projet/Supelec/CEI/Data/LUNA16/csv/candidates.csv')\n",
    "\n",
    "##Liste des cands pour chaque image\n",
    "cands_list = []\n",
    "for i in range(0,len(images_mhd)):\n",
    "    cands_list.append(cands[cands['seriesuid'] == images_mhd[i][0:-4]])\n",
    "    \n",
    "##Liste des annotations pour chaque image\n",
    "labels_list = []\n",
    "for i in range(0,len(images_mhd)):\n",
    "    labels_list.append(labels[labels['seriesuid'] == images_mhd[i][0:-4]])"
   ]
  },
  {
   "cell_type": "markdown",
   "metadata": {},
   "source": [
    "__Generation des slices__"
   ]
  },
  {
   "cell_type": "code",
   "execution_count": 265,
   "metadata": {
    "collapsed": true
   },
   "outputs": [],
   "source": [
    "import time\n",
    "from PIL import Image"
   ]
  },
  {
   "cell_type": "code",
   "execution_count": 277,
   "metadata": {
    "scrolled": true
   },
   "outputs": [
    {
     "name": "stdout",
     "output_type": "stream",
     "text": [
      "0\n",
      "pos : 0 , slice : 182\n",
      "1.3.6.1.4.1.14519.5.2.1.6279.6001.141069661700670042960678408762\n",
      "pos : 0 , slice : 183\n",
      "1.3.6.1.4.1.14519.5.2.1.6279.6001.141069661700670042960678408762\n",
      "pos : 0 , slice : 184\n",
      "1.3.6.1.4.1.14519.5.2.1.6279.6001.141069661700670042960678408762\n",
      "pos : 0 , slice : 185\n",
      "1.3.6.1.4.1.14519.5.2.1.6279.6001.141069661700670042960678408762\n",
      "pos : 0 , slice : 186\n",
      "1.3.6.1.4.1.14519.5.2.1.6279.6001.141069661700670042960678408762\n",
      "pos : 0 , slice : 187\n",
      "1.3.6.1.4.1.14519.5.2.1.6279.6001.141069661700670042960678408762\n",
      "3809.825029\n",
      "1\n",
      "pos : 1 , slice : 165\n",
      "1.3.6.1.4.1.14519.5.2.1.6279.6001.323302986710576400812869264321\n",
      "pos : 1 , slice : 166\n",
      "1.3.6.1.4.1.14519.5.2.1.6279.6001.323302986710576400812869264321\n",
      "pos : 1 , slice : 167\n",
      "1.3.6.1.4.1.14519.5.2.1.6279.6001.323302986710576400812869264321\n",
      "pos : 1 , slice : 168\n",
      "1.3.6.1.4.1.14519.5.2.1.6279.6001.323302986710576400812869264321\n",
      "pos : 1 , slice : 169\n",
      "1.3.6.1.4.1.14519.5.2.1.6279.6001.323302986710576400812869264321\n",
      "pos : 1 , slice : 170\n",
      "1.3.6.1.4.1.14519.5.2.1.6279.6001.323302986710576400812869264321\n",
      "pos : 1 , slice : 171\n",
      "1.3.6.1.4.1.14519.5.2.1.6279.6001.323302986710576400812869264321\n",
      "3845.625209\n",
      "2\n",
      "pos : 2 , slice : 212\n",
      "1.3.6.1.4.1.14519.5.2.1.6279.6001.272042302501586336192628818865\n",
      "pos : 2 , slice : 213\n",
      "1.3.6.1.4.1.14519.5.2.1.6279.6001.272042302501586336192628818865\n",
      "pos : 2 , slice : 214\n",
      "1.3.6.1.4.1.14519.5.2.1.6279.6001.272042302501586336192628818865\n",
      "pos : 2 , slice : 215\n",
      "1.3.6.1.4.1.14519.5.2.1.6279.6001.272042302501586336192628818865\n",
      "pos : 2 , slice : 216\n",
      "1.3.6.1.4.1.14519.5.2.1.6279.6001.272042302501586336192628818865\n",
      "3880.29769\n",
      "3\n",
      "pos : 3 , slice : 190\n",
      "1.3.6.1.4.1.14519.5.2.1.6279.6001.395623571499047043765181005112\n",
      "pos : 3 , slice : 191\n",
      "1.3.6.1.4.1.14519.5.2.1.6279.6001.395623571499047043765181005112\n",
      "pos : 3 , slice : 192\n",
      "1.3.6.1.4.1.14519.5.2.1.6279.6001.395623571499047043765181005112\n",
      "pos : 3 , slice : 193\n",
      "1.3.6.1.4.1.14519.5.2.1.6279.6001.395623571499047043765181005112\n",
      "pos : 3 , slice : 194\n",
      "1.3.6.1.4.1.14519.5.2.1.6279.6001.395623571499047043765181005112\n",
      "pos : 3 , slice : 195\n",
      "1.3.6.1.4.1.14519.5.2.1.6279.6001.395623571499047043765181005112\n",
      "pos : 3 , slice : 196\n",
      "1.3.6.1.4.1.14519.5.2.1.6279.6001.395623571499047043765181005112\n",
      "3917.354572\n",
      "4\n",
      "pos : 4 , slice : 152\n",
      "1.3.6.1.4.1.14519.5.2.1.6279.6001.640729228179368154416184318668\n",
      "pos : 4 , slice : 153\n",
      "1.3.6.1.4.1.14519.5.2.1.6279.6001.640729228179368154416184318668\n",
      "pos : 4 , slice : 154\n",
      "1.3.6.1.4.1.14519.5.2.1.6279.6001.640729228179368154416184318668\n",
      "pos : 4 , slice : 155\n",
      "1.3.6.1.4.1.14519.5.2.1.6279.6001.640729228179368154416184318668\n",
      "pos : 4 , slice : 156\n",
      "1.3.6.1.4.1.14519.5.2.1.6279.6001.640729228179368154416184318668\n",
      "pos : 4 , slice : 157\n",
      "1.3.6.1.4.1.14519.5.2.1.6279.6001.640729228179368154416184318668\n",
      "3958.270498\n",
      "3958.272116\n",
      "3958.273075\n",
      "3958.273874\n",
      "8\n",
      "pos : 8 , slice : 169\n",
      "1.3.6.1.4.1.14519.5.2.1.6279.6001.450501966058662668272378865145\n",
      "pos : 8 , slice : 170\n",
      "1.3.6.1.4.1.14519.5.2.1.6279.6001.450501966058662668272378865145\n",
      "pos : 8 , slice : 171\n",
      "1.3.6.1.4.1.14519.5.2.1.6279.6001.450501966058662668272378865145\n",
      "pos : 8 , slice : 172\n",
      "1.3.6.1.4.1.14519.5.2.1.6279.6001.450501966058662668272378865145\n",
      "pos : 8 , slice : 266\n",
      "1.3.6.1.4.1.14519.5.2.1.6279.6001.450501966058662668272378865145\n",
      "pos : 8 , slice : 267\n",
      "1.3.6.1.4.1.14519.5.2.1.6279.6001.450501966058662668272378865145\n",
      "pos : 8 , slice : 268\n",
      "1.3.6.1.4.1.14519.5.2.1.6279.6001.450501966058662668272378865145\n",
      "pos : 8 , slice : 269\n",
      "1.3.6.1.4.1.14519.5.2.1.6279.6001.450501966058662668272378865145\n",
      "pos : 8 , slice : 270\n",
      "1.3.6.1.4.1.14519.5.2.1.6279.6001.450501966058662668272378865145\n",
      "pos : 8 , slice : 271\n",
      "1.3.6.1.4.1.14519.5.2.1.6279.6001.450501966058662668272378865145\n",
      "pos : 8 , slice : 272\n",
      "1.3.6.1.4.1.14519.5.2.1.6279.6001.450501966058662668272378865145\n",
      "pos : 8 , slice : 273\n",
      "1.3.6.1.4.1.14519.5.2.1.6279.6001.450501966058662668272378865145\n",
      "pos : 8 , slice : 274\n",
      "1.3.6.1.4.1.14519.5.2.1.6279.6001.450501966058662668272378865145\n",
      "pos : 8 , slice : 275\n",
      "1.3.6.1.4.1.14519.5.2.1.6279.6001.450501966058662668272378865145\n",
      "pos : 8 , slice : 276\n",
      "1.3.6.1.4.1.14519.5.2.1.6279.6001.450501966058662668272378865145\n",
      "pos : 8 , slice : 277\n",
      "1.3.6.1.4.1.14519.5.2.1.6279.6001.450501966058662668272378865145\n",
      "pos : 8 , slice : 278\n",
      "1.3.6.1.4.1.14519.5.2.1.6279.6001.450501966058662668272378865145\n",
      "3990.139393\n",
      "3990.140644\n",
      "10\n",
      "pos : 10 , slice : 126\n",
      "1.3.6.1.4.1.14519.5.2.1.6279.6001.277445975068759205899107114231\n",
      "pos : 10 , slice : 127\n",
      "1.3.6.1.4.1.14519.5.2.1.6279.6001.277445975068759205899107114231\n",
      "pos : 10 , slice : 128\n",
      "1.3.6.1.4.1.14519.5.2.1.6279.6001.277445975068759205899107114231\n",
      "pos : 10 , slice : 129\n",
      "1.3.6.1.4.1.14519.5.2.1.6279.6001.277445975068759205899107114231\n",
      "pos : 10 , slice : 130\n",
      "1.3.6.1.4.1.14519.5.2.1.6279.6001.277445975068759205899107114231\n",
      "pos : 10 , slice : 132\n",
      "1.3.6.1.4.1.14519.5.2.1.6279.6001.277445975068759205899107114231\n",
      "pos : 10 , slice : 133\n",
      "1.3.6.1.4.1.14519.5.2.1.6279.6001.277445975068759205899107114231\n",
      "pos : 10 , slice : 134\n",
      "1.3.6.1.4.1.14519.5.2.1.6279.6001.277445975068759205899107114231\n",
      "pos : 10 , slice : 135\n",
      "1.3.6.1.4.1.14519.5.2.1.6279.6001.277445975068759205899107114231\n",
      "4031.056677\n",
      "4031.057892\n",
      "12\n",
      "pos : 12 , slice : 195\n",
      "1.3.6.1.4.1.14519.5.2.1.6279.6001.621916089407825046337959219998\n",
      "pos : 12 , slice : 196\n",
      "1.3.6.1.4.1.14519.5.2.1.6279.6001.621916089407825046337959219998\n",
      "pos : 12 , slice : 197\n",
      "1.3.6.1.4.1.14519.5.2.1.6279.6001.621916089407825046337959219998\n",
      "pos : 12 , slice : 198\n",
      "1.3.6.1.4.1.14519.5.2.1.6279.6001.621916089407825046337959219998\n",
      "pos : 12 , slice : 199\n",
      "1.3.6.1.4.1.14519.5.2.1.6279.6001.621916089407825046337959219998\n",
      "pos : 12 , slice : 200\n",
      "1.3.6.1.4.1.14519.5.2.1.6279.6001.621916089407825046337959219998\n",
      "pos : 12 , slice : 201\n",
      "1.3.6.1.4.1.14519.5.2.1.6279.6001.621916089407825046337959219998\n",
      "pos : 12 , slice : 202\n",
      "1.3.6.1.4.1.14519.5.2.1.6279.6001.621916089407825046337959219998\n",
      "pos : 12 , slice : 203\n",
      "1.3.6.1.4.1.14519.5.2.1.6279.6001.621916089407825046337959219998\n",
      "pos : 12 , slice : 204\n",
      "1.3.6.1.4.1.14519.5.2.1.6279.6001.621916089407825046337959219998\n",
      "pos : 12 , slice : 205\n",
      "1.3.6.1.4.1.14519.5.2.1.6279.6001.621916089407825046337959219998\n",
      "pos : 12 , slice : 206\n",
      "1.3.6.1.4.1.14519.5.2.1.6279.6001.621916089407825046337959219998\n",
      "pos : 12 , slice : 207\n",
      "1.3.6.1.4.1.14519.5.2.1.6279.6001.621916089407825046337959219998\n",
      "4086.590158\n",
      "13\n",
      "pos : 13 , slice : 220\n",
      "1.3.6.1.4.1.14519.5.2.1.6279.6001.430109407146633213496148200410\n",
      "pos : 13 , slice : 221\n",
      "1.3.6.1.4.1.14519.5.2.1.6279.6001.430109407146633213496148200410\n",
      "pos : 13 , slice : 222\n",
      "1.3.6.1.4.1.14519.5.2.1.6279.6001.430109407146633213496148200410\n",
      "pos : 13 , slice : 223\n",
      "1.3.6.1.4.1.14519.5.2.1.6279.6001.430109407146633213496148200410\n",
      "pos : 13 , slice : 224\n",
      "1.3.6.1.4.1.14519.5.2.1.6279.6001.430109407146633213496148200410\n",
      "pos : 13 , slice : 225\n",
      "1.3.6.1.4.1.14519.5.2.1.6279.6001.430109407146633213496148200410\n",
      "pos : 13 , slice : 226\n",
      "1.3.6.1.4.1.14519.5.2.1.6279.6001.430109407146633213496148200410\n",
      "pos : 13 , slice : 227\n",
      "1.3.6.1.4.1.14519.5.2.1.6279.6001.430109407146633213496148200410\n",
      "pos : 13 , slice : 228\n",
      "1.3.6.1.4.1.14519.5.2.1.6279.6001.430109407146633213496148200410\n",
      "pos : 13 , slice : 286\n",
      "1.3.6.1.4.1.14519.5.2.1.6279.6001.430109407146633213496148200410\n",
      "pos : 13 , slice : 287\n",
      "1.3.6.1.4.1.14519.5.2.1.6279.6001.430109407146633213496148200410\n",
      "pos : 13 , slice : 288\n",
      "1.3.6.1.4.1.14519.5.2.1.6279.6001.430109407146633213496148200410\n",
      "pos : 13 , slice : 289\n",
      "1.3.6.1.4.1.14519.5.2.1.6279.6001.430109407146633213496148200410\n",
      "pos : 13 , slice : 290\n",
      "1.3.6.1.4.1.14519.5.2.1.6279.6001.430109407146633213496148200410\n",
      "pos : 13 , slice : 291\n",
      "1.3.6.1.4.1.14519.5.2.1.6279.6001.430109407146633213496148200410\n",
      "pos : 13 , slice : 292\n",
      "1.3.6.1.4.1.14519.5.2.1.6279.6001.430109407146633213496148200410\n",
      "pos : 13 , slice : 293\n",
      "1.3.6.1.4.1.14519.5.2.1.6279.6001.430109407146633213496148200410\n",
      "pos : 13 , slice : 294\n",
      "1.3.6.1.4.1.14519.5.2.1.6279.6001.430109407146633213496148200410\n",
      "pos : 13 , slice : 295\n",
      "1.3.6.1.4.1.14519.5.2.1.6279.6001.430109407146633213496148200410\n",
      "pos : 13 , slice : 296\n",
      "1.3.6.1.4.1.14519.5.2.1.6279.6001.430109407146633213496148200410\n",
      "pos : 13 , slice : 297\n",
      "1.3.6.1.4.1.14519.5.2.1.6279.6001.430109407146633213496148200410\n",
      "pos : 13 , slice : 329\n",
      "1.3.6.1.4.1.14519.5.2.1.6279.6001.430109407146633213496148200410\n",
      "pos : 13 , slice : 330\n",
      "1.3.6.1.4.1.14519.5.2.1.6279.6001.430109407146633213496148200410\n",
      "pos : 13 , slice : 331\n",
      "1.3.6.1.4.1.14519.5.2.1.6279.6001.430109407146633213496148200410\n",
      "pos : 13 , slice : 332\n",
      "1.3.6.1.4.1.14519.5.2.1.6279.6001.430109407146633213496148200410\n",
      "4135.174077\n",
      "4135.175064\n"
     ]
    },
    {
     "name": "stdout",
     "output_type": "stream",
     "text": [
      "15\n",
      "pos : 15 , slice : 84\n",
      "1.3.6.1.4.1.14519.5.2.1.6279.6001.194440094986948071643661798326\n",
      "pos : 15 , slice : 85\n",
      "1.3.6.1.4.1.14519.5.2.1.6279.6001.194440094986948071643661798326\n",
      "pos : 15 , slice : 86\n",
      "1.3.6.1.4.1.14519.5.2.1.6279.6001.194440094986948071643661798326\n",
      "pos : 15 , slice : 87\n",
      "1.3.6.1.4.1.14519.5.2.1.6279.6001.194440094986948071643661798326\n",
      "pos : 15 , slice : 88\n",
      "1.3.6.1.4.1.14519.5.2.1.6279.6001.194440094986948071643661798326\n",
      "pos : 15 , slice : 89\n",
      "1.3.6.1.4.1.14519.5.2.1.6279.6001.194440094986948071643661798326\n",
      "pos : 15 , slice : 90\n",
      "1.3.6.1.4.1.14519.5.2.1.6279.6001.194440094986948071643661798326\n",
      "pos : 15 , slice : 91\n",
      "1.3.6.1.4.1.14519.5.2.1.6279.6001.194440094986948071643661798326\n",
      "4180.167993\n",
      "16\n",
      "pos : 16 , slice : 246\n",
      "1.3.6.1.4.1.14519.5.2.1.6279.6001.128023902651233986592378348912\n",
      "pos : 16 , slice : 247\n",
      "1.3.6.1.4.1.14519.5.2.1.6279.6001.128023902651233986592378348912\n",
      "pos : 16 , slice : 248\n",
      "1.3.6.1.4.1.14519.5.2.1.6279.6001.128023902651233986592378348912\n",
      "pos : 16 , slice : 249\n",
      "1.3.6.1.4.1.14519.5.2.1.6279.6001.128023902651233986592378348912\n",
      "pos : 16 , slice : 250\n",
      "1.3.6.1.4.1.14519.5.2.1.6279.6001.128023902651233986592378348912\n",
      "pos : 16 , slice : 251\n",
      "1.3.6.1.4.1.14519.5.2.1.6279.6001.128023902651233986592378348912\n",
      "pos : 16 , slice : 252\n",
      "1.3.6.1.4.1.14519.5.2.1.6279.6001.128023902651233986592378348912\n",
      "pos : 16 , slice : 253\n",
      "1.3.6.1.4.1.14519.5.2.1.6279.6001.128023902651233986592378348912\n",
      "pos : 16 , slice : 254\n",
      "1.3.6.1.4.1.14519.5.2.1.6279.6001.128023902651233986592378348912\n",
      "pos : 16 , slice : 255\n",
      "1.3.6.1.4.1.14519.5.2.1.6279.6001.128023902651233986592378348912\n",
      "4217.819441\n",
      "17\n",
      "pos : 17 , slice : 129\n",
      "1.3.6.1.4.1.14519.5.2.1.6279.6001.317087518531899043292346860596\n",
      "pos : 17 , slice : 130\n",
      "1.3.6.1.4.1.14519.5.2.1.6279.6001.317087518531899043292346860596\n",
      "pos : 17 , slice : 131\n",
      "1.3.6.1.4.1.14519.5.2.1.6279.6001.317087518531899043292346860596\n",
      "pos : 17 , slice : 132\n",
      "1.3.6.1.4.1.14519.5.2.1.6279.6001.317087518531899043292346860596\n",
      "pos : 17 , slice : 133\n",
      "1.3.6.1.4.1.14519.5.2.1.6279.6001.317087518531899043292346860596\n",
      "pos : 17 , slice : 134\n",
      "1.3.6.1.4.1.14519.5.2.1.6279.6001.317087518531899043292346860596\n",
      "pos : 17 , slice : 135\n",
      "1.3.6.1.4.1.14519.5.2.1.6279.6001.317087518531899043292346860596\n",
      "pos : 17 , slice : 136\n",
      "1.3.6.1.4.1.14519.5.2.1.6279.6001.317087518531899043292346860596\n",
      "pos : 17 , slice : 137\n",
      "1.3.6.1.4.1.14519.5.2.1.6279.6001.317087518531899043292346860596\n",
      "pos : 17 , slice : 138\n",
      "1.3.6.1.4.1.14519.5.2.1.6279.6001.317087518531899043292346860596\n",
      "pos : 17 , slice : 139\n",
      "1.3.6.1.4.1.14519.5.2.1.6279.6001.317087518531899043292346860596\n",
      "4252.319588\n",
      "18\n",
      "pos : 18 , slice : 101\n",
      "1.3.6.1.4.1.14519.5.2.1.6279.6001.826812708000318290301835871780\n",
      "pos : 18 , slice : 102\n",
      "1.3.6.1.4.1.14519.5.2.1.6279.6001.826812708000318290301835871780\n",
      "pos : 18 , slice : 103\n",
      "1.3.6.1.4.1.14519.5.2.1.6279.6001.826812708000318290301835871780\n",
      "pos : 18 , slice : 104\n",
      "1.3.6.1.4.1.14519.5.2.1.6279.6001.826812708000318290301835871780\n",
      "pos : 18 , slice : 105\n",
      "1.3.6.1.4.1.14519.5.2.1.6279.6001.826812708000318290301835871780\n",
      "pos : 18 , slice : 106\n",
      "1.3.6.1.4.1.14519.5.2.1.6279.6001.826812708000318290301835871780\n",
      "pos : 18 , slice : 107\n",
      "1.3.6.1.4.1.14519.5.2.1.6279.6001.826812708000318290301835871780\n",
      "pos : 18 , slice : 110\n",
      "1.3.6.1.4.1.14519.5.2.1.6279.6001.826812708000318290301835871780\n",
      "pos : 18 , slice : 111\n",
      "1.3.6.1.4.1.14519.5.2.1.6279.6001.826812708000318290301835871780\n",
      "pos : 18 , slice : 112\n",
      "1.3.6.1.4.1.14519.5.2.1.6279.6001.826812708000318290301835871780\n",
      "pos : 18 , slice : 113\n",
      "1.3.6.1.4.1.14519.5.2.1.6279.6001.826812708000318290301835871780\n",
      "pos : 18 , slice : 114\n",
      "1.3.6.1.4.1.14519.5.2.1.6279.6001.826812708000318290301835871780\n",
      "pos : 18 , slice : 115\n",
      "1.3.6.1.4.1.14519.5.2.1.6279.6001.826812708000318290301835871780\n",
      "pos : 18 , slice : 116\n",
      "1.3.6.1.4.1.14519.5.2.1.6279.6001.826812708000318290301835871780\n",
      "pos : 18 , slice : 117\n",
      "1.3.6.1.4.1.14519.5.2.1.6279.6001.826812708000318290301835871780\n",
      "pos : 18 , slice : 118\n",
      "1.3.6.1.4.1.14519.5.2.1.6279.6001.826812708000318290301835871780\n",
      "4286.710261\n"
     ]
    },
    {
     "ename": "KeyboardInterrupt",
     "evalue": "",
     "output_type": "error",
     "traceback": [
      "\u001b[0;31m---------------------------------------------------------------------------\u001b[0m",
      "\u001b[0;31mKeyboardInterrupt\u001b[0m                         Traceback (most recent call last)",
      "\u001b[0;32m<ipython-input-277-bd47954cf409>\u001b[0m in \u001b[0;36m<module>\u001b[0;34m()\u001b[0m\n\u001b[1;32m      9\u001b[0m         \u001b[0mim_mhd\u001b[0m \u001b[0;34m=\u001b[0m \u001b[0mimages_mhd\u001b[0m\u001b[0;34m[\u001b[0m\u001b[0mpos\u001b[0m\u001b[0;34m]\u001b[0m\u001b[0;34m\u001b[0m\u001b[0m\n\u001b[1;32m     10\u001b[0m \u001b[0;34m\u001b[0m\u001b[0m\n\u001b[0;32m---> 11\u001b[0;31m         \u001b[0mlung\u001b[0m\u001b[0;34m,\u001b[0m\u001b[0mnodule\u001b[0m \u001b[0;34m=\u001b[0m \u001b[0mcreate_nodule_mask\u001b[0m\u001b[0;34m(\u001b[0m\u001b[0mmhd_path\u001b[0m\u001b[0;34m,\u001b[0m \u001b[0mcands_list\u001b[0m\u001b[0;34m[\u001b[0m\u001b[0mpos\u001b[0m\u001b[0;34m]\u001b[0m\u001b[0;34m,\u001b[0m \u001b[0mim_mhd\u001b[0m\u001b[0;34m[\u001b[0m\u001b[0;36m0\u001b[0m\u001b[0;34m:\u001b[0m\u001b[0;34m-\u001b[0m\u001b[0;36m4\u001b[0m\u001b[0;34m]\u001b[0m\u001b[0;34m,\u001b[0m\u001b[0mprocessed_folder\u001b[0m\u001b[0;34m)\u001b[0m\u001b[0;34m\u001b[0m\u001b[0m\n\u001b[0m\u001b[1;32m     12\u001b[0m         \u001b[0;32mprint\u001b[0m\u001b[0;34m(\u001b[0m\u001b[0mpos\u001b[0m\u001b[0;34m)\u001b[0m\u001b[0;34m\u001b[0m\u001b[0m\n\u001b[1;32m     13\u001b[0m         \u001b[0;32mif\u001b[0m \u001b[0;34m(\u001b[0m\u001b[0mnp\u001b[0m\u001b[0;34m.\u001b[0m\u001b[0msum\u001b[0m\u001b[0;34m(\u001b[0m\u001b[0mnodule\u001b[0m\u001b[0;34m)\u001b[0m \u001b[0;34m!=\u001b[0m \u001b[0;36m0\u001b[0m\u001b[0;34m)\u001b[0m\u001b[0;34m:\u001b[0m\u001b[0;34m\u001b[0m\u001b[0m\n",
      "\u001b[0;32m<ipython-input-264-1cbc922ac3aa>\u001b[0m in \u001b[0;36mcreate_nodule_mask\u001b[0;34m(imagePath, cands, imageName, path)\u001b[0m\n\u001b[1;32m     19\u001b[0m \u001b[0;34m\u001b[0m\u001b[0m\n\u001b[1;32m     20\u001b[0m     \u001b[0;31m#resize image\u001b[0m\u001b[0;34m\u001b[0m\u001b[0;34m\u001b[0m\u001b[0m\n\u001b[0;32m---> 21\u001b[0;31m     \u001b[0mlung_img\u001b[0m \u001b[0;34m=\u001b[0m \u001b[0mscipy\u001b[0m\u001b[0;34m.\u001b[0m\u001b[0mndimage\u001b[0m\u001b[0;34m.\u001b[0m\u001b[0minterpolation\u001b[0m\u001b[0;34m.\u001b[0m\u001b[0mzoom\u001b[0m\u001b[0;34m(\u001b[0m\u001b[0mimg\u001b[0m\u001b[0;34m,\u001b[0m \u001b[0mreal_resize\u001b[0m\u001b[0;34m)\u001b[0m\u001b[0;34m\u001b[0m\u001b[0m\n\u001b[0m\u001b[1;32m     22\u001b[0m \u001b[0;34m\u001b[0m\u001b[0m\n\u001b[1;32m     23\u001b[0m     \u001b[0;31m# Segment the lung structure\u001b[0m\u001b[0;34m\u001b[0m\u001b[0;34m\u001b[0m\u001b[0m\n",
      "\u001b[0;32m/home/lucsoret/Logiciels/anaconda3/envs/tensorflow/lib/python2.7/site-packages/scipy/ndimage/interpolation.pyc\u001b[0m in \u001b[0;36mzoom\u001b[0;34m(input, zoom, output, order, mode, cval, prefilter)\u001b[0m\n\u001b[1;32m    601\u001b[0m     \u001b[0mmode\u001b[0m \u001b[0;34m=\u001b[0m \u001b[0m_extend_mode_to_code\u001b[0m\u001b[0;34m(\u001b[0m\u001b[0mmode\u001b[0m\u001b[0;34m)\u001b[0m\u001b[0;34m\u001b[0m\u001b[0m\n\u001b[1;32m    602\u001b[0m     \u001b[0;32mif\u001b[0m \u001b[0mprefilter\u001b[0m \u001b[0;32mand\u001b[0m \u001b[0morder\u001b[0m \u001b[0;34m>\u001b[0m \u001b[0;36m1\u001b[0m\u001b[0;34m:\u001b[0m\u001b[0;34m\u001b[0m\u001b[0m\n\u001b[0;32m--> 603\u001b[0;31m         \u001b[0mfiltered\u001b[0m \u001b[0;34m=\u001b[0m \u001b[0mspline_filter\u001b[0m\u001b[0;34m(\u001b[0m\u001b[0minput\u001b[0m\u001b[0;34m,\u001b[0m \u001b[0morder\u001b[0m\u001b[0;34m,\u001b[0m \u001b[0moutput\u001b[0m\u001b[0;34m=\u001b[0m\u001b[0mnumpy\u001b[0m\u001b[0;34m.\u001b[0m\u001b[0mfloat64\u001b[0m\u001b[0;34m)\u001b[0m\u001b[0;34m\u001b[0m\u001b[0m\n\u001b[0m\u001b[1;32m    604\u001b[0m     \u001b[0;32melse\u001b[0m\u001b[0;34m:\u001b[0m\u001b[0;34m\u001b[0m\u001b[0m\n\u001b[1;32m    605\u001b[0m         \u001b[0mfiltered\u001b[0m \u001b[0;34m=\u001b[0m \u001b[0minput\u001b[0m\u001b[0;34m\u001b[0m\u001b[0m\n",
      "\u001b[0;32m/home/lucsoret/Logiciels/anaconda3/envs/tensorflow/lib/python2.7/site-packages/scipy/ndimage/interpolation.pyc\u001b[0m in \u001b[0;36mspline_filter\u001b[0;34m(input, order, output)\u001b[0m\n\u001b[1;32m    116\u001b[0m     \u001b[0;32mif\u001b[0m \u001b[0morder\u001b[0m \u001b[0;32mnot\u001b[0m \u001b[0;32min\u001b[0m \u001b[0;34m[\u001b[0m\u001b[0;36m0\u001b[0m\u001b[0;34m,\u001b[0m \u001b[0;36m1\u001b[0m\u001b[0;34m]\u001b[0m \u001b[0;32mand\u001b[0m \u001b[0minput\u001b[0m\u001b[0;34m.\u001b[0m\u001b[0mndim\u001b[0m \u001b[0;34m>\u001b[0m \u001b[0;36m0\u001b[0m\u001b[0;34m:\u001b[0m\u001b[0;34m\u001b[0m\u001b[0m\n\u001b[1;32m    117\u001b[0m         \u001b[0;32mfor\u001b[0m \u001b[0maxis\u001b[0m \u001b[0;32min\u001b[0m \u001b[0mrange\u001b[0m\u001b[0;34m(\u001b[0m\u001b[0minput\u001b[0m\u001b[0;34m.\u001b[0m\u001b[0mndim\u001b[0m\u001b[0;34m)\u001b[0m\u001b[0;34m:\u001b[0m\u001b[0;34m\u001b[0m\u001b[0m\n\u001b[0;32m--> 118\u001b[0;31m             \u001b[0mspline_filter1d\u001b[0m\u001b[0;34m(\u001b[0m\u001b[0minput\u001b[0m\u001b[0;34m,\u001b[0m \u001b[0morder\u001b[0m\u001b[0;34m,\u001b[0m \u001b[0maxis\u001b[0m\u001b[0;34m,\u001b[0m \u001b[0moutput\u001b[0m\u001b[0;34m=\u001b[0m\u001b[0moutput\u001b[0m\u001b[0;34m)\u001b[0m\u001b[0;34m\u001b[0m\u001b[0m\n\u001b[0m\u001b[1;32m    119\u001b[0m             \u001b[0minput\u001b[0m \u001b[0;34m=\u001b[0m \u001b[0moutput\u001b[0m\u001b[0;34m\u001b[0m\u001b[0m\n\u001b[1;32m    120\u001b[0m     \u001b[0;32melse\u001b[0m\u001b[0;34m:\u001b[0m\u001b[0;34m\u001b[0m\u001b[0m\n",
      "\u001b[0;32m/home/lucsoret/Logiciels/anaconda3/envs/tensorflow/lib/python2.7/site-packages/scipy/ndimage/interpolation.pyc\u001b[0m in \u001b[0;36mspline_filter1d\u001b[0;34m(input, order, axis, output)\u001b[0m\n\u001b[1;32m     85\u001b[0m     \u001b[0;32melse\u001b[0m\u001b[0;34m:\u001b[0m\u001b[0;34m\u001b[0m\u001b[0m\n\u001b[1;32m     86\u001b[0m         \u001b[0maxis\u001b[0m \u001b[0;34m=\u001b[0m \u001b[0m_ni_support\u001b[0m\u001b[0;34m.\u001b[0m\u001b[0m_check_axis\u001b[0m\u001b[0;34m(\u001b[0m\u001b[0maxis\u001b[0m\u001b[0;34m,\u001b[0m \u001b[0minput\u001b[0m\u001b[0;34m.\u001b[0m\u001b[0mndim\u001b[0m\u001b[0;34m)\u001b[0m\u001b[0;34m\u001b[0m\u001b[0m\n\u001b[0;32m---> 87\u001b[0;31m         \u001b[0m_nd_image\u001b[0m\u001b[0;34m.\u001b[0m\u001b[0mspline_filter1d\u001b[0m\u001b[0;34m(\u001b[0m\u001b[0minput\u001b[0m\u001b[0;34m,\u001b[0m \u001b[0morder\u001b[0m\u001b[0;34m,\u001b[0m \u001b[0maxis\u001b[0m\u001b[0;34m,\u001b[0m \u001b[0moutput\u001b[0m\u001b[0;34m)\u001b[0m\u001b[0;34m\u001b[0m\u001b[0m\n\u001b[0m\u001b[1;32m     88\u001b[0m     \u001b[0;32mreturn\u001b[0m \u001b[0mreturn_value\u001b[0m\u001b[0;34m\u001b[0m\u001b[0m\n\u001b[1;32m     89\u001b[0m \u001b[0;34m\u001b[0m\u001b[0m\n",
      "\u001b[0;31mKeyboardInterrupt\u001b[0m: "
     ]
    }
   ],
   "source": [
    "processed_folder = '/home/lucsoret/Projet/Supelec/CEI/Data/LUNA16/Images/processed/subset0/'\n",
    "slice_folder = '/home/lucsoret/Projet/Supelec/CEI/Data/LUNA16/Images/processed/subset0/slices'\n",
    "\n",
    "for pos,mhd_path in enumerate(images_mhd_path):\n",
    "    \n",
    "    \n",
    "    #Inutile de gener un masque pour un patient qui n'a pas de nodules\n",
    "    if (len(cands[cands['seriesuid'] ==  images_mhd[pos][0:-4]]) > 0):\n",
    "        im_mhd = images_mhd[pos]               \n",
    "                                \n",
    "        lung,nodule = create_nodule_mask(mhd_path, cands_list[pos], im_mhd[0:-4],processed_folder)\n",
    "        print(pos)\n",
    "        if (np.sum(nodule) != 0):\n",
    "            for s in range(lung.shape[0]):\n",
    "                lung_slice = lung[s]\n",
    "                nodule_slice = nodule[s]\n",
    "                if (np.sum(nodule_slice) != 0):\n",
    "                    print('pos : {} , slice : {}'.format(str(pos),str(s)))\n",
    "                    print(im_mhd[0:-4])\n",
    "                    #np.save(processed_folder + 'slices/' + im_mhd[0:-4] + \"_\" + str(s) + '_lung_img.npz' , lung_slice)\n",
    "                    #np.save(processed_folder + 'slices/' + im_mhd[0:-4] + \"_\" + str(s) + '_nodule_mask.npz'  , nodule_slice)\n",
    "                    lung_slice = Image.fromarray(lung_slice.astype('uint8'))\n",
    "                    lung_slice.save(processed_folder + 'slices/' + im_mhd[0:-4] + \"_\" + str(s) + '_lung_img.jpg')\n",
    "                    nodule_slice = Image.fromarray(nodule_slice.astype('uint8'))\n",
    "                    nodule_slice.save(processed_folder + 'slices/' + im_mhd[0:-4] + \"_\" + str(s) + '_nodule_mask.jpg')\n",
    "                    \n",
    "                    \n",
    "    toc = time.clock()\n",
    "    \n",
    "    print(toc-tic)"
   ]
  },
  {
   "cell_type": "code",
   "execution_count": 275,
   "metadata": {},
   "outputs": [
    {
     "data": {
      "text/plain": [
       "<matplotlib.image.AxesImage at 0x7f1dda875b50>"
      ]
     },
     "execution_count": 275,
     "metadata": {},
     "output_type": "execute_result"
    },
    {
     "data": {
      "image/png": "[encoded data removed]",
      "text/plain": [
       "<matplotlib.figure.Figure at 0x7f1ddf9a6250>"
      ]
     },
     "metadata": {},
     "output_type": "display_data"
    }
   ],
   "source": [
    "path_bmp = '/home/lucsoret/Projet/Supelec/CEI/Data/LUNA16/Images/processed/subset0/slices/1.3.6.1.4.1.14519.5.2.1.6279.6001.141069661700670042960678408762_182_lung_img.bmp'\n",
    "path_lung = '/home/lucsoret/Projet/Supelec/CEI/Data/LUNA16/Images/processed/subset0/slices/1.3.6.1.4.1.14519.5.2.1.6279.6001.141069661700670042960678408762_182_lung_img.npz.npy'\n",
    "path_mask = '/home/lucsoret/Projet/Supelec/CEI/Data/LUNA16/Images/processed/subset0/slices/1.3.6.1.4.1.14519.5.2.1.6279.6001.141069661700670042960678408762_182_nodule_mask.npz.npy'\n",
    "\n",
    "im = Image.open(path_bmp)\n",
    "im_lung = np.load(path_lung)\n",
    "im_mask = np.load(path_mask)\n",
    "im.show()\n",
    "plt.imshow(im_mask)"
   ]
  },
  {
   "cell_type": "code",
   "execution_count": 6,
   "metadata": {},
   "outputs": [
    {
     "name": "stdout",
     "output_type": "stream",
     "text": [
      "1.3.6.1.4.1.14519.5.2.1.6279.6001.106719103982792863757268101375_180_lung_img.npz.npy\n",
      "1.3.6.1.4.1.14519.5.2.1.6279.6001.106719103982792863757268101375_180_nodule_mask.npz.npy\n"
     ]
    }
   ],
   "source": [
    "slice_folder = '/home/lucsoret/Projet/Supelec/CEI/Data/LUNA16/Images/processed/subset1/slices'\n",
    "list_npy = os.listdir(slice_folder)\n",
    "\n",
    "list_lung = []\n",
    "list_nodule = []\n",
    "\n",
    "for i,name in enumerate(list_npy):\n",
    "    if name[-16:-8] == \"lung_img\":\n",
    "        list_lung.append(name)\n",
    "    elif name[-19:-8] == \"nodule_mask\":\n",
    "        list_nodule.append(name)\n",
    "\n",
    "list_lung.sort()\n",
    "list_nodule.sort()\n",
    "\n",
    "print(list_lung[10])\n",
    "print(list_nodule[10])"
   ]
  },
  {
   "cell_type": "code",
   "execution_count": 80,
   "metadata": {
    "collapsed": true
   },
   "outputs": [],
   "source": [
    "A = os.path.join(slice_folder,list_lung[225])\n",
    "B = np.load(A)\n",
    "\n",
    "C = os.path.join(slice_folder,list_nodule[225])\n",
    "D = np.load(C)"
   ]
  },
  {
   "cell_type": "code",
   "execution_count": 81,
   "metadata": {
    "scrolled": true
   },
   "outputs": [
    {
     "data": {
      "text/plain": [
       "<matplotlib.image.AxesImage at 0x7f30a7572390>"
      ]
     },
     "execution_count": 81,
     "metadata": {},
     "output_type": "execute_result"
    },
    {
     "data": {
      "image/png": "[encoded data removed]",
      "text/plain": [
       "<matplotlib.figure.Figure at 0x7f30a75e6cd0>"
      ]
     },
     "metadata": {},
     "output_type": "display_data"
    }
   ],
   "source": [
    "plt.imshow(B,cmap=pylab.cm.bone)"
   ]
  },
  {
   "cell_type": "code",
   "execution_count": 82,
   "metadata": {},
   "outputs": [
    {
     "data": {
      "text/plain": [
       "<matplotlib.image.AxesImage at 0x7f30a748ff90>"
      ]
     },
     "execution_count": 82,
     "metadata": {},
     "output_type": "execute_result"
    },
    {
     "data": {
      "image/png": "[encoded data removed]",
      "text/plain": [
       "<matplotlib.figure.Figure at 0x7f30a750ad50>"
      ]
     },
     "metadata": {},
     "output_type": "display_data"
    }
   ],
   "source": [
    "plt.imshow(D,cmap=pylab.cm.bone)"
   ]
  },
  {
   "cell_type": "markdown",
   "metadata": {},
   "source": [
    "### UNET __ WIP"
   ]
  },
  {
   "cell_type": "code",
   "execution_count": null,
   "metadata": {
    "collapsed": true
   },
   "outputs": [],
   "source": [
    "# change the loss function\n",
    "def dice_coef(y_true, y_pred):\n",
    "    smooth = 1.\n",
    "    y_true_f = K.flatten(y_true)\n",
    "    y_pred_f = K.flatten(y_pred)\n",
    "    intersection = K.sum(y_true_f * y_pred_f)\n",
    "    return (2. * intersection + smooth) / (K.sum(y_true_f) + K.sum(y_pred_f) + smooth)\n",
    "\n",
    "\n",
    "def dice_coef_loss(y_true, y_pred):\n",
    "    return -dice_coef(y_true, y_pred)"
   ]
  },
  {
   "cell_type": "code",
   "execution_count": null,
   "metadata": {
    "collapsed": true
   },
   "outputs": [],
   "source": [
    "from keras.layers import Input, merge, Conv2D, MaxPooling2D, UpSampling2D, Dropout, Cropping2D\n",
    "from keras.models import Sequential\n",
    "from keras.layers import Dense, Dropout, Activation, Flatten\n",
    "from keras.layers import Convolution3D, Convolution2D, MaxPooling3D, MaxPooling2D\n",
    "from keras import layers\n",
    "from keras import Model\n",
    "from keras.utils import np_utils\n",
    "from keras import backend as K"
   ]
  },
  {
   "cell_type": "code",
   "execution_count": null,
   "metadata": {
    "collapsed": true
   },
   "outputs": [],
   "source": [
    "inputs = Input(512,512,1)\n",
    "\n",
    "conv1 = Conv2D(64, 3, activation = 'relu', padding = 'same', kernel_initializer = 'he_normal')(inputs)\n",
    "print \"conv1 shape:\",conv1.shape\n",
    "conv1 = Conv2D(64, 3, activation = 'relu', padding = 'same', kernel_initializer = 'he_normal')(conv1)\n",
    "print \"conv1 shape:\",conv1.shape\n",
    "pool1 = MaxPooling2D(pool_size=(2, 2))(conv1)\n",
    "print \"pool1 shape:\",pool1.shape\n",
    "\n",
    "conv2 = Conv2D(128, 3, activation = 'relu', padding = 'same', kernel_initializer = 'he_normal')(pool1)\n",
    "print \"conv2 shape:\",conv2.shape\n",
    "conv2 = Conv2D(128, 3, activation = 'relu', padding = 'same', kernel_initializer = 'he_normal')(conv2)\n",
    "print \"conv2 shape:\",conv2.shape\n",
    "pool2 = MaxPooling2D(pool_size=(2, 2))(conv2)\n",
    "print \"pool2 shape:\",pool2.shape\n",
    "\n",
    "conv3 = Conv2D(256, 3, activation = 'relu', padding = 'same', kernel_initializer = 'he_normal')(pool2)\n",
    "print \"conv3 shape:\",conv3.shape\n",
    "conv3 = Conv2D(256, 3, activation = 'relu', padding = 'same', kernel_initializer = 'he_normal')(conv3)\n",
    "print \"conv3 shape:\",conv3.shape\n",
    "pool3 = MaxPooling2D(pool_size=(2, 2))(conv3)\n",
    "print \"pool3 shape:\",pool3.shape\n",
    "\n",
    "conv4 = Conv2D(512, 3, activation = 'relu', padding = 'same', kernel_initializer = 'he_normal')(pool3)\n",
    "conv4 = Conv2D(512, 3, activation = 'relu', padding = 'same', kernel_initializer = 'he_normal')(conv4)\n",
    "drop4 = Dropout(0.5)(conv4)\n",
    "pool4 = MaxPooling2D(pool_size=(2, 2))(drop4)\n",
    "\n",
    "conv5 = Conv2D(1024, 3, activation = 'relu', padding = 'same', kernel_initializer = 'he_normal')(pool4)\n",
    "conv5 = Conv2D(1024, 3, activation = 'relu', padding = 'same', kernel_initializer = 'he_normal')(conv5)\n",
    "drop5 = Dropout(0.5)(conv5)\n",
    "\n",
    "up6 = Conv2D(512, 2, activation = 'relu', padding = 'same', kernel_initializer = 'he_normal')(UpSampling2D(size = (2,2))(drop5))\n",
    "merge6 = merge([drop4,up6], mode = 'concat', concat_axis = 3)\n",
    "conv6 = Conv2D(512, 3, activation = 'relu', padding = 'same', kernel_initializer = 'he_normal')(merge6)\n",
    "conv6 = Conv2D(512, 3, activation = 'relu', padding = 'same', kernel_initializer = 'he_normal')(conv6)\n",
    "\n",
    "up7 = Conv2D(256, 2, activation = 'relu', padding = 'same', kernel_initializer = 'he_normal')(UpSampling2D(size = (2,2))(conv6))\n",
    "merge7 = merge([conv3,up7], mode = 'concat', concat_axis = 3)\n",
    "conv7 = Conv2D(256, 3, activation = 'relu', padding = 'same', kernel_initializer = 'he_normal')(merge7)\n",
    "conv7 = Conv2D(256, 3, activation = 'relu', padding = 'same', kernel_initializer = 'he_normal')(conv7)\n",
    "\n",
    "up8 = Conv2D(128, 2, activation = 'relu', padding = 'same', kernel_initializer = 'he_normal')(UpSampling2D(size = (2,2))(conv7))\n",
    "merge8 = merge([conv2,up8], mode = 'concat', concat_axis = 3)\n",
    "conv8 = Conv2D(128, 3, activation = 'relu', padding = 'same', kernel_initializer = 'he_normal')(merge8)\n",
    "conv8 = Conv2D(128, 3, activation = 'relu', padding = 'same', kernel_initializer = 'he_normal')(conv8)\n",
    "\n",
    "up9 = Conv2D(64, 2, activation = 'relu', padding = 'same', kernel_initializer = 'he_normal')(UpSampling2D(size = (2,2))(conv8))\n",
    "merge9 = merge([conv1,up9], mode = 'concat', concat_axis = 3)\n",
    "conv9 = Conv2D(64, 3, activation = 'relu', padding = 'same', kernel_initializer = 'he_normal')(merge9)\n",
    "conv9 = Conv2D(64, 3, activation = 'relu', padding = 'same', kernel_initializer = 'he_normal')(conv9)\n",
    "conv9 = Conv2D(2, 3, activation = 'relu', padding = 'same', kernel_initializer = 'he_normal')(conv9)\n",
    "conv10 = Conv2D(1, 1, activation = 'sigmoid')(conv9)\n",
    "\n",
    "model = Model(input = inputs, output = conv10)\n",
    "\n",
    "model.summary()"
   ]
  },
  {
   "cell_type": "code",
   "execution_count": null,
   "metadata": {
    "collapsed": true
   },
   "outputs": [],
   "source": [
    "from keras.callbacks import TensorBoard\n",
    "\n",
    "\n",
    "def generate_unique_logpath(logdir, raw_run_name):\n",
    "        i = 0\n",
    "        while(True):\n",
    "                run_name = raw_run_name + \"-\" + str(i)\n",
    "                log_path = os.path.join(logdir, run_name)\n",
    "                if not os.path.isdir(log_path):\n",
    "                        return log_path\n",
    "                i = i + 1\n",
    "                \n",
    "run_name = \"linear_1\"\n",
    "logpath = generate_unique_logpath(\"/home/lucsoret/Projet/Iniation_Python/Deep_Learning_With_Python/logs_linear/5_2\", run_name)\n",
    "tbcb = TensorBoard(log_dir=logpath)"
   ]
  }
 ],
 "metadata": {
  "kernelspec": {
   "display_name": "Python 2",
   "language": "python",
   "name": "python2"
  },
  "language_info": {
   "codemirror_mode": {
    "name": "ipython",
    "version": 2
   },
   "file_extension": ".py",
   "mimetype": "text/x-python",
   "name": "python",
   "nbconvert_exporter": "python",
   "pygments_lexer": "ipython2",
   "version": "2.7.13"
  }
 },
 "nbformat": 4,
 "nbformat_minor": 2
}
