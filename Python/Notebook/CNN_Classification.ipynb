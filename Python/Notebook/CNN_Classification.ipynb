{
 "cells": [
  {
   "cell_type": "code",
   "execution_count": 1,
   "metadata": {
    "collapsed": true
   },
   "outputs": [],
   "source": [
    "import os\n",
    "import matplotlib.pyplot as plt\n",
    "import numpy as np\n",
    "from skimage.measure import label,regionprops\n",
    "from skimage import measure\n",
    "from mpl_toolkits.mplot3d.art3d import Poly3DCollection\n",
    "from scipy.spatial import distance"
   ]
  },
  {
   "cell_type": "code",
   "execution_count": 2,
   "metadata": {
    "collapsed": true
   },
   "outputs": [],
   "source": [
    "def plot_3d(image, threshold=-300):\n",
    "    \n",
    "    # Position the scan upright, \n",
    "    # so the head of the patient would be at the top facing the camera\n",
    "    p = image.transpose(2,1,0)\n",
    "    p = p[:,:,::-1]\n",
    "    \n",
    "    verts, faces, x, y = measure.marching_cubes(p, threshold)\n",
    "    fig = plt.figure(figsize=(10, 10))\n",
    "    ax = fig.add_subplot(111, projection='3d')\n",
    "\n",
    "    # Fancy indexing: `verts[faces]` to generate a collection of triangles\n",
    "    mesh = Poly3DCollection(verts[faces], alpha=0.7)\n",
    "    face_color = [0.45, 0.45, 0.75]\n",
    "    mesh.set_facecolor(face_color)\n",
    "    ax.add_collection3d(mesh)\n",
    "\n",
    "    ax.set_xlim(0, p.shape[0])\n",
    "    ax.set_ylim(0, p.shape[1])\n",
    "    ax.set_zlim(0, p.shape[2])\n",
    "\n",
    "    plt.show()"
   ]
  },
  {
   "cell_type": "markdown",
   "metadata": {},
   "source": [
    "## Import de nodule_mask.npzet lung_img.npz"
   ]
  },
  {
   "cell_type": "code",
   "execution_count": 3,
   "metadata": {
    "collapsed": true
   },
   "outputs": [],
   "source": [
    "INPUT_FOLDER = '/Users/anthonypamart/Documents/SIR/Projets/CEI/Taff 15 mars/slices'\n",
    "patients_short = os.listdir(INPUT_FOLDER)\n",
    "\n",
    "images = os.listdir(INPUT_FOLDER)\n",
    "images_path = [os.path.join(INPUT_FOLDER,patient) for patient in patients_short]"
   ]
  },
  {
   "cell_type": "code",
   "execution_count": 4,
   "metadata": {},
   "outputs": [
    {
     "name": "stdout",
     "output_type": "stream",
     "text": [
      "/Users/anthonypamart/Documents/SIR/Projets/CEI/Taff 15 mars/slices/.DS_Store\n"
     ]
    }
   ],
   "source": [
    "##On crée 2 listes dans lesquels on écrit respectivement les paths des lung_img et les paths des nodule_mask \n",
    "images_path_lung_img = []\n",
    "images_path_nodule_mask = []\n",
    "for i in range(0,len(images_path)):\n",
    "    if(images_path[i][-19:-8]=='nodule_mask'):\n",
    "        images_path_nodule_mask.append(images_path[i])\n",
    "    elif(images_path[i][-16:-8]=='lung_img'):\n",
    "        images_path_lung_img.append(images_path[i])\n",
    "    else:\n",
    "        print(images_path[i])\n",
    "        \n",
    "##On sort ces listes pour avoir les slices d'un meme patient côte à côte\n",
    "images_path_lung_img.sort()\n",
    "images_path_nodule_mask.sort()"
   ]
  },
  {
   "cell_type": "code",
   "execution_count": 5,
   "metadata": {
    "collapsed": true
   },
   "outputs": [],
   "source": [
    "## Liste des id des patients\n",
    "id_patients = []\n",
    "for i in range(0,len(images_path_lung_img)):\n",
    "    id_patients.append(images_path_lung_img[i][67:131])\n",
    "id_patients = list(set(id_patients)) ##On tej les doublons"
   ]
  },
  {
   "cell_type": "code",
   "execution_count": 6,
   "metadata": {},
   "outputs": [
    {
     "data": {
      "text/plain": [
       "<matplotlib.image.AxesImage at 0x11579ee50>"
      ]
     },
     "execution_count": 6,
     "metadata": {},
     "output_type": "execute_result"
    }
   ],
   "source": [
    "plt.imshow(np.load(images_path_nodule_mask[110]), cmap = plt.cm.bone)\n",
    "#plt.show()"
   ]
  },
  {
   "cell_type": "code",
   "execution_count": 7,
   "metadata": {},
   "outputs": [
    {
     "data": {
      "text/plain": [
       "<matplotlib.image.AxesImage at 0x111622e50>"
      ]
     },
     "execution_count": 7,
     "metadata": {},
     "output_type": "execute_result"
    }
   ],
   "source": [
    "plt.imshow(np.load(images_path_lung_img[110]), cmap = plt.cm.bone)\n",
    "#plt.show()"
   ]
  },
  {
   "cell_type": "code",
   "execution_count": 8,
   "metadata": {
    "collapsed": true
   },
   "outputs": [],
   "source": [
    "##PAS A METTRE DANS LE SCRIPT\n",
    "\n",
    "##On charge nos .npz dans un numpy array\n",
    "\n",
    "#nodule_mask = np.load(images_path_nodule_mask[110])\n",
    "#lung_img = np.load(images_path_lung_img[110])\n",
    "\n",
    "nodule_mask = np.load(images_path_nodule_mask[104])\n",
    "lung_img = np.load(images_path_lung_img[104])"
   ]
  },
  {
   "cell_type": "markdown",
   "metadata": {},
   "source": [
    "## Application d'un nodule_mask à une lung_img.npz"
   ]
  },
  {
   "cell_type": "code",
   "execution_count": 84,
   "metadata": {
    "collapsed": true
   },
   "outputs": [],
   "source": [
    "##Applique le nodule_mask au lung_img et renvoie donc le nodule_segmented\n",
    "def get_nodule_segmented(nodule_mask,lung_img):\n",
    "    nodule_segmented = lung_img.copy()\n",
    "    for i in range(0,len(nodule_segmented)):\n",
    "        for j in range(0,len(nodule_segmented)):\n",
    "            if(nodule_mask[i][j]==0.0):\n",
    "                nodule_segmented[i][j]=0.0\n",
    "    return nodule_segmented"
   ]
  },
  {
   "cell_type": "code",
   "execution_count": 85,
   "metadata": {
    "collapsed": true
   },
   "outputs": [],
   "source": [
    "##PAS A METTRE DANS LE SCRIPT\n",
    "nodule_segmented = get_nodule_segmented(nodule_mask,lung_img)"
   ]
  },
  {
   "cell_type": "code",
   "execution_count": 86,
   "metadata": {},
   "outputs": [
    {
     "data": {
      "text/plain": [
       "<matplotlib.image.AxesImage at 0x112108e50>"
      ]
     },
     "execution_count": 86,
     "metadata": {},
     "output_type": "execute_result"
    }
   ],
   "source": [
    "plt.imshow(nodule_segmented, cmap = plt.cm.bone)\n",
    "#plt.show()"
   ]
  },
  {
   "cell_type": "code",
   "execution_count": 87,
   "metadata": {
    "collapsed": true
   },
   "outputs": [],
   "source": [
    "##Prend le nodule mask et renvoie les coordonnées des centres des nodules présents et le nb de nodules présents\n",
    "def get_centers_nodules(nodule_mask):\n",
    "    label_scan = label(nodule_mask)\n",
    "    areas = [r.area for r in regionprops(label_scan)]\n",
    "    #areas.sort()\n",
    "    center_full = [r.centroid  for r in regionprops(label_scan)]\n",
    "    nb_nodules = len(center_full)\n",
    "    return center_full, nb_nodules"
   ]
  },
  {
   "cell_type": "code",
   "execution_count": 56,
   "metadata": {},
   "outputs": [
    {
     "name": "stdout",
     "output_type": "stream",
     "text": [
      "max a =  2\n",
      "cnt1 =  844\n",
      "cnt2 =  43\n",
      "cnt =  0\n",
      "[1, 1, 1, 1, 1, 1, 1, 1, 1, 1, 1, 1, 1, 1, 1, 1, 1, 1, 1, 1, 1, 1, 1, 1, 1, 1, 1, 1, 1, 1, 1, 1, 1, 1, 1, 1, 1, 1, 1, 1, 1, 1, 1, 1, 1, 1, 1, 1, 1, 1, 1, 1, 1, 1, 1, 1, 1, 1, 1, 1, 1, 1, 1, 1, 1, 1, 1, 1, 1, 1, 1, 1, 1, 1, 1, 1, 1, 1, 1, 1, 1, 1, 1, 1, 1, 1, 1, 1, 1, 1, 1, 1, 1, 1, 1, 1, 1, 1, 1, 1, 1, 1, 1, 1, 2, 2, 2, 2, 2, 2, 2, 2, 2, 2, 2, 1, 1, 1, 1, 1, 1, 1, 1, 1, 1, 1, 1, 1, 1, 1, 1, 1, 1, 1, 1, 1, 1, 1, 1, 1, 1, 1, 1, 1, 1, 1, 1, 1, 1, 1, 1, 1, 1, 1, 1, 1, 1, 1, 1, 1, 1, 1, 1, 1, 1, 1, 1, 1, 1, 1, 1, 1, 1, 1, 1, 1, 1, 1, 1, 1, 1, 1, 1, 1, 1, 1, 1, 1, 1, 1, 1, 1, 1, 1, 1, 1, 1, 1, 1, 1, 1, 1, 1, 1, 1, 1, 1, 1, 1, 1, 1, 1, 1, 1, 1, 1, 1, 1, 1, 1, 1, 1, 1, 1, 1, 1, 1, 1, 1, 1, 1, 1, 1, 1, 1, 1, 1, 1, 1, 1, 1, 1, 1, 1, 1, 1, 1, 1, 1, 1, 1, 1, 1, 1, 1, 1, 1, 1, 1, 1, 1, 1, 1, 1, 1, 1, 1, 1, 1, 1, 1, 1, 1, 1, 1, 1, 1, 1, 1, 1, 1, 1, 1, 1, 1, 1, 1, 1, 1, 1, 1, 1, 1, 1, 1, 1, 1, 1, 1, 1, 1, 1, 1, 1, 1, 1, 1, 1, 1, 1, 1, 1, 1, 1, 1, 1, 1, 1, 1, 1, 1, 1, 1, 1, 1, 1, 1, 1, 1, 1, 1, 1, 1, 1, 1, 1, 1, 1, 1, 1, 1, 1, 1, 1, 1, 1, 1, 1, 1, 1, 1, 1, 1, 1, 1, 1, 1, 1, 1, 1, 1, 1, 1, 1, 1, 1, 1, 1, 1, 1, 1, 1, 1, 1, 1, 1, 1, 1, 1, 1, 1, 1, 1, 1, 1, 1, 1, 1, 1, 1, 1, 1, 1, 1, 1, 1, 1, 1, 1, 1, 1, 1, 1, 1, 1, 1, 1, 2, 2, 2, 2, 2, 2, 2, 1, 1, 1, 1, 1, 1, 1, 1, 1, 1, 1, 1, 1, 1, 1, 1, 1, 1, 1, 1, 1, 1, 2, 2, 2, 1, 1, 2, 2, 2, 2, 1, 1, 1, 1, 1, 1, 1, 1, 1, 1, 1, 1, 1, 1, 1, 1, 1, 1, 1, 1, 1, 1, 1, 1, 1, 1, 1, 1, 1, 1, 1, 1, 1, 1, 1, 1, 1, 1, 1, 1, 1, 1, 1, 1, 1, 1, 1, 1, 1, 1, 1, 1, 1, 1, 1, 1, 1, 1, 1, 1, 1, 1, 1, 1, 1, 1, 1, 1, 1, 1, 1, 1, 1, 1, 1, 1, 1, 1, 1, 1, 1, 1, 1, 1, 1, 1, 1, 1, 1, 1, 1, 1, 1, 1, 1, 1, 1, 1, 1, 1, 1, 1, 1, 1, 2, 2, 2, 2, 1, 1, 1, 1, 1, 1, 1, 1, 1, 1, 1, 1, 1, 1, 1, 1, 1, 1, 1, 1, 1, 1, 1, 1, 1, 1, 1, 1, 1, 1, 1, 1, 1, 1, 1, 1, 1, 1, 1, 1, 1, 1, 1, 1, 1, 1, 1, 1, 1, 1, 1, 1, 1, 1, 1, 1, 1, 1, 1, 1, 1, 1, 1, 1, 1, 1, 1, 1, 1, 1, 1, 1, 1, 1, 1, 1, 2, 2, 2, 2, 2, 2, 2, 2, 2, 1, 1, 1, 1, 1, 1, 1, 1, 1, 1, 1, 1, 1, 2, 1, 1, 1, 1, 1, 1, 1, 1, 1, 1, 1, 1, 1, 1, 1, 1, 1, 1, 1, 1, 1, 1, 1, 1, 1, 1, 1, 1, 1, 1, 1, 1, 1, 1, 1, 1, 1, 1, 1, 1, 1, 1, 1, 1, 1, 1, 1, 1, 1, 1, 1, 1, 1, 1, 1, 1, 1, 1, 1, 1, 1, 1, 2, 2, 2, 2, 1, 1, 1, 1, 1, 1, 1, 1, 1, 1, 1, 1, 1, 1, 1, 1, 1, 1, 1, 1, 1, 1, 1, 1, 1, 1, 1, 1, 1, 1, 1, 1, 1, 1, 1, 1, 1, 1, 1, 1, 1, 1, 1, 1, 1, 1, 1, 1, 1, 1, 1, 1, 1, 1, 1, 1, 1, 1, 1, 1, 1, 1, 1, 1, 1, 1, 1, 1, 1, 1, 1, 1, 1, 1, 1, 1, 1, 1, 1, 1, 1, 1, 1, 1, 1, 1, 1, 1, 1, 1, 1, 1, 1, 1, 1, 1, 1, 1, 1, 1, 1, 1, 1, 1, 1, 1, 1, 1, 1, 1, 1, 1, 1, 1, 1, 1, 1, 1, 1, 1, 1, 1, 1, 1, 1, 1, 1, 1, 1, 1, 1, 1, 1, 1, 1, 1, 1, 1, 1, 1, 1, 1, 1, 1, 1, 1, 1, 1, 1, 1, 1, 1, 1, 1, 1, 1, 1, 1, 1, 1, 1, 1, 1, 1, 1, 1, 1, 1, 1]\n"
     ]
    }
   ],
   "source": [
    "\"\"\"\"\"\n",
    "##PAS A METTRE DANS LE SCRIPT\n",
    "\n",
    "##Calcule le nombre max de nodules dans toutes les slices\n",
    "a = []\n",
    "cnt1=0\n",
    "cnt2=0\n",
    "cnt=0\n",
    "for i in range(0,len(images_path_nodule_mask)):\n",
    "    nodule_mask = np.load(images_path_nodule_mask[i])\n",
    "    center_full, nb_nodules = get_centers_nodules(nodule_mask)\n",
    "    a.append(len(center_full))\n",
    "    if(len(center_full)==1):\n",
    "       cnt1 += 1\n",
    "    elif(len(center_full)==2):\n",
    "       cnt2 += 1\n",
    "    else:\n",
    "       cnt += 1\n",
    "print 'max a = ', max(a)\n",
    "print 'cnt1 = ', cnt1\n",
    "print 'cnt2 = ', cnt2\n",
    "print 'cnt = ', cnt\n",
    "print(a)\n",
    "\"\"\"\"\"\""
   ]
  },
  {
   "cell_type": "code",
   "execution_count": 88,
   "metadata": {
    "collapsed": true
   },
   "outputs": [],
   "source": [
    "##PAS A METTRE DANS LE SCRIPT\n",
    "center_full, nb_nodules = get_centers_nodules(nodule_mask)"
   ]
  },
  {
   "cell_type": "code",
   "execution_count": 89,
   "metadata": {
    "collapsed": true
   },
   "outputs": [],
   "source": [
    "##PAS A METTRE DANS LE SCRIPT\n",
    "\n",
    "##On prend un patch 2D de taille 32x32 autour de chaque nodule détecté\n",
    "SIZE_PATCH = 32\n",
    "\n",
    "##Attention à bien prendre toujours les coordonnees du centre d'un meme nodule, visualisez center_full pour être sur\n",
    "first_nodule = nodule_segmented[int(center_full[0][0])-SIZE_PATCH/2:int(center_full[0][0])+SIZE_PATCH/2,int(center_full[0][1])-SIZE_PATCH/2:int(center_full[0][1])+SIZE_PATCH/2]"
   ]
  },
  {
   "cell_type": "code",
   "execution_count": 90,
   "metadata": {
    "scrolled": true
   },
   "outputs": [
    {
     "data": {
      "text/plain": [
       "<matplotlib.image.AxesImage at 0x11c8b35d0>"
      ]
     },
     "execution_count": 90,
     "metadata": {},
     "output_type": "execute_result"
    }
   ],
   "source": [
    "plt.imshow(second_nodule, cmap = plt.cm.bone)\n",
    "#plt.show()"
   ]
  },
  {
   "cell_type": "markdown",
   "metadata": {},
   "source": [
    "## Passage en 3D"
   ]
  },
  {
   "cell_type": "markdown",
   "metadata": {},
   "source": [
    "- On prendra tout au long l'exemple du patient dont les slices se retrouvent avec \"images_path_nodule_mask[99:116]\"\n",
    "- (on a sorté images_path_nodule_mask au début du notebook)    \n",
    "- (ID de ce patient : 1.3.6.1.4.1.14519.5.2.1.6279.6001.137763212752154081977261297097), correspond à id_patients[13]"
   ]
  },
  {
   "cell_type": "code",
   "execution_count": 92,
   "metadata": {
    "collapsed": true
   },
   "outputs": [],
   "source": [
    "##Pour récupérer le path des lung_img pour le patient dont on précise l'ID\n",
    "def get_patients_path_lung_img(images_path_lung_img, ID='1.3.6.1.4.1.14519.5.2.1.6279.6001.137763212752154081977261297097'):\n",
    "    patients_path_lung_img = []\n",
    "    for i in range(0,len(images_path_lung_img)):\n",
    "        #if(images_path_lung_img[i][67:131]==id_patients[0]):\n",
    "        if(images_path_lung_img[i][67:131]==ID):\n",
    "            patients_path_lung_img.append(images_path_lung_img[i])\n",
    "    patients_path_lung_img.sort()\n",
    "    return patients_path_lung_img"
   ]
  },
  {
   "cell_type": "code",
   "execution_count": 93,
   "metadata": {
    "collapsed": true
   },
   "outputs": [],
   "source": [
    "##Pour récupérer le path des nodule_mask pour le patient dont on précise l'ID\n",
    "def get_patients_path_nodule_mask(images_path_nodule_mask, ID='1.3.6.1.4.1.14519.5.2.1.6279.6001.137763212752154081977261297097'):\n",
    "    patients_path_nodule_mask = []\n",
    "    for i in range(0,len(images_path_nodule_mask)):\n",
    "        if(images_path_nodule_mask[i][67:131]==ID):\n",
    "            patients_path_nodule_mask.append(images_path_nodule_mask[i])\n",
    "    patients_path_nodule_mask.sort()\n",
    "    return patients_path_nodule_mask"
   ]
  },
  {
   "cell_type": "code",
   "execution_count": 109,
   "metadata": {
    "collapsed": true
   },
   "outputs": [],
   "source": [
    "##PAS A METTRE DANS LE SCRIPT\n",
    "\n",
    "patients_path_lung_img = get_patients_path_lung_img(images_path_lung_img, id_patients[6])\n",
    "patients_path_nodule_mask = get_patients_path_nodule_mask(images_path_nodule_mask, id_patients[6])\n",
    "\n",
    "#patients_path_lung_img = get_patients_path_lung_img(images_path_lung_img)\n",
    "#patients_path_nodule_mask = get_patients_path_nodule_mask(images_path_nodule_mask)"
   ]
  },
  {
   "cell_type": "code",
   "execution_count": 110,
   "metadata": {
    "collapsed": true
   },
   "outputs": [],
   "source": [
    "##Pour le patient pris en exemple, on construit nodule_mask_3D, lung_img_3D et nodule_segmented_3D\n",
    "\n",
    "##On met en entrée le path des nodule_mask du patient et on a en sortie un np array 3D avec le nodule mask (2D)\n",
    "##de toutes les slices (ce qui ajoute une 3e dimension)\n",
    "def get_nodule_mask_3D(patients_path_nodule_mask, dim_x=512, dim_y=512):\n",
    "    nodule_mask_3D = np.zeros((dim_x, dim_y, len(patients_path_nodule_mask)))\n",
    "    for i in range(0,len(patients_path_nodule_mask)):\n",
    "        nodule_mask_3D[:,:,i] = np.load(patients_path_nodule_mask[i]) \n",
    "    return nodule_mask_3D\n",
    "\n",
    "##On met en entrée le path des lung_img du patient et on a en sortie un np array 3D avec la lung_img (2D)\n",
    "##de toutes les slices (ce qui ajoute une 3e dimension)\n",
    "def get_lung_img_3D(patients_path_lung_img, dim_x=512, dim_y=512):\n",
    "    lung_img_3D = np.zeros((dim_x, dim_y, len(patients_path_lung_img)))\n",
    "    for i in range(0,len(patients_path_lung_img)):\n",
    "        lung_img_3D[:,:,i] = np.load(patients_path_lung_img[i])\n",
    "    return lung_img_3D\n",
    "\n",
    "##On met en entrée le path des lung_img du patient et le path des nodule_mask et on a en sortie un np array 3D\n",
    "##avec le nodule segmenté (2D) de toutes les slices (ce qui rajoute une 3e dimension)\n",
    "def get_nodule_segmented_3D(patients_path_nodule_mask, patients_path_lung_img, dim_z = len(patients_path_lung_img), dim_x =512, dim_y=512):\n",
    "    nodule_segmented_3D = np.zeros((dim_x, dim_y, dim_z))\n",
    "    \n",
    "    a= min(len(patients_path_lung_img), dim_z)\n",
    "    for i in range(0,a):\n",
    "        nodule_segmented_3D[:,:,i] = get_nodule_segmented(get_nodule_mask_3D(patients_path_nodule_mask)[:,:,i],get_lung_img_3D(patients_path_lung_img)[:,:,i])\n",
    "    return nodule_segmented_3D"
   ]
  },
  {
   "cell_type": "code",
   "execution_count": 111,
   "metadata": {
    "collapsed": true
   },
   "outputs": [],
   "source": [
    "##PAS A METTRE DANS LE SCRIPT\n",
    "nodule_segmented_3D = get_nodule_segmented_3D(patients_path_nodule_mask, patients_path_lung_img)"
   ]
  },
  {
   "cell_type": "code",
   "execution_count": 112,
   "metadata": {
    "collapsed": true,
    "scrolled": true
   },
   "outputs": [],
   "source": [
    "#plt.imshow(nodule_segmented_3D[:,:,11], cmap=plt.cm.gray)\n",
    "#plt.show()"
   ]
  },
  {
   "cell_type": "code",
   "execution_count": 113,
   "metadata": {
    "collapsed": true
   },
   "outputs": [],
   "source": [
    "##On stock les center_full et les nb_nodules dans des listes center_full_3D et nb_nodules_3D\n",
    "\n",
    "def get_center_nodules_3D(patients_path_nodule_mask):\n",
    "    center_full_3D = []\n",
    "    nb_nodules_3D = []\n",
    "\n",
    "    for i in range(0, len(patients_path_nodule_mask)):\n",
    "        nodule_mask_3D = get_nodule_mask_3D(patients_path_nodule_mask)\n",
    "        center_full, nb_nodules = get_centers_nodules(nodule_mask_3D[:,:,i])\n",
    "        center_full_3D.append(center_full)\n",
    "        nb_nodules_3D.append(nb_nodules)\n",
    "        \n",
    "    return center_full_3D, nb_nodules_3D"
   ]
  },
  {
   "cell_type": "code",
   "execution_count": 114,
   "metadata": {
    "collapsed": true
   },
   "outputs": [],
   "source": [
    "##PAS A METTRE DANS LE SCRIPT\n",
    "center_full_3D, nb_nodules_3D = get_center_nodules_3D(patients_path_nodule_mask)"
   ]
  },
  {
   "cell_type": "code",
   "execution_count": 116,
   "metadata": {
    "collapsed": true
   },
   "outputs": [],
   "source": [
    "##PAS A METTRE DANS LE SCRIPT\n",
    "\n",
    "##On prend un patch 2D de taille 32x32 autour de chaque nodule détecté\n",
    "SIZE_PATCH = 32\n",
    "\n",
    "##Attention à bien prendre toujours les coordonnees du centre d'un meme nodule, visualisez center_full pour être sur\n",
    "first_nodule_3D = np.zeros((first_nodule.shape[0], first_nodule.shape[1], len(nb_nodules_3D)))\n",
    "for i in range(0,len(nb_nodules_3D)):\n",
    "    first_nodule_3D[:,:,i] = nodule_segmented_3D[int(center_full_3D[i][0][0])-SIZE_PATCH/2:int(center_full_3D[i][0][0])+SIZE_PATCH/2,int(center_full_3D[i][0][1])-SIZE_PATCH/2:int(center_full_3D[i][0][1])+SIZE_PATCH/2,i]"
   ]
  },
  {
   "cell_type": "code",
   "execution_count": 169,
   "metadata": {},
   "outputs": [
    {
     "data": {
      "image/png": "[encoded data removed]",
      "text/plain": [
       "<matplotlib.figure.Figure at 0x11c445490>"
      ]
     },
     "metadata": {},
     "output_type": "display_data"
    }
   ],
   "source": [
    "##Plot First Nodule\n",
    "\n",
    "fig=plt.figure(figsize=(8, 8))\n",
    "columns = 5\n",
    "rows = 5\n",
    "for i in range(0, 25):\n",
    "    img = first_nodule_3D[:,:,i]\n",
    "    fig.add_subplot(rows, columns, i+1)\n",
    "    plt.imshow(img, cmap = plt.cm.bone)\n",
    "plt.show()"
   ]
  },
  {
   "cell_type": "code",
   "execution_count": 34,
   "metadata": {
    "collapsed": true
   },
   "outputs": [],
   "source": [
    "#plot_3d(second_nodule_3D, 0) ##Seuil à optimiser"
   ]
  },
  {
   "cell_type": "markdown",
   "metadata": {},
   "source": [
    "- Admettons qu'on décide de donner au réseau de neurone 1 seul nodule et qu'on fixe sa taille à 16x16x16 (on fera du padding ou on tejera des coupes en trop si necessaire)\n",
    "- Avec la fonction ci dessous, si il y a plus de slices que 16, on ne prends pas en compte celles en trop et si il y en a moins que 16, on pad\n",
    "- Si on décommente les 2 lignes en commentaires, on récupère le vrai nodule en 3D, sans troncature ou padding"
   ]
  },
  {
   "cell_type": "code",
   "execution_count": 141,
   "metadata": {
    "collapsed": true
   },
   "outputs": [],
   "source": [
    "##A partir des paths vers lesquels on trouve lung_img et mask_nodule et de l'ID du patient, on récupère un npdule 3D de taille 32x32x32\n",
    "def npz_to_cnn(images_path_lung_img, images_path_nodule_mask, ID, dimx_nodule = 32, dimy_nodule = 32, dimz_nodule = 32):\n",
    "    patients_path_lung_img = get_patients_path_lung_img(images_path_lung_img, ID)\n",
    "    patients_path_nodule_mask = get_patients_path_nodule_mask(images_path_nodule_mask, ID)\n",
    "    nodule_segmented_3D = get_nodule_segmented_3D(patients_path_nodule_mask, patients_path_lung_img, dimz_nodule)\n",
    "    center_full_3D, nb_nodules_3D = get_center_nodules_3D(patients_path_nodule_mask)\n",
    "    a = min(len(center_full_3D), dimz_nodule)\n",
    "    \n",
    "    first_nodule_3D = np.zeros((dimx_nodule, dimy_nodule, dimz_nodule)) \n",
    "    \n",
    "    #for i in range(0,len(nb_nodules_3D)):\n",
    "    for i in range(0,a):\n",
    "        first_nodule_3D[:,:,i] = nodule_segmented_3D[int(center_full_3D[i][-1][0])-dimx_nodule/2:int(center_full_3D[i][-1][0])+dimx_nodule/2,int(center_full_3D[i][-1][1])-dimy_nodule/2:int(center_full_3D[i][-1][1])+dimy_nodule/2,i]\n",
    "    return first_nodule_3D, center_full_3D"
   ]
  },
  {
   "cell_type": "code",
   "execution_count": 267,
   "metadata": {
    "scrolled": true
   },
   "outputs": [
    {
     "name": "stdout",
     "output_type": "stream",
     "text": [
      "[(316.5, 170.5)]\n",
      "[(316.5, 170.5)]\n",
      "[(316.5, 170.5)]\n",
      "[(316.5, 170.5)]\n",
      "[(309.5, 173.5), (312.0, 161.0)]\n",
      "[(309.5, 173.5), (312.0, 161.0)]\n",
      "[(309.5, 173.5), (312.0, 161.0)]\n",
      "[(309.5, 173.5)]\n",
      "[(271.0, 169.0)]\n",
      "[(271.0, 169.0), (304.0, 192.0)]\n",
      "[(271.0, 169.0), (304.0, 192.0)]\n",
      "[(271.0, 169.0), (304.0, 192.0)]\n",
      "[(271.0, 169.0), (304.0, 192.0)]\n",
      "[(304.0, 192.0)]\n",
      "[(304.0, 192.0)]\n",
      "[(304.0, 192.0)]\n",
      "CPU times: user 5.12 s, sys: 613 ms, total: 5.74 s\n",
      "Wall time: 5.94 s\n"
     ]
    }
   ],
   "source": [
    "%%time\n",
    "\n",
    "nodule_3D, center_full_3D = npz_to_cnn(images_path_lung_img, images_path_nodule_mask, id_patients[29])\n",
    "#plot_3d(nodule_3D)"
   ]
  },
  {
   "cell_type": "markdown",
   "metadata": {},
   "source": [
    "- Problème 2) le fait que dans le preprocessing, on selectionne uniquement les deux plus grosses areas d'une slice fausse la détection 3D des nodules (sur une slice, les 2 plus gros nodules ne sont pas forcément ceux qui ont la plus grosse area sur la slice en question, ça dépend si la slice les coupe en plein milieu ou au niveau d'une extremité)"
   ]
  },
  {
   "cell_type": "markdown",
   "metadata": {
    "collapsed": true
   },
   "source": [
    "## Implémentation du CNN"
   ]
  },
  {
   "cell_type": "code",
   "execution_count": 9,
   "metadata": {},
   "outputs": [
    {
     "name": "stderr",
     "output_type": "stream",
     "text": [
      "/Users/anthonypamart/anaconda2/lib/python2.7/site-packages/h5py/__init__.py:34: FutureWarning: Conversion of the second argument of issubdtype from `float` to `np.floating` is deprecated. In future, it will be treated as `np.float64 == np.dtype(float).type`.\n",
      "  from ._conv import register_converters as _register_converters\n",
      "Using TensorFlow backend.\n"
     ]
    }
   ],
   "source": [
    "from keras import layers\n",
    "from keras import models\n",
    "from keras import optimizers\n",
    "from CNN_Classification import CNN_Classification"
   ]
  },
  {
   "cell_type": "code",
   "execution_count": null,
   "metadata": {
    "collapsed": true
   },
   "outputs": [],
   "source": [
    "model = CNN_Classification()"
   ]
  },
  {
   "cell_type": "code",
   "execution_count": null,
   "metadata": {
    "collapsed": true
   },
   "outputs": [],
   "source": [
    "#train_images = np.reshape(first_nodule_3D, (1,32,32,32,1))\n",
    "#train_images = np.reshape(np.zeros((32,32,32)), (1,32,32,32,1))\n",
    "train_labels = np.zeros((1,1))\n",
    "model.fit(train_images, train_labels, epochs=5, batch_size=1)"
   ]
  }
 ],
 "metadata": {
  "kernelspec": {
   "display_name": "Python 2",
   "language": "python",
   "name": "python2"
  },
  "language_info": {
   "codemirror_mode": {
    "name": "ipython",
    "version": 2
   },
   "file_extension": ".py",
   "mimetype": "text/x-python",
   "name": "python",
   "nbconvert_exporter": "python",
   "pygments_lexer": "ipython2",
   "version": "2.7.13"
  }
 },
 "nbformat": 4,
 "nbformat_minor": 2
}
