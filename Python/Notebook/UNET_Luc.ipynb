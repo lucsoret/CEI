{
 "cells": [
  {
   "cell_type": "code",
   "execution_count": 1,
   "metadata": {},
   "outputs": [],
   "source": [
    "import SimpleITK as sitk\n",
    "import numpy as np\n",
    "import os\n",
    "import pandas as pd\n",
    "import scipy.ndimage\n",
    "from skimage.segmentation import clear_border\n",
    "import pylab"
   ]
  },
  {
   "cell_type": "code",
   "execution_count": 2,
   "metadata": {},
   "outputs": [],
   "source": [
    "import skimage, os\n",
    "from skimage.morphology import ball, disk, dilation, binary_erosion, remove_small_objects, erosion, closing, reconstruction, binary_closing\n",
    "from skimage.measure import label,regionprops, perimeter\n",
    "from skimage.morphology import binary_dilation, binary_opening\n",
    "from skimage.filters import roberts, sobel\n",
    "from skimage import measure, feature\n",
    "from skimage.segmentation import clear_border\n",
    "from skimage import data\n",
    "from scipy import ndimage as ndi\n",
    "import matplotlib.pyplot as plt\n",
    "from mpl_toolkits.mplot3d.art3d import Poly3DCollection\n",
    "import dicom\n",
    "import scipy.misc\n",
    "from collections import Counter"
   ]
  },
  {
   "cell_type": "code",
   "execution_count": 3,
   "metadata": {},
   "outputs": [
    {
     "name": "stderr",
     "output_type": "stream",
     "text": [
      "Using TensorFlow backend.\n"
     ]
    }
   ],
   "source": [
    "from keras.layers import Input, merge, Conv2D, MaxPooling2D, UpSampling2D, Dropout, Cropping2D\n",
    "from keras.models import Sequential\n",
    "from keras.layers import Dense, Dropout, Activation, Flatten\n",
    "from keras.layers import Convolution3D, Convolution2D, MaxPooling3D, MaxPooling2D\n",
    "from keras import layers\n",
    "from keras import Model\n",
    "from keras.optimizers import *\n",
    "from keras.utils import np_utils\n",
    "from keras import backend as K\n",
    "from keras.models import Sequential\n",
    "from keras import models\n",
    "from keras import optimizers\n",
    "from keras.callbacks import TensorBoard\n",
    "import keras.losses\n",
    "import keras.metrics\n",
    "from keras.models import load_model"
   ]
  },
  {
   "cell_type": "markdown",
   "metadata": {},
   "source": [
    "### Fonctions"
   ]
  },
  {
   "cell_type": "code",
   "execution_count": 4,
   "metadata": {},
   "outputs": [],
   "source": [
    "'''\n",
    "This funciton reads a '.mhd' file using SimpleITK and return the image array, \n",
    "origin and spacing of the image.\n",
    "'''\n",
    "def load_itk(filename):\n",
    "    # Reads the image using SimpleITK\n",
    "    itkimage = sitk.ReadImage(filename)\n",
    "    \n",
    "    # Convert the image to a  numpy array first and then shuffle the dimensions to get axis in the order z,y,x\n",
    "    ct_scan = sitk.GetArrayFromImage(itkimage)\n",
    "    \n",
    "    # Read the origin of the ct_scan, will be used to convert the coordinates from world to voxel and vice versa.\n",
    "    origin = np.array(list(reversed(itkimage.GetOrigin())))\n",
    "    \n",
    "    # Read the spacing along each dimension\n",
    "    spacing = np.array(list(reversed(itkimage.GetSpacing())))\n",
    "    \n",
    "    return ct_scan, origin, spacing\n",
    "\n",
    "'''\n",
    "This function is used to convert the world coordinates to voxel coordinates using \n",
    "the origin and spacing of the ct_scan\n",
    "'''\n",
    "def world_2_voxel(world_coordinates, origin, spacing):\n",
    "    stretched_voxel_coordinates = np.absolute(world_coordinates - origin)\n",
    "    voxel_coordinates = stretched_voxel_coordinates / spacing\n",
    "    return voxel_coordinates\n",
    "\n",
    "'''\n",
    "This function is used to convert the voxel coordinates to world coordinates using \n",
    "the origin and spacing of the ct_scan.\n",
    "'''\n",
    "def voxel_2_world(voxel_coordinates, origin, spacing):\n",
    "    stretched_voxel_coordinates = voxel_coordinates * spacing\n",
    "    world_coordinates = stretched_voxel_coordinates + origin\n",
    "    return world_coordinates"
   ]
  },
  {
   "cell_type": "code",
   "execution_count": 5,
   "metadata": {},
   "outputs": [],
   "source": [
    "def seq(start, stop, step=1):\n",
    "    n = int(round((stop - start)/float(step)))\n",
    "    if n > 1:\n",
    "        return([start + step*i for i in range(n+1)])\n",
    "    else:\n",
    "        return([])"
   ]
  },
  {
   "cell_type": "code",
   "execution_count": 6,
   "metadata": {},
   "outputs": [],
   "source": [
    "def get_segmented_lungs(im):\n",
    "    \n",
    "    '''\n",
    "    Segmente le poumon pour une slice 2D, cf le notebook pre_processing\n",
    "    '''\n",
    "    \n",
    "\n",
    "    \n",
    "    #Step 1: Convertion en image binaire, seuil de 604\n",
    "    \n",
    "    binary = im < 604\n",
    "    \n",
    "    #Step 2: Enleve les bords de l'image pour garder que le contenu\n",
    "    \n",
    "    cleared = clear_border(binary)\n",
    "  \n",
    "    #Step 3: On labelise l image, cette operation permet de scinder une image binaire en differente zone, selon les contacts entre les pixels\n",
    "\n",
    "    label_image = label(cleared)\n",
    "\n",
    "    \n",
    "    #Une fois la labelisation faite, on va garder les deux regions les plus grandes, correspondants ainsi aux deux poumons\n",
    "    \n",
    "    areas = [r.area for r in regionprops(label_image)]\n",
    "    areas.sort()\n",
    "    if len(areas) > 2:\n",
    "        for region in regionprops(label_image):\n",
    "            if region.area < areas[-2]:\n",
    "                for coordinates in region.coords:                \n",
    "                       label_image[coordinates[0], coordinates[1]] = 0\n",
    "    binary = label_image > 0\n",
    "\n",
    "    #Step 4: Erosion pour separer les contacts avec les vaisseaux sanguins\n",
    "    selem = disk(2)\n",
    "    binary = binary_erosion(binary, selem)\n",
    "    \n",
    "    #Step 5: Closure, pour garder les nodules attachees aux parois des poumons\n",
    "    selem = disk(10)\n",
    "    binary = binary_closing(binary, selem)\n",
    "    \n",
    "    #Step 6: Remplissage\n",
    "    \n",
    "    edges = roberts(binary)\n",
    "    binary = ndi.binary_fill_holes(edges)\n",
    "    \n",
    "    #Step 7: Application du masque a l image d entree\n",
    "    \n",
    "    get_high_vals = binary == 0\n",
    "    im[get_high_vals] = 0\n",
    "\n",
    "    return im"
   ]
  },
  {
   "cell_type": "code",
   "execution_count": 7,
   "metadata": {},
   "outputs": [],
   "source": [
    "def segment_lung_from_ct_scan(ct_scan):\n",
    "\treturn np.asarray([get_segmented_lungs(slice) for slice in ct_scan])\n"
   ]
  },
  {
   "cell_type": "code",
   "execution_count": 8,
   "metadata": {},
   "outputs": [],
   "source": [
    "'''\n",
    "This function is used to create spherical regions in binary masks\n",
    "at the given locations and radius.\n",
    "'''\n",
    "def draw_circles(image,cands,origin,spacing):\n",
    "    #make empty matrix, which will be filled with the mask\n",
    "    RESIZE_SPACING = [1, 1, 1]\n",
    "    image_mask = np.zeros(image.shape)\n",
    "\n",
    "    #run over all the nodules in the lungs\n",
    "    for ca in cands.values:\n",
    "        #get middel x-,y-, and z-worldcoordinate of the nodule\n",
    "        radius = np.ceil(ca[4])/2\n",
    "        coord_x = ca[1]\n",
    "        coord_y = ca[2]\n",
    "        coord_z = ca[3]\n",
    "        image_coord = np.array((coord_z,coord_y,coord_x))\n",
    "\n",
    "        #determine voxel coordinate given the worldcoordinate\n",
    "        image_coord = world_2_voxel(image_coord,origin,spacing)\n",
    "\n",
    "        #determine the range of the nodule\n",
    "        noduleRange = seq(-radius, radius, RESIZE_SPACING[0])\n",
    "\n",
    "        #create the mask\n",
    "        for x in noduleRange:\n",
    "            for y in noduleRange:\n",
    "                for z in noduleRange:\n",
    "                    coords = world_2_voxel(np.array((coord_z+z,coord_y+y,coord_x+x)),origin,spacing)\n",
    "                    if (np.linalg.norm(image_coord-coords) * RESIZE_SPACING[0]) < radius:\n",
    "                        \n",
    "                        mask_x = int(max(0,min(image_mask.shape[0]-1,coords[0])))\n",
    "                        mask_y = int(max(0,min(image_mask.shape[1]-1,coords[1])))\n",
    "                        mask_z = int(max(0,min(image_mask.shape[2]-1,coords[2])))\n",
    "\n",
    "                        image_mask[mask_x,mask_y,mask_z] = int(1)\n",
    "\n",
    "    return image_mask"
   ]
  },
  {
   "cell_type": "code",
   "execution_count": 9,
   "metadata": {},
   "outputs": [],
   "source": [
    "'''\n",
    "This function takes the path to a '.mhd' file as input and \n",
    "is used to create the nodule masks and segmented lungs after \n",
    "rescaling to 1mm size in all directions. It saved them in the .npz\n",
    "format. It also takes the list of nodule locations in that CT Scan as \n",
    "input.\n",
    "'''\n",
    "def create_nodule_mask(imagePath, cands, imageName,path):\n",
    "    #if os.path.isfile(imagePath.replace('original',SAVE_FOLDER_image)) == False:\n",
    "    img, origin, spacing = load_itk(imagePath)\n",
    "\n",
    "    #calculate resize factor\n",
    "    RESIZE_SPACING = [1, 1, 1]\n",
    "    resize_factor = spacing / RESIZE_SPACING\n",
    "    new_real_shape = img.shape * resize_factor\n",
    "    new_shape = np.round(new_real_shape)\n",
    "    real_resize = new_shape / img.shape\n",
    "    new_spacing = spacing / real_resize\n",
    "    \n",
    "    #resize image\n",
    "    lung_img = scipy.ndimage.interpolation.zoom(img, real_resize)\n",
    "    \n",
    "    # Segment the lung structure\n",
    "    lung_img = lung_img + 1024\n",
    "    lung_mask = segment_lung_from_ct_scan(lung_img)\n",
    "    lung_img = lung_img - 1024\n",
    "\n",
    "    #create nodule mask\n",
    "    nodule_mask = draw_circles(lung_img,cands,origin,new_spacing)\n",
    "\n",
    "    lung_img_512, lung_mask_512, nodule_mask_512 = np.zeros((lung_img.shape[0], 512, 512)), np.zeros((lung_mask.shape[0], 512, 512)), np.zeros((nodule_mask.shape[0], 512, 512))\n",
    "\n",
    "    original_shape = lung_img.shape\t\n",
    "    for z in range(lung_img.shape[0]):\n",
    "        offset = (512 - original_shape[1])\n",
    "        upper_offset = np.round(offset/2)\n",
    "        lower_offset = offset - upper_offset\n",
    "\n",
    "        new_origin = voxel_2_world([-upper_offset,-lower_offset,0],origin,new_spacing)\n",
    "\n",
    "        lung_img_512[z, upper_offset:-lower_offset,upper_offset:-lower_offset] = lung_img[z,:,:]\n",
    "        lung_mask_512[z, upper_offset:-lower_offset,upper_offset:-lower_offset] = lung_mask[z,:,:]\n",
    "        nodule_mask_512[z, upper_offset:-lower_offset,upper_offset:-lower_offset] = nodule_mask[z,:,:]\n",
    "\n",
    "    # save images.    \n",
    "    #np.save(path + imageName + '_lung_img.npz', lung_img_512)\n",
    "    #np.save(path + imageName + '_lung_mask.npz', lung_mask_512)\n",
    "    #np.save(path + imageName + '_nodule_mask.npz', nodule_mask_512)\n",
    "    \n",
    "    #return\n",
    "    return lung_img_512,nodule_mask_512"
   ]
  },
  {
   "cell_type": "markdown",
   "metadata": {},
   "source": [
    "### Pre_processing"
   ]
  },
  {
   "cell_type": "code",
   "execution_count": 10,
   "metadata": {},
   "outputs": [],
   "source": [
    "INPUT_FOLDER = '/home/lucsoret/Projet/Supelec/CEI/Data/LUNA16/Images/subset0'\n",
    "cands = pd.read_csv('/home/lucsoret/Projet/Supelec/CEI/Data/LUNA16/csv/annotations.csv')\n",
    "\n",
    "processed_folder = '/home/lucsoret/Projet/Supelec/CEI/Data/LUNA16/Images/processed/'\n",
    "slice_folder = '/home/lucsoret/Projet/Supelec/CEI/Data/LUNA16/Images/processed/subset0/slices'\n",
    "\n",
    "patients_short = os.listdir(INPUT_FOLDER)\n",
    "\n",
    "images = os.listdir(INPUT_FOLDER)\n",
    "images_path = [os.path.join(INPUT_FOLDER,patient) for patient in patients_short]\n",
    "\n",
    "##On ne garde que les images en .mhd\n",
    "images_mhd = []\n",
    "\n",
    "for i in range(0,len(images)):\n",
    "    if images[i][-4:] == '.mhd':\n",
    "        images_mhd.append(images[i])\n",
    "\n",
    "images_mhd_path = [os.path.join(INPUT_FOLDER,mhd) for mhd in images_mhd]\n",
    "\n",
    "##Liste des cands pour chaque image, on depasse un peu mais rien de grave\n",
    "cands_list = []\n",
    "for i in range(0,len(images_mhd)):\n",
    "    cands_list.append(cands[cands['seriesuid'] == images_mhd[i][0:-4]])"
   ]
  },
  {
   "cell_type": "code",
   "execution_count": 11,
   "metadata": {},
   "outputs": [],
   "source": [
    "numero = 16\n",
    "mhd_path = images_mhd_path[numero]\n",
    "im_mhd = images_mhd[numero]\n",
    "lung,nodule = create_nodule_mask(mhd_path, cands_list[numero], im_mhd[0:-4],processed_folder)"
   ]
  },
  {
   "cell_type": "code",
   "execution_count": 12,
   "metadata": {
    "scrolled": true
   },
   "outputs": [
    {
     "name": "stdout",
     "output_type": "stream",
     "text": [
      "246\n",
      "247\n",
      "248\n",
      "249\n",
      "250\n",
      "251\n",
      "252\n",
      "253\n",
      "254\n",
      "255\n"
     ]
    }
   ],
   "source": [
    "for i in range(nodule.shape[0]):\n",
    "    if (np.sum(nodule[i,:,:]) > 0):\n",
    "        print(i)"
   ]
  },
  {
   "cell_type": "markdown",
   "metadata": {},
   "source": [
    "On plot l'image et le masque associé\n",
    "Notons que pour la suite, le zero padding ne sera pas fait avec des 0 mais des -1024 pour ne pas avoir de discontinuité dans l'image, sans quoi la segmentation est inefficace (si ce n'est impossible)"
   ]
  },
  {
   "cell_type": "code",
   "execution_count": 13,
   "metadata": {},
   "outputs": [
    {
     "data": {
      "text/plain": [
       "<matplotlib.image.AxesImage at 0x7fc433b503d0>"
      ]
     },
     "execution_count": 13,
     "metadata": {},
     "output_type": "execute_result"
    },
    {
     "data": {
      "image/png": "[encoded data removed]",
      "text/plain": [
       "<matplotlib.figure.Figure at 0x7fc433c9cd10>"
      ]
     },
     "metadata": {},
     "output_type": "display_data"
    }
   ],
   "source": [
    "plt.imshow(lung[250],cmap=pylab.cm.bone)"
   ]
  },
  {
   "cell_type": "code",
   "execution_count": 14,
   "metadata": {},
   "outputs": [
    {
     "data": {
      "text/plain": [
       "<matplotlib.image.AxesImage at 0x7fc433a40fd0>"
      ]
     },
     "execution_count": 14,
     "metadata": {},
     "output_type": "execute_result"
    },
    {
     "data": {
      "image/png": "[encoded data removed]",
      "text/plain": [
       "<matplotlib.figure.Figure at 0x7fc433b0b810>"
      ]
     },
     "metadata": {},
     "output_type": "display_data"
    }
   ],
   "source": [
    "plt.imshow(nodule[250],cmap=pylab.cm.bone)"
   ]
  },
  {
   "cell_type": "markdown",
   "metadata": {},
   "source": [
    "Pour feed l'UNET, on mettra en forme les données grâce au script luna16_generates.py. Les données générées par ce script sont des tranches contenant des nodules, qui seront alors feed au réseau de neuronne"
   ]
  },
  {
   "cell_type": "markdown",
   "metadata": {},
   "source": [
    "### UNET"
   ]
  },
  {
   "cell_type": "code",
   "execution_count": 15,
   "metadata": {},
   "outputs": [],
   "source": [
    "'''\n",
    "Modification du DataGenerator pour pouvoir gerer notre type de donnees\n",
    "'''\n",
    "\n",
    "class DataGenerator(object):\n",
    "    'Generates data for Keras'\n",
    "    def __init__(self, dim_x = 512, dim_y = 512, dim_z = 1, batch_size = 32, shuffle = True):\n",
    "        'Initialization'\n",
    "        self.dim_x = dim_x\n",
    "        self.dim_y = dim_y\n",
    "        self.dim_z = dim_z\n",
    "        self.batch_size = batch_size\n",
    "        self.shuffle = shuffle\n",
    "        \n",
    "    def generate(self,list_IDs,INPUT_FOLDER):\n",
    "        #'Generates batches of samples'\n",
    "        # Infinite loop\n",
    "        while 1:\n",
    "            # Generate order of exploration of dataset\n",
    "            indexes = self.__get_exploration_order(list_IDs)\n",
    "            # Generate batches\n",
    "            imax = int(len(indexes)/self.batch_size)\n",
    "            for i in range(imax):\n",
    "                # Find list of IDs\n",
    "                list_IDs_temp = [list_IDs[k] for k in indexes[i*self.batch_size:(i+1)*self.batch_size]]\n",
    "                # Generate data\n",
    "                X, Y = self.__data_generation(list_IDs_temp,INPUT_FOLDER)\n",
    "\n",
    "                yield X, Y\n",
    "                    \n",
    "    def __get_exploration_order(self, list_IDs):\n",
    "        'Generates order of exploration'\n",
    "        # Find exploration order\n",
    "        indexes = np.arange(len(list_IDs))\n",
    "        if self.shuffle == True:\n",
    "            np.random.shuffle(indexes)\n",
    "        return indexes\n",
    "\n",
    "    def __data_generation(self,list_IDs_temp,INPUT_FOLDER):\n",
    "        #'Generates data of batch_size samples' # X : (n_samples, v_size, v_size, v_size, n_channels)\n",
    "        # Initialization\n",
    "        X = np.empty((self.batch_size, self.dim_x, self.dim_y, self.dim_z))\n",
    "        Y = np.empty((self.batch_size, self.dim_x, self.dim_y, self.dim_z))\n",
    "        # Generate data\n",
    "\n",
    "        for i, ID in enumerate(list_IDs_temp):\n",
    "            # Store volume\n",
    "            X[i, :, :, 0] = np.load(INPUT_FOLDER + '/' + ID + '_lung_img.npz.npy')\n",
    "            # Store class\n",
    "            Y[i,:,:,0] = np.load(INPUT_FOLDER + '/' + ID + '_nodule_mask.npz.npy')\n",
    "        return X, Y"
   ]
  },
  {
   "cell_type": "code",
   "execution_count": 16,
   "metadata": {},
   "outputs": [],
   "source": [
    "def unet():\n",
    "\tinputs = Input((512,512,1))\n",
    "\n",
    "\tconv1 = Conv2D(64, 3, activation = 'relu', padding = 'same', kernel_initializer = 'he_normal')(inputs)\n",
    "\tconv1 = Conv2D(64, 3, activation = 'relu', padding = 'same', kernel_initializer = 'he_normal')(conv1)\n",
    "\tpool1 = MaxPooling2D(pool_size=(2, 2))(conv1)\n",
    "\n",
    "\tconv2 = Conv2D(128, 3, activation = 'relu', padding = 'same', kernel_initializer = 'he_normal')(pool1)\n",
    "\tconv2 = Conv2D(128, 3, activation = 'relu', padding = 'same', kernel_initializer = 'he_normal')(conv2)\n",
    "\tpool2 = MaxPooling2D(pool_size=(2, 2))(conv2)\n",
    "\n",
    "\tconv3 = Conv2D(256, 3, activation = 'relu', padding = 'same', kernel_initializer = 'he_normal')(pool2)\n",
    "\n",
    "\tpool3 = MaxPooling2D(pool_size=(2, 2))(conv3)\n",
    "\n",
    "\n",
    "\tconv4 = Conv2D(512, 3, activation = 'relu', padding = 'same', kernel_initializer = 'he_normal')(pool3)\n",
    "\tconv4 = Conv2D(512, 3, activation = 'relu', padding = 'same', kernel_initializer = 'he_normal')(conv4)\n",
    "\tdrop4 = Dropout(0.5)(conv4)\n",
    "\tpool4 = MaxPooling2D(pool_size=(2, 2))(drop4)\n",
    "\n",
    "\tconv5 = Conv2D(1024, 3, activation = 'relu', padding = 'same', kernel_initializer = 'he_normal')(pool4)\n",
    "\tconv5 = Conv2D(1024, 3, activation = 'relu', padding = 'same', kernel_initializer = 'he_normal')(conv5)\n",
    "\tdrop5 = Dropout(0.5)(conv5)\n",
    "\n",
    "\tup6 = Conv2D(512, 2, activation = 'relu', padding = 'same', kernel_initializer = 'he_normal')(UpSampling2D(size = (2,2))(drop5))\n",
    "\tmerge6 = merge([drop4,up6], mode = 'concat', concat_axis = 3)\n",
    "\tconv6 = Conv2D(512, 3, activation = 'relu', padding = 'same', kernel_initializer = 'he_normal')(merge6)\n",
    "\tconv6 = Conv2D(512, 3, activation = 'relu', padding = 'same', kernel_initializer = 'he_normal')(conv6)\n",
    "\n",
    "\tup7 = Conv2D(256, 2, activation = 'relu', padding = 'same', kernel_initializer = 'he_normal')(UpSampling2D(size = (2,2))(conv6))\n",
    "\tmerge7 = merge([conv3,up7], mode = 'concat', concat_axis = 3)\n",
    "\tconv7 = Conv2D(256, 3, activation = 'relu', padding = 'same', kernel_initializer = 'he_normal')(merge7)\n",
    "\tconv7 = Conv2D(256, 3, activation = 'relu', padding = 'same', kernel_initializer = 'he_normal')(conv7)\n",
    "\n",
    "\tup8 = Conv2D(128, 2, activation = 'relu', padding = 'same', kernel_initializer = 'he_normal')(UpSampling2D(size = (2,2))(conv7))\n",
    "\tmerge8 = merge([conv2,up8], mode = 'concat', concat_axis = 3)\n",
    "\tconv8 = Conv2D(128, 3, activation = 'relu', padding = 'same', kernel_initializer = 'he_normal')(merge8)\n",
    "\tconv8 = Conv2D(128, 3, activation = 'relu', padding = 'same', kernel_initializer = 'he_normal')(conv8)\n",
    "\n",
    "\tup9 = Conv2D(64, 2, activation = 'relu', padding = 'same', kernel_initializer = 'he_normal')(UpSampling2D(size = (2,2))(conv8))\n",
    "\tmerge9 = merge([conv1,up9], mode = 'concat', concat_axis = 3)\n",
    "\tconv9 = Conv2D(64, 3, activation = 'relu', padding = 'same', kernel_initializer = 'he_normal')(merge9)\n",
    "\tconv9 = Conv2D(64, 3, activation = 'relu', padding = 'same', kernel_initializer = 'he_normal')(conv9)\n",
    "\tconv9 = Conv2D(2, 3, activation = 'relu', padding = 'same', kernel_initializer = 'he_normal')(conv9)\n",
    "\tconv10 = Conv2D(1, 1, activation = 'sigmoid')(conv9)\n",
    "\n",
    "\tmodel = Model(input = inputs, output = conv10)\n",
    "\n",
    "\tmodel.compile(optimizer=Adam(lr=1e-5), loss=dice_coef_loss, metrics=[dice_coef])\n",
    "\n",
    "\tmodel.summary()\n",
    "\n",
    "\treturn model"
   ]
  },
  {
   "cell_type": "code",
   "execution_count": 17,
   "metadata": {},
   "outputs": [],
   "source": [
    "def generate_unique_logpath(logdir, raw_run_name):\n",
    "        i = 0\n",
    "        while(True):\n",
    "                run_name = raw_run_name + \"-\" + str(i)\n",
    "                log_path = os.path.join(logdir, run_name)\n",
    "                if not os.path.isdir(log_path):\n",
    "                        return log_path\n",
    "                i = i + 1"
   ]
  },
  {
   "cell_type": "code",
   "execution_count": 18,
   "metadata": {},
   "outputs": [],
   "source": [
    "# Pour la segmentation, on a besoin d utiliser le coefficient de dice comme fonction de precision\n",
    "def dice_coef(y_true, y_pred):\n",
    "    smooth = 1.\n",
    "    y_true_f = K.flatten(y_true)\n",
    "    y_pred_f = K.flatten(y_pred)\n",
    "    intersection = K.sum(y_true_f * y_pred_f)\n",
    "    return (2. * intersection + smooth) / (K.sum(y_true_f) + K.sum(y_pred_f) + smooth)"
   ]
  },
  {
   "cell_type": "code",
   "execution_count": 19,
   "metadata": {},
   "outputs": [],
   "source": [
    "#La perte est juste l oppose du coefficient de dice (permet de decroitre)\n",
    "def dice_coef_loss(y_true, y_pred):\n",
    "    return -dice_coef(y_true, y_pred)"
   ]
  },
  {
   "cell_type": "code",
   "execution_count": 22,
   "metadata": {},
   "outputs": [],
   "source": [
    "def generate_list_ID(folder):\n",
    "\tnp_list = os.listdir(folder)\n",
    "\tlist_IDs = []\n",
    "\tfor i,name in enumerate(np_list):\n",
    "\t\tif name[-16:-8] == \"lung_img\":\n",
    "\t\t\tlist_IDs.append(name[0:-17])\n",
    "\treturn list_IDs"
   ]
  },
  {
   "cell_type": "code",
   "execution_count": 20,
   "metadata": {},
   "outputs": [
    {
     "name": "stderr",
     "output_type": "stream",
     "text": [
      "/home/lucsoret/Logiciels/anaconda3/envs/tensorflow/lib/python2.7/site-packages/ipykernel_launcher.py:27: UserWarning: The `merge` function is deprecated and will be removed after 08/2017. Use instead layers from `keras.layers.merge`, e.g. `add`, `concatenate`, etc.\n",
      "/home/lucsoret/Logiciels/anaconda3/envs/tensorflow/lib/python2.7/site-packages/keras/legacy/layers.py:464: UserWarning: The `Merge` layer is deprecated and will be removed after 08/2017. Use instead layers from `keras.layers.merge`, e.g. `add`, `concatenate`, etc.\n",
      "  name=name)\n",
      "/home/lucsoret/Logiciels/anaconda3/envs/tensorflow/lib/python2.7/site-packages/ipykernel_launcher.py:32: UserWarning: The `merge` function is deprecated and will be removed after 08/2017. Use instead layers from `keras.layers.merge`, e.g. `add`, `concatenate`, etc.\n",
      "/home/lucsoret/Logiciels/anaconda3/envs/tensorflow/lib/python2.7/site-packages/ipykernel_launcher.py:37: UserWarning: The `merge` function is deprecated and will be removed after 08/2017. Use instead layers from `keras.layers.merge`, e.g. `add`, `concatenate`, etc.\n",
      "/home/lucsoret/Logiciels/anaconda3/envs/tensorflow/lib/python2.7/site-packages/ipykernel_launcher.py:42: UserWarning: The `merge` function is deprecated and will be removed after 08/2017. Use instead layers from `keras.layers.merge`, e.g. `add`, `concatenate`, etc.\n",
      "/home/lucsoret/Logiciels/anaconda3/envs/tensorflow/lib/python2.7/site-packages/ipykernel_launcher.py:48: UserWarning: Update your `Model` call to the Keras 2 API: `Model(outputs=Tensor(\"co..., inputs=Tensor(\"in...)`\n"
     ]
    },
    {
     "name": "stdout",
     "output_type": "stream",
     "text": [
      "__________________________________________________________________________________________________\n",
      "Layer (type)                    Output Shape         Param #     Connected to                     \n",
      "==================================================================================================\n",
      "input_1 (InputLayer)            (None, 512, 512, 1)  0                                            \n",
      "__________________________________________________________________________________________________\n",
      "conv2d_1 (Conv2D)               (None, 512, 512, 64) 640         input_1[0][0]                    \n",
      "__________________________________________________________________________________________________\n",
      "conv2d_2 (Conv2D)               (None, 512, 512, 64) 36928       conv2d_1[0][0]                   \n",
      "__________________________________________________________________________________________________\n",
      "max_pooling2d_1 (MaxPooling2D)  (None, 256, 256, 64) 0           conv2d_2[0][0]                   \n",
      "__________________________________________________________________________________________________\n",
      "conv2d_3 (Conv2D)               (None, 256, 256, 128 73856       max_pooling2d_1[0][0]            \n",
      "__________________________________________________________________________________________________\n",
      "conv2d_4 (Conv2D)               (None, 256, 256, 128 147584      conv2d_3[0][0]                   \n",
      "__________________________________________________________________________________________________\n",
      "max_pooling2d_2 (MaxPooling2D)  (None, 128, 128, 128 0           conv2d_4[0][0]                   \n",
      "__________________________________________________________________________________________________\n",
      "conv2d_5 (Conv2D)               (None, 128, 128, 256 295168      max_pooling2d_2[0][0]            \n",
      "__________________________________________________________________________________________________\n",
      "max_pooling2d_3 (MaxPooling2D)  (None, 64, 64, 256)  0           conv2d_5[0][0]                   \n",
      "__________________________________________________________________________________________________\n",
      "conv2d_6 (Conv2D)               (None, 64, 64, 512)  1180160     max_pooling2d_3[0][0]            \n",
      "__________________________________________________________________________________________________\n",
      "conv2d_7 (Conv2D)               (None, 64, 64, 512)  2359808     conv2d_6[0][0]                   \n",
      "__________________________________________________________________________________________________\n",
      "dropout_1 (Dropout)             (None, 64, 64, 512)  0           conv2d_7[0][0]                   \n",
      "__________________________________________________________________________________________________\n",
      "max_pooling2d_4 (MaxPooling2D)  (None, 32, 32, 512)  0           dropout_1[0][0]                  \n",
      "__________________________________________________________________________________________________\n",
      "conv2d_8 (Conv2D)               (None, 32, 32, 1024) 4719616     max_pooling2d_4[0][0]            \n",
      "__________________________________________________________________________________________________\n",
      "conv2d_9 (Conv2D)               (None, 32, 32, 1024) 9438208     conv2d_8[0][0]                   \n",
      "__________________________________________________________________________________________________\n",
      "dropout_2 (Dropout)             (None, 32, 32, 1024) 0           conv2d_9[0][0]                   \n",
      "__________________________________________________________________________________________________\n",
      "up_sampling2d_1 (UpSampling2D)  (None, 64, 64, 1024) 0           dropout_2[0][0]                  \n",
      "__________________________________________________________________________________________________\n",
      "conv2d_10 (Conv2D)              (None, 64, 64, 512)  2097664     up_sampling2d_1[0][0]            \n",
      "__________________________________________________________________________________________________\n",
      "merge_1 (Merge)                 (None, 64, 64, 1024) 0           dropout_1[0][0]                  \n",
      "                                                                 conv2d_10[0][0]                  \n",
      "__________________________________________________________________________________________________\n",
      "conv2d_11 (Conv2D)              (None, 64, 64, 512)  4719104     merge_1[0][0]                    \n",
      "__________________________________________________________________________________________________\n",
      "conv2d_12 (Conv2D)              (None, 64, 64, 512)  2359808     conv2d_11[0][0]                  \n",
      "__________________________________________________________________________________________________\n",
      "up_sampling2d_2 (UpSampling2D)  (None, 128, 128, 512 0           conv2d_12[0][0]                  \n",
      "__________________________________________________________________________________________________\n",
      "conv2d_13 (Conv2D)              (None, 128, 128, 256 524544      up_sampling2d_2[0][0]            \n",
      "__________________________________________________________________________________________________\n",
      "merge_2 (Merge)                 (None, 128, 128, 512 0           conv2d_5[0][0]                   \n",
      "                                                                 conv2d_13[0][0]                  \n",
      "__________________________________________________________________________________________________\n",
      "conv2d_14 (Conv2D)              (None, 128, 128, 256 1179904     merge_2[0][0]                    \n",
      "__________________________________________________________________________________________________\n",
      "conv2d_15 (Conv2D)              (None, 128, 128, 256 590080      conv2d_14[0][0]                  \n",
      "__________________________________________________________________________________________________\n",
      "up_sampling2d_3 (UpSampling2D)  (None, 256, 256, 256 0           conv2d_15[0][0]                  \n",
      "__________________________________________________________________________________________________\n",
      "conv2d_16 (Conv2D)              (None, 256, 256, 128 131200      up_sampling2d_3[0][0]            \n",
      "__________________________________________________________________________________________________\n",
      "merge_3 (Merge)                 (None, 256, 256, 256 0           conv2d_4[0][0]                   \n",
      "                                                                 conv2d_16[0][0]                  \n",
      "__________________________________________________________________________________________________\n",
      "conv2d_17 (Conv2D)              (None, 256, 256, 128 295040      merge_3[0][0]                    \n",
      "__________________________________________________________________________________________________\n",
      "conv2d_18 (Conv2D)              (None, 256, 256, 128 147584      conv2d_17[0][0]                  \n",
      "__________________________________________________________________________________________________\n",
      "up_sampling2d_4 (UpSampling2D)  (None, 512, 512, 128 0           conv2d_18[0][0]                  \n",
      "__________________________________________________________________________________________________\n",
      "conv2d_19 (Conv2D)              (None, 512, 512, 64) 32832       up_sampling2d_4[0][0]            \n",
      "__________________________________________________________________________________________________\n",
      "merge_4 (Merge)                 (None, 512, 512, 128 0           conv2d_2[0][0]                   \n",
      "                                                                 conv2d_19[0][0]                  \n",
      "__________________________________________________________________________________________________\n",
      "conv2d_20 (Conv2D)              (None, 512, 512, 64) 73792       merge_4[0][0]                    \n",
      "__________________________________________________________________________________________________\n",
      "conv2d_21 (Conv2D)              (None, 512, 512, 64) 36928       conv2d_20[0][0]                  \n",
      "__________________________________________________________________________________________________\n",
      "conv2d_22 (Conv2D)              (None, 512, 512, 2)  1154        conv2d_21[0][0]                  \n",
      "__________________________________________________________________________________________________\n",
      "conv2d_23 (Conv2D)              (None, 512, 512, 1)  3           conv2d_22[0][0]                  \n",
      "==================================================================================================\n",
      "Total params: 30,441,605\n",
      "Trainable params: 30,441,605\n",
      "Non-trainable params: 0\n",
      "__________________________________________________________________________________________________\n"
     ]
    }
   ],
   "source": [
    "model=unet()"
   ]
  },
  {
   "cell_type": "markdown",
   "metadata": {},
   "source": [
    "__Juste un copie-colle du code présent dans LUNA16_UNET.py, n'a pas vocation à être run car trop long, et nécessite la bonne mise en force__"
   ]
  },
  {
   "cell_type": "code",
   "execution_count": null,
   "metadata": {},
   "outputs": [],
   "source": [
    "TRAIN_FOLDER = '/home/lucsoret/Projet/CEI/Data/LUNA16/Images/processed/TRAIN'\n",
    "VAL_FOLDER = '/home/lucsoret/Projet/CEI/Data/LUNA16/Images/processed/VAL'\n",
    "\n",
    "\n",
    "list_IDs_TRAIN = generate_list_ID(TRAIN_FOLDER)\n",
    "list_IDs_VAL = generate_list_ID(VAL_FOLDER)\n",
    "\n",
    "#Tensorboard\n",
    "run_name = \"UNET\"\n",
    "logpath = generate_unique_logpath(\"'/home/lucsoret/Projet/CEI/Data/LUNA16/UNET/logs_linear\", run_name)\n",
    "tbcb = TensorBoard(log_dir=logpath)\n",
    "\n",
    "# Parameters\n",
    "params = {'dim_x': 512,\n",
    "          'dim_y': 512,\n",
    "          'dim_z': 1,\n",
    "          'batch_size': 4,\n",
    "          'shuffle': True}\n",
    "\n",
    "training_generator = DataGenerator(**params).generate(list_IDs_TRAIN,TRAIN_FOLDER)\n",
    "validation_generator = DataGenerator(**params).generate(list_IDs_VAL,VAL_FOLDER)\n",
    "\n",
    "#Charge des poids deja definis, juste mettre model = unet() sinon\n",
    "keras.losses.dice_coef_loss = dice_coef_loss\n",
    "keras.metrics.dice_coef = dice_coef\n",
    "model_path_init = '/home/lucsoret/Projet/CEI/Data/LUNA16/UNET/h5/UNET-0'\n",
    "model = load_model(model_path_init)\n",
    "#model = unet()\n",
    "\n",
    "history = model.fit_generator(generator = training_generator,\n",
    "                    steps_per_epoch = 20,\n",
    "                    epochs = 10,\n",
    "                    validation_data = validation_generator,\n",
    "                    validation_steps = 20,\n",
    "                    callbacks=[tbcb])\n",
    "model_path = generate_unique_logpath('/home/lucsoret/Projet/Supelec/CEI/Data/LUNA16/UNET/h5',run_name)\n",
    "model.save(model_path)"
   ]
  },
  {
   "cell_type": "markdown",
   "metadata": {},
   "source": [
    "### UNET-VERIFICATION"
   ]
  },
  {
   "cell_type": "code",
   "execution_count": 25,
   "metadata": {},
   "outputs": [],
   "source": [
    "import keras.losses\n",
    "import keras.metrics\n",
    "from keras.models import load_model"
   ]
  },
  {
   "cell_type": "code",
   "execution_count": 26,
   "metadata": {},
   "outputs": [
    {
     "name": "stderr",
     "output_type": "stream",
     "text": [
      "/home/lucsoret/Logiciels/anaconda3/envs/tensorflow/lib/python2.7/site-packages/keras/engine/topology.py:1269: UserWarning: The `Merge` layer is deprecated and will be removed after 08/2017. Use instead layers from `keras.layers.merge`, e.g. `add`, `concatenate`, etc.\n",
      "  return cls(**config)\n"
     ]
    }
   ],
   "source": [
    "h5_folder = '/home/lucsoret/Projet/Supelec/CEI/Data/LUNA16/UNET/h5'\n",
    "keras.losses.dice_coef_loss = dice_coef_loss\n",
    "keras.metrics.dice_coef = dice_coef\n",
    "model_path_init = os.path.join(h5_folder,'UNET-0')\n",
    "model = load_model(model_path_init)"
   ]
  },
  {
   "cell_type": "markdown",
   "metadata": {},
   "source": [
    "__Tester avec une image test et une image train__"
   ]
  },
  {
   "cell_type": "code",
   "execution_count": 27,
   "metadata": {},
   "outputs": [],
   "source": [
    "params = {'dim_x': 512,\n",
    "\t          'dim_y': 512,\n",
    "\t          'dim_z': 1,\n",
    "\t          'batch_size': 1,\n",
    "\t          'shuffle': False}\n",
    "SUBSET_FOLDER = '/home/lucsoret/Projet/Supelec/CEI/Data/LUNA16/Images/TEST'\n",
    "list_IDs_subset = generate_list_ID(SUBSET_FOLDER)\n",
    "subset_generator = DataGenerator(**params).generate(list_IDs_subset,SUBSET_FOLDER)"
   ]
  },
  {
   "cell_type": "code",
   "execution_count": 28,
   "metadata": {},
   "outputs": [],
   "source": [
    "numero = 325\n",
    "lung_to_predict = np.empty((1,512,512,1))\n",
    "lung_to_predict[0,:,:,0] = np.load(os.path.join(SUBSET_FOLDER,list_IDs_subset[numero]+'_lung_img.npz.npy'))\n",
    "predict_subset = model.predict(lung_to_predict)\n",
    "mask_predict = predict_subset[0,:,:,0]"
   ]
  },
  {
   "cell_type": "code",
   "execution_count": 29,
   "metadata": {},
   "outputs": [
    {
     "data": {
      "text/plain": [
       "<matplotlib.image.AxesImage at 0x7fc431e632d0>"
      ]
     },
     "execution_count": 29,
     "metadata": {},
     "output_type": "execute_result"
    },
    {
     "data": {
      "image/png": "[encoded data removed]",
      "text/plain": [
       "<matplotlib.figure.Figure at 0x7fc433bea290>"
      ]
     },
     "metadata": {},
     "output_type": "display_data"
    }
   ],
   "source": [
    "plt.imshow(mask_predict,cmap=pylab.cm.bone)"
   ]
  },
  {
   "cell_type": "code",
   "execution_count": 30,
   "metadata": {},
   "outputs": [
    {
     "data": {
      "text/plain": [
       "<matplotlib.image.AxesImage at 0x7fc431d84f90>"
      ]
     },
     "execution_count": 30,
     "metadata": {},
     "output_type": "execute_result"
    },
    {
     "data": {
      "image/png": "[encoded data removed]",
      "text/plain": [
       "<matplotlib.figure.Figure at 0x7fc431e11550>"
      ]
     },
     "metadata": {},
     "output_type": "display_data"
    }
   ],
   "source": [
    "plt.imshow(lung_to_predict[0,:,:,0],cmap=pylab.cm.bone)"
   ]
  },
  {
   "cell_type": "code",
   "execution_count": 31,
   "metadata": {},
   "outputs": [
    {
     "data": {
      "text/plain": [
       "<matplotlib.image.AxesImage at 0x7fc431d3aed0>"
      ]
     },
     "execution_count": 31,
     "metadata": {},
     "output_type": "execute_result"
    },
    {
     "data": {
      "image/png": "[encoded data removed]",
      "text/plain": [
       "<matplotlib.figure.Figure at 0x7fc431e11990>"
      ]
     },
     "metadata": {},
     "output_type": "display_data"
    }
   ],
   "source": [
    "mask_real = np.load(os.path.join(SUBSET_FOLDER,list_IDs_subset[numero]+'_nodule_mask.npz.npy'))\n",
    "plt.imshow(mask_real,cmap=pylab.cm.bone)"
   ]
  },
  {
   "cell_type": "code",
   "execution_count": null,
   "metadata": {},
   "outputs": [],
   "source": [
    "#mask_real_full = np.empty((1,512,512,1))\n",
    "#mask_real_full[0,:,:,0] = mask_real\n",
    "#evaluate = model.evaluate(lung_to_predict,mask_real_full,batch_size=1)"
   ]
  },
  {
   "cell_type": "code",
   "execution_count": null,
   "metadata": {},
   "outputs": [],
   "source": [
    "#evaluate[1]"
   ]
  },
  {
   "cell_type": "markdown",
   "metadata": {},
   "source": [
    "#### Evaluate avec seuil et de la bonne volontée"
   ]
  },
  {
   "cell_type": "code",
   "execution_count": 32,
   "metadata": {},
   "outputs": [],
   "source": [
    "'''\n",
    "L'output du réseau de neurones n'est pas binaire, on applique donc un seuil pour avoir un réel masque binaire,\n",
    "ce qui est plus pertinent pour évaluer la qualité des résultats\n",
    "'''\n",
    "\n",
    "def seuil_mask_pred(mask_predict):\n",
    "    for i in range(0, mask_predict.shape[0]):\n",
    "        for j in range(0, mask_predict.shape[1]):\n",
    "            if(mask_predict[i][j] < 0.1 or i > 500 or j >500):\n",
    "                mask_predict[i][j] = 0\n",
    "            else:\n",
    "                mask_predict[i][j] = 1\n",
    "    return(mask_predict)"
   ]
  },
  {
   "cell_type": "code",
   "execution_count": 33,
   "metadata": {},
   "outputs": [],
   "source": [
    "def homemade_precision(y_true_f,y_pred_f):\n",
    "    TP = 0\n",
    "    FP = 0\n",
    "    FN = 0\n",
    "    for i in range(len(y_true_f)):\n",
    "        if (y_pred_f[i] == 1 and y_true_f[i] ==1):\n",
    "            TP += 1\n",
    "        elif (y_pred_f[i] == 0 and y_true_f[i] ==1):\n",
    "            FN += 1\n",
    "        elif (y_pred_f[i] == 1 and y_true_f[i] ==0):\n",
    "            FN += 0\n",
    "    return(TP,FP,FN)"
   ]
  },
  {
   "cell_type": "code",
   "execution_count": 34,
   "metadata": {},
   "outputs": [],
   "source": [
    "def calcul_precision(FOLDER):\n",
    "    precision_list = []\n",
    "    list_IDs_subset = generate_list_ID(FOLDER)\n",
    "    for i,ID in enumerate(list_IDs_subset):\n",
    "        mask_real = np.load(os.path.join(FOLDER,ID +'_nodule_mask.npz.npy'))\n",
    "   \n",
    "        lung_to_predict = np.empty((1,512,512,1))\n",
    "        lung_to_predict[0,:,:,0] = np.load(os.path.join(FOLDER,ID+'_lung_img.npz.npy'))\n",
    "        predict_subset = model.predict(lung_to_predict)\n",
    "        mask_predict = predict_subset[0,:,:,0]\n",
    "        \n",
    "        mask_predict_seuil = seuil_mask_pred(mask_predict)\n",
    "        \n",
    "        y_true_f = mask_real.flatten()\n",
    "        y_pred_f = mask_predict_seuil.flatten()\n",
    "        TP,FP,FN = homemade_precision(y_true_f,y_pred_f)\n",
    "        precision = float(TP)/float(FP+FN+TP)\n",
    "        \n",
    "        precision_list.append(precision)\n",
    "        print(i)\n",
    "        print(precision)\n",
    "    return precision_list\n",
    "        "
   ]
  },
  {
   "cell_type": "code",
   "execution_count": null,
   "metadata": {},
   "outputs": [],
   "source": [
    "#C'est un peu long.., pas très utile de tout exectuer\n",
    "\n",
    "TEST_FOLDER = '/home/lucsoret/Projet/Supelec/CEI/Data/LUNA16/Images/TEST'\n",
    "calcul_precision(TEST_FOLDER)"
   ]
  },
  {
   "cell_type": "code",
   "execution_count": 36,
   "metadata": {},
   "outputs": [],
   "source": [
    "TEST_FOLDER = '/home/lucsoret/Projet/Supelec/CEI/Data/LUNA16/Images/TEST'\n",
    "list_IDs_subset = generate_list_ID(TEST_FOLDER)\n",
    "numero = 30\n",
    "lung_to_predict = np.empty((1,512,512,1))\n",
    "lung_to_predict[0,:,:,0] = np.load(os.path.join(SUBSET_FOLDER,list_IDs_subset[numero]+'_lung_img.npz.npy'))\n",
    "mask_real = np.load(os.path.join(SUBSET_FOLDER,list_IDs_subset[numero]+'_nodule_mask.npz.npy'))\n",
    "predict_subset = model.predict(lung_to_predict)\n",
    "mask_predict = predict_subset[0,:,:,0]"
   ]
  },
  {
   "cell_type": "code",
   "execution_count": 37,
   "metadata": {},
   "outputs": [
    {
     "data": {
      "text/plain": [
       "<matplotlib.image.AxesImage at 0x7fc431b55390>"
      ]
     },
     "execution_count": 37,
     "metadata": {},
     "output_type": "execute_result"
    },
    {
     "data": {
      "image/png": "[encoded data removed]",
      "text/plain": [
       "<matplotlib.figure.Figure at 0x7fc431ca43d0>"
      ]
     },
     "metadata": {},
     "output_type": "display_data"
    }
   ],
   "source": [
    "plt.imshow(lung_to_predict[0,:,:,0],cmap=pylab.cm.bone)"
   ]
  },
  {
   "cell_type": "code",
   "execution_count": 38,
   "metadata": {},
   "outputs": [
    {
     "data": {
      "text/plain": [
       "<matplotlib.image.AxesImage at 0x7fc431ad5290>"
      ]
     },
     "execution_count": 38,
     "metadata": {},
     "output_type": "execute_result"
    },
    {
     "data": {
      "image/png": "[encoded data removed]",
      "text/plain": [
       "<matplotlib.figure.Figure at 0x7fc431c30e50>"
      ]
     },
     "metadata": {},
     "output_type": "display_data"
    }
   ],
   "source": [
    "plt.imshow(mask_real,cmap=pylab.cm.bone)"
   ]
  },
  {
   "cell_type": "code",
   "execution_count": 39,
   "metadata": {},
   "outputs": [
    {
     "data": {
      "text/plain": [
       "<matplotlib.image.AxesImage at 0x7fc431a6df90>"
      ]
     },
     "execution_count": 39,
     "metadata": {},
     "output_type": "execute_result"
    },
    {
     "data": {
      "image/png": "[encoded data removed]",
      "text/plain": [
       "<matplotlib.figure.Figure at 0x7fc431b89ad0>"
      ]
     },
     "metadata": {},
     "output_type": "display_data"
    }
   ],
   "source": [
    "plt.imshow(mask_predict,cmap=pylab.cm.bone)"
   ]
  },
  {
   "cell_type": "markdown",
   "metadata": {},
   "source": [
    "###### Evaluation de la precision"
   ]
  },
  {
   "cell_type": "code",
   "execution_count": 40,
   "metadata": {},
   "outputs": [],
   "source": [
    "'''\n",
    "Precision generee par le script : luna16_precision.py, compter plusieurs heures d'execution\n",
    "'''\n",
    "\n",
    "path ='/home/lucsoret/Projet/Supelec/CEI/Data/LUNA16/UNET/precision'\n",
    "name = os.listdir(path)\n",
    "precision_full = np.load(os.path.join(path,name[0]))\n",
    "precision_partielle_mean = np.load(os.path.join(path,name[1]))\n",
    "precision_mean = np.load(os.path.join(path,name[2]))"
   ]
  },
  {
   "cell_type": "code",
   "execution_count": 41,
   "metadata": {},
   "outputs": [
    {
     "name": "stdout",
     "output_type": "stream",
     "text": [
      "Nombre de 0 sur longueur\n",
      "0.427172582619\n",
      "Precision_mean\n",
      "0.410083698365\n",
      "Precision_partielle_mean\n",
      "0.715893977701\n"
     ]
    }
   ],
   "source": [
    "precision_full.sort()\n",
    "Counter(precision_full)[0]\n",
    "print(\"Nombre de 0 sur longueur\")\n",
    "print(float(Counter(precision_full)[0])/float(len(precision_full)))\n",
    "print(\"Precision_mean\")\n",
    "print(precision_mean)\n",
    "print(\"Precision_partielle_mean\")\n",
    "print(precision_partielle_mean)"
   ]
  }
 ],
 "metadata": {
  "kernelspec": {
   "display_name": "Python 2",
   "language": "python",
   "name": "python2"
  },
  "language_info": {
   "codemirror_mode": {
    "name": "ipython",
    "version": 2
   },
   "file_extension": ".py",
   "mimetype": "text/x-python",
   "name": "python",
   "nbconvert_exporter": "python",
   "pygments_lexer": "ipython2",
   "version": "2.7.14"
  }
 },
 "nbformat": 4,
 "nbformat_minor": 2
}
